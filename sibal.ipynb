{
 "cells": [
  {
   "cell_type": "code",
   "execution_count": 2,
   "metadata": {},
   "outputs": [],
   "source": [
    "import pandas as pd"
   ]
  },
  {
   "cell_type": "code",
   "execution_count": 16,
   "metadata": {},
   "outputs": [
    {
     "data": {
      "text/plain": [
       "'c:\\\\Users\\\\yunji\\\\빅콘\\\\Jeju_MBTI_Travel_Chatbot'"
      ]
     },
     "execution_count": 16,
     "metadata": {},
     "output_type": "execute_result"
    }
   ],
   "source": [
    "pwd"
   ]
  },
  {
   "cell_type": "code",
   "execution_count": 24,
   "metadata": {},
   "outputs": [],
   "source": [
    "df = pd.read_csv('chatbot_arch/data/tour_df/ENFJ/tour_1_ENFJ.csv')"
   ]
  },
  {
   "cell_type": "code",
   "execution_count": 23,
   "metadata": {},
   "outputs": [
    {
     "name": "stdout",
     "output_type": "stream",
     "text": [
      "관광지명: 갈중이 | 주소: 제주특별자치도 서귀포시 사계남로216번길 24-61 갈중이  | 주소_시: 서귀포시 | 장소 카테고리: 관광지 | 대분류: 인문(문화/예술/역사) | 중분류: 체험관광지 | 소분류: 전통체험 | 총 방문자수: 500.0 | 기준월: 1.0 | 월별 방문자수: 36.0 | 월요일방문자수: 7.0 | 화요일방문자수: 7.0 | 수요일방문자수: 5.0 | 목요일방문자수: 3.0 | 금요일방문자수: 1.0 | 토요일방문자수: 2.0 | 일요일방문자수: 11.0 | 정보: '갈중이'은/는 제주특별자치도 서귀포시 사계남로216번길 24-61 갈중이 에 위치한 관광지로, 관광지에 속하며, 대분류: 인문(문화/예술/역사), 중분류: 체험관광지, 소분류: 전통체험입니다. 해당 관광지는 기준월(1.0) 동안 총 500.0명의 방문자를 기록했습니다. 1월 한 달 동안 36.0명이 방문했습니다. 요일별 방문자수는 월요일 7.0명, 화요일 7.0명, 수요일 5.0명, 목요일 3.0명, 금요일 1.0명, 토요일 2.0명, 일요일 11.0명입니다. | 위도: 33.2350546 | 경도: 126.3136741\n"
     ]
    }
   ],
   "source": [
    "def print_row_values(df, row_idx=0):\n",
    "    \"\"\"\n",
    "    데이터프레임의 특정 행의 컬럼명과 값을 한 줄로 출력\n",
    "    \n",
    "    Parameters:\n",
    "    df : pandas DataFrame\n",
    "        출력할 데이터프레임\n",
    "    row_idx : int, default=0\n",
    "        출력할 행 인덱스\n",
    "    \"\"\"\n",
    "    values = [f\"{col}: {df.iloc[row_idx][col]}\" for col in df.columns]\n",
    "    print(\" | \".join(values))\n",
    "\n",
    "# 사용 예시\n",
    "if __name__ == \"__main__\":\n",
    "    import pandas as pd\n",
    "    \n",
    "\n",
    "    \n",
    "    print_row_values(df)  # 출력: name: John | age: 30 | city: Seoul"
   ]
  },
  {
   "cell_type": "code",
   "execution_count": 27,
   "metadata": {},
   "outputs": [
    {
     "data": {
      "text/plain": [
       "array(['체험관광지', '역사관광지', '휴양관광지', '건축/조형물', '산업관광지', '자연관광지', '문화시설'],\n",
       "      dtype=object)"
      ]
     },
     "execution_count": 27,
     "metadata": {},
     "output_type": "execute_result"
    }
   ],
   "source": [
    "df.중분류.unique()"
   ]
  },
  {
   "cell_type": "code",
   "execution_count": 28,
   "metadata": {},
   "outputs": [
    {
     "data": {
      "text/plain": [
       "array(['전통체험', '농.산.어촌 체험', '고궁', '사찰', '관광단지', '공원', '이색거리', '테마공원',\n",
       "       '유명건물', '유적지/사적지', '식음료', '성', '이색체험', '종교성지', '기타', '자연휴양림',\n",
       "       '헬스투어', '유람선/잠수함관광', '민속마을', '박물관', '기념탑/기념비/전망대', '터널'],\n",
       "      dtype=object)"
      ]
     },
     "execution_count": 28,
     "metadata": {},
     "output_type": "execute_result"
    }
   ],
   "source": [
    "df.소분류.unique()"
   ]
  },
  {
   "cell_type": "code",
   "execution_count": null,
   "metadata": {},
   "outputs": [],
   "source": []
  }
 ],
 "metadata": {
  "kernelspec": {
   "display_name": "stenv",
   "language": "python",
   "name": "python3"
  },
  "language_info": {
   "codemirror_mode": {
    "name": "ipython",
    "version": 3
   },
   "file_extension": ".py",
   "mimetype": "text/x-python",
   "name": "python",
   "nbconvert_exporter": "python",
   "pygments_lexer": "ipython3",
   "version": "3.9.20"
  }
 },
 "nbformat": 4,
 "nbformat_minor": 2
}
