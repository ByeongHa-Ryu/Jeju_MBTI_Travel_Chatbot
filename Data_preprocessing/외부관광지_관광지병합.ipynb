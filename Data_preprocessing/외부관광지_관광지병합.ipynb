{
 "cells": [
  {
   "cell_type": "markdown",
   "metadata": {},
   "source": [
    "# 외부 데이터인 Tour API와 주어진 관광지 데이터 병합"
   ]
  },
  {
   "cell_type": "code",
   "execution_count": 1,
   "metadata": {},
   "outputs": [],
   "source": [
    "import pandas as pd\n",
    "import json"
   ]
  },
  {
   "cell_type": "markdown",
   "metadata": {},
   "source": [
    "- 병하 파일 받아야함"
   ]
  },
  {
   "cell_type": "code",
   "execution_count": 2,
   "metadata": {},
   "outputs": [
    {
     "data": {
      "text/html": [
       "<div>\n",
       "<style scoped>\n",
       "    .dataframe tbody tr th:only-of-type {\n",
       "        vertical-align: middle;\n",
       "    }\n",
       "\n",
       "    .dataframe tbody tr th {\n",
       "        vertical-align: top;\n",
       "    }\n",
       "\n",
       "    .dataframe thead th {\n",
       "        text-align: right;\n",
       "    }\n",
       "</style>\n",
       "<table border=\"1\" class=\"dataframe\">\n",
       "  <thead>\n",
       "    <tr style=\"text-align: right;\">\n",
       "      <th></th>\n",
       "      <th>YM</th>\n",
       "      <th>MCT_NM</th>\n",
       "      <th>OP_YMD</th>\n",
       "      <th>MCT_TYPE</th>\n",
       "      <th>ADDR</th>\n",
       "      <th>UE_CNT_GRP</th>\n",
       "      <th>UE_AMT_GRP</th>\n",
       "      <th>UE_AMT_PER_TRSN_GRP</th>\n",
       "      <th>MON_UE_CNT_RAT</th>\n",
       "      <th>TUE_UE_CNT_RAT</th>\n",
       "      <th>...</th>\n",
       "      <th>평일 이용건수</th>\n",
       "      <th>주말 이용건수</th>\n",
       "      <th>현지인</th>\n",
       "      <th>남성</th>\n",
       "      <th>여성</th>\n",
       "      <th>20대이하</th>\n",
       "      <th>30대</th>\n",
       "      <th>40대</th>\n",
       "      <th>50대</th>\n",
       "      <th>60대이상</th>\n",
       "    </tr>\n",
       "  </thead>\n",
       "  <tbody>\n",
       "    <tr>\n",
       "      <th>0</th>\n",
       "      <td>202301</td>\n",
       "      <td>통큰돼지</td>\n",
       "      <td>20110701</td>\n",
       "      <td>가정식</td>\n",
       "      <td>제주 제주시 용담이동 2682-9번지 통큰돼지</td>\n",
       "      <td>2_10~25%</td>\n",
       "      <td>3_25~50%</td>\n",
       "      <td>4_50~75%</td>\n",
       "      <td>0.161290</td>\n",
       "      <td>0.032258</td>\n",
       "      <td>...</td>\n",
       "      <td>52.258065</td>\n",
       "      <td>37.741935</td>\n",
       "      <td>63.698630</td>\n",
       "      <td>54.90</td>\n",
       "      <td>35.10</td>\n",
       "      <td>9.27</td>\n",
       "      <td>11.16</td>\n",
       "      <td>22.05</td>\n",
       "      <td>34.83</td>\n",
       "      <td>12.78</td>\n",
       "    </tr>\n",
       "    <tr>\n",
       "      <th>1</th>\n",
       "      <td>202301</td>\n",
       "      <td>해변</td>\n",
       "      <td>20050407</td>\n",
       "      <td>단품요리 전문</td>\n",
       "      <td>제주 제주시 애월읍 애월리 410-6번지</td>\n",
       "      <td>4_50~75%</td>\n",
       "      <td>5_75~90%</td>\n",
       "      <td>5_75~90%</td>\n",
       "      <td>0.090909</td>\n",
       "      <td>0.121212</td>\n",
       "      <td>...</td>\n",
       "      <td>40.303030</td>\n",
       "      <td>29.696970</td>\n",
       "      <td>16.164948</td>\n",
       "      <td>37.94</td>\n",
       "      <td>32.06</td>\n",
       "      <td>15.47</td>\n",
       "      <td>14.07</td>\n",
       "      <td>13.65</td>\n",
       "      <td>17.08</td>\n",
       "      <td>9.73</td>\n",
       "    </tr>\n",
       "    <tr>\n",
       "      <th>2</th>\n",
       "      <td>202301</td>\n",
       "      <td>한그릇</td>\n",
       "      <td>20120919</td>\n",
       "      <td>단품요리 전문</td>\n",
       "      <td>제주 서귀포시 색달동 2315-1번지 한그릇</td>\n",
       "      <td>4_50~75%</td>\n",
       "      <td>4_50~75%</td>\n",
       "      <td>3_25~50%</td>\n",
       "      <td>0.224719</td>\n",
       "      <td>0.112360</td>\n",
       "      <td>...</td>\n",
       "      <td>40.112360</td>\n",
       "      <td>29.887640</td>\n",
       "      <td>24.294118</td>\n",
       "      <td>37.03</td>\n",
       "      <td>32.97</td>\n",
       "      <td>9.66</td>\n",
       "      <td>21.63</td>\n",
       "      <td>23.94</td>\n",
       "      <td>11.48</td>\n",
       "      <td>3.29</td>\n",
       "    </tr>\n",
       "    <tr>\n",
       "      <th>3</th>\n",
       "      <td>202301</td>\n",
       "      <td>협재해녀의집</td>\n",
       "      <td>20130627</td>\n",
       "      <td>가정식</td>\n",
       "      <td>제주 제주시 한림읍 협재리 1459-2번지</td>\n",
       "      <td>4_50~75%</td>\n",
       "      <td>4_50~75%</td>\n",
       "      <td>3_25~50%</td>\n",
       "      <td>0.000000</td>\n",
       "      <td>0.271739</td>\n",
       "      <td>...</td>\n",
       "      <td>47.934783</td>\n",
       "      <td>22.065217</td>\n",
       "      <td>1.126687</td>\n",
       "      <td>33.88</td>\n",
       "      <td>36.12</td>\n",
       "      <td>22.61</td>\n",
       "      <td>22.47</td>\n",
       "      <td>14.63</td>\n",
       "      <td>7.63</td>\n",
       "      <td>2.73</td>\n",
       "    </tr>\n",
       "    <tr>\n",
       "      <th>4</th>\n",
       "      <td>202301</td>\n",
       "      <td>까망꼬숑</td>\n",
       "      <td>20220826</td>\n",
       "      <td>단품요리 전문</td>\n",
       "      <td>제주 제주시 노형동 3784-12번지 1층</td>\n",
       "      <td>2_10~25%</td>\n",
       "      <td>4_50~75%</td>\n",
       "      <td>5_75~90%</td>\n",
       "      <td>0.272727</td>\n",
       "      <td>0.121212</td>\n",
       "      <td>...</td>\n",
       "      <td>68.181818</td>\n",
       "      <td>21.818182</td>\n",
       "      <td>23.801653</td>\n",
       "      <td>46.17</td>\n",
       "      <td>43.83</td>\n",
       "      <td>37.08</td>\n",
       "      <td>27.99</td>\n",
       "      <td>15.84</td>\n",
       "      <td>6.84</td>\n",
       "      <td>2.25</td>\n",
       "    </tr>\n",
       "    <tr>\n",
       "      <th>...</th>\n",
       "      <td>...</td>\n",
       "      <td>...</td>\n",
       "      <td>...</td>\n",
       "      <td>...</td>\n",
       "      <td>...</td>\n",
       "      <td>...</td>\n",
       "      <td>...</td>\n",
       "      <td>...</td>\n",
       "      <td>...</td>\n",
       "      <td>...</td>\n",
       "      <td>...</td>\n",
       "      <td>...</td>\n",
       "      <td>...</td>\n",
       "      <td>...</td>\n",
       "      <td>...</td>\n",
       "      <td>...</td>\n",
       "      <td>...</td>\n",
       "      <td>...</td>\n",
       "      <td>...</td>\n",
       "      <td>...</td>\n",
       "      <td>...</td>\n",
       "    </tr>\n",
       "    <tr>\n",
       "      <th>67921</th>\n",
       "      <td>202312</td>\n",
       "      <td>미나리</td>\n",
       "      <td>20230630</td>\n",
       "      <td>가정식</td>\n",
       "      <td>제주 제주시 연동 291-24번지 연동</td>\n",
       "      <td>4_50~75%</td>\n",
       "      <td>5_75~90%</td>\n",
       "      <td>3_25~50%</td>\n",
       "      <td>0.192000</td>\n",
       "      <td>0.216000</td>\n",
       "      <td>...</td>\n",
       "      <td>70.000000</td>\n",
       "      <td>0.000000</td>\n",
       "      <td>50.726351</td>\n",
       "      <td>38.22</td>\n",
       "      <td>31.78</td>\n",
       "      <td>6.37</td>\n",
       "      <td>18.27</td>\n",
       "      <td>21.91</td>\n",
       "      <td>16.87</td>\n",
       "      <td>6.58</td>\n",
       "    </tr>\n",
       "    <tr>\n",
       "      <th>67922</th>\n",
       "      <td>202312</td>\n",
       "      <td>종달리엔심야식당</td>\n",
       "      <td>20210513</td>\n",
       "      <td>가정식</td>\n",
       "      <td>제주 제주시 구좌읍 종달리 1935-1번지 1층</td>\n",
       "      <td>3_25~50%</td>\n",
       "      <td>3_25~50%</td>\n",
       "      <td>4_50~75%</td>\n",
       "      <td>0.150000</td>\n",
       "      <td>0.150000</td>\n",
       "      <td>...</td>\n",
       "      <td>38.000000</td>\n",
       "      <td>42.000000</td>\n",
       "      <td>1.104536</td>\n",
       "      <td>20.08</td>\n",
       "      <td>59.92</td>\n",
       "      <td>40.32</td>\n",
       "      <td>28.08</td>\n",
       "      <td>6.16</td>\n",
       "      <td>4.16</td>\n",
       "      <td>1.36</td>\n",
       "    </tr>\n",
       "    <tr>\n",
       "      <th>67923</th>\n",
       "      <td>202312</td>\n",
       "      <td>경일낙지</td>\n",
       "      <td>20020112</td>\n",
       "      <td>단품요리 전문</td>\n",
       "      <td>제주 제주시 노형동 1291-3번지</td>\n",
       "      <td>5_75~90%</td>\n",
       "      <td>5_75~90%</td>\n",
       "      <td>3_25~50%</td>\n",
       "      <td>0.179310</td>\n",
       "      <td>0.241379</td>\n",
       "      <td>...</td>\n",
       "      <td>60.000000</td>\n",
       "      <td>0.000000</td>\n",
       "      <td>49.504950</td>\n",
       "      <td>25.44</td>\n",
       "      <td>34.56</td>\n",
       "      <td>3.24</td>\n",
       "      <td>13.08</td>\n",
       "      <td>22.74</td>\n",
       "      <td>15.78</td>\n",
       "      <td>5.16</td>\n",
       "    </tr>\n",
       "    <tr>\n",
       "      <th>67924</th>\n",
       "      <td>202312</td>\n",
       "      <td>흑돼지가있는풍경</td>\n",
       "      <td>20040109</td>\n",
       "      <td>가정식</td>\n",
       "      <td>제주 제주시 노형동 668번지</td>\n",
       "      <td>2_10~25%</td>\n",
       "      <td>5_75~90%</td>\n",
       "      <td>6_90% 초과</td>\n",
       "      <td>0.066667</td>\n",
       "      <td>0.000000</td>\n",
       "      <td>...</td>\n",
       "      <td>42.000000</td>\n",
       "      <td>48.000000</td>\n",
       "      <td>17.701422</td>\n",
       "      <td>51.66</td>\n",
       "      <td>38.34</td>\n",
       "      <td>9.81</td>\n",
       "      <td>16.92</td>\n",
       "      <td>19.17</td>\n",
       "      <td>27.45</td>\n",
       "      <td>16.65</td>\n",
       "    </tr>\n",
       "    <tr>\n",
       "      <th>67925</th>\n",
       "      <td>202312</td>\n",
       "      <td>에이바우트커피삼무공원점</td>\n",
       "      <td>20200602</td>\n",
       "      <td>커피</td>\n",
       "      <td>제주 제주시 연동 260-21번지 1층</td>\n",
       "      <td>6_90% 초과</td>\n",
       "      <td>4_50~75%</td>\n",
       "      <td>1_상위 10% 이하</td>\n",
       "      <td>0.105925</td>\n",
       "      <td>0.125673</td>\n",
       "      <td>...</td>\n",
       "      <td>36.175943</td>\n",
       "      <td>13.824057</td>\n",
       "      <td>23.559671</td>\n",
       "      <td>25.10</td>\n",
       "      <td>24.90</td>\n",
       "      <td>15.30</td>\n",
       "      <td>14.70</td>\n",
       "      <td>9.35</td>\n",
       "      <td>7.70</td>\n",
       "      <td>2.95</td>\n",
       "    </tr>\n",
       "  </tbody>\n",
       "</table>\n",
       "<p>67926 rows × 46 columns</p>\n",
       "</div>"
      ],
      "text/plain": [
       "           YM        MCT_NM    OP_YMD MCT_TYPE                        ADDR  \\\n",
       "0      202301          통큰돼지  20110701      가정식   제주 제주시 용담이동 2682-9번지 통큰돼지   \n",
       "1      202301            해변  20050407  단품요리 전문      제주 제주시 애월읍 애월리 410-6번지   \n",
       "2      202301           한그릇  20120919  단품요리 전문    제주 서귀포시 색달동 2315-1번지 한그릇   \n",
       "3      202301        협재해녀의집  20130627      가정식     제주 제주시 한림읍 협재리 1459-2번지   \n",
       "4      202301          까망꼬숑  20220826  단품요리 전문     제주 제주시 노형동 3784-12번지 1층   \n",
       "...       ...           ...       ...      ...                         ...   \n",
       "67921  202312           미나리  20230630      가정식       제주 제주시 연동 291-24번지 연동   \n",
       "67922  202312      종달리엔심야식당  20210513      가정식  제주 제주시 구좌읍 종달리 1935-1번지 1층   \n",
       "67923  202312          경일낙지  20020112  단품요리 전문         제주 제주시 노형동 1291-3번지   \n",
       "67924  202312      흑돼지가있는풍경  20040109      가정식            제주 제주시 노형동 668번지   \n",
       "67925  202312  에이바우트커피삼무공원점  20200602       커피       제주 제주시 연동 260-21번지 1층   \n",
       "\n",
       "      UE_CNT_GRP UE_AMT_GRP UE_AMT_PER_TRSN_GRP  MON_UE_CNT_RAT  \\\n",
       "0       2_10~25%   3_25~50%            4_50~75%        0.161290   \n",
       "1       4_50~75%   5_75~90%            5_75~90%        0.090909   \n",
       "2       4_50~75%   4_50~75%            3_25~50%        0.224719   \n",
       "3       4_50~75%   4_50~75%            3_25~50%        0.000000   \n",
       "4       2_10~25%   4_50~75%            5_75~90%        0.272727   \n",
       "...          ...        ...                 ...             ...   \n",
       "67921   4_50~75%   5_75~90%            3_25~50%        0.192000   \n",
       "67922   3_25~50%   3_25~50%            4_50~75%        0.150000   \n",
       "67923   5_75~90%   5_75~90%            3_25~50%        0.179310   \n",
       "67924   2_10~25%   5_75~90%            6_90% 초과        0.066667   \n",
       "67925   6_90% 초과   4_50~75%         1_상위 10% 이하        0.105925   \n",
       "\n",
       "       TUE_UE_CNT_RAT  ...    평일 이용건수    주말 이용건수        현지인     남성     여성  \\\n",
       "0            0.032258  ...  52.258065  37.741935  63.698630  54.90  35.10   \n",
       "1            0.121212  ...  40.303030  29.696970  16.164948  37.94  32.06   \n",
       "2            0.112360  ...  40.112360  29.887640  24.294118  37.03  32.97   \n",
       "3            0.271739  ...  47.934783  22.065217   1.126687  33.88  36.12   \n",
       "4            0.121212  ...  68.181818  21.818182  23.801653  46.17  43.83   \n",
       "...               ...  ...        ...        ...        ...    ...    ...   \n",
       "67921        0.216000  ...  70.000000   0.000000  50.726351  38.22  31.78   \n",
       "67922        0.150000  ...  38.000000  42.000000   1.104536  20.08  59.92   \n",
       "67923        0.241379  ...  60.000000   0.000000  49.504950  25.44  34.56   \n",
       "67924        0.000000  ...  42.000000  48.000000  17.701422  51.66  38.34   \n",
       "67925        0.125673  ...  36.175943  13.824057  23.559671  25.10  24.90   \n",
       "\n",
       "       20대이하    30대    40대    50대  60대이상  \n",
       "0       9.27  11.16  22.05  34.83  12.78  \n",
       "1      15.47  14.07  13.65  17.08   9.73  \n",
       "2       9.66  21.63  23.94  11.48   3.29  \n",
       "3      22.61  22.47  14.63   7.63   2.73  \n",
       "4      37.08  27.99  15.84   6.84   2.25  \n",
       "...      ...    ...    ...    ...    ...  \n",
       "67921   6.37  18.27  21.91  16.87   6.58  \n",
       "67922  40.32  28.08   6.16   4.16   1.36  \n",
       "67923   3.24  13.08  22.74  15.78   5.16  \n",
       "67924   9.81  16.92  19.17  27.45  16.65  \n",
       "67925  15.30  14.70   9.35   7.70   2.95  \n",
       "\n",
       "[67926 rows x 46 columns]"
      ]
     },
     "execution_count": 2,
     "metadata": {},
     "output_type": "execute_result"
    }
   ],
   "source": [
    "mct = pd.read_csv('./data/MCT_processed.csv')\n",
    "mct"
   ]
  },
  {
   "cell_type": "markdown",
   "metadata": {},
   "source": [
    "# 관광지 데이터 전처리"
   ]
  },
  {
   "cell_type": "code",
   "execution_count": 3,
   "metadata": {},
   "outputs": [],
   "source": [
    "tour_sentiment = pd.read_csv('data/제주_관광_데이터/제주 관광지 평점리뷰 감성분석 데이터/JT_PORTAL_SITE_AVRG_SCORE_REVIEW_STANL_INFO_202306.csv')\n",
    "tour_element = pd.read_csv('data/제주_관광_데이터/제주 관광지 평점리뷰 형태소 데이터/JT_PORTAL_SITE_AVRG_SCORE_REVIEW_MOP_INFO_202301.csv')\n",
    "tour_month = pd.read_csv('data/제주_관광_데이터/제주 관광수요 예측 데이터_비짓제주 월별 데이터/JT_MT_ACCTO_TRRSRT_SCCNT_LIST_202301.csv')\n",
    "tour_week = pd.read_csv('data/제주_관광_데이터/제주 관광수요 예측 데이터_비짓제주 요일별 데이터/JT_WKDAY_ACCTO_TRRSRT_SCCNT_LIST_202301.csv')"
   ]
  },
  {
   "cell_type": "markdown",
   "metadata": {},
   "source": [
    "- 제공받은 관광지 데이터에서 관광지명 추출, 중복값 제거"
   ]
  },
  {
   "cell_type": "code",
   "execution_count": 7,
   "metadata": {},
   "outputs": [],
   "source": [
    "tour_sentiment_name = tour_sentiment['TRRSRT_NM']\n",
    "tour_element_name = tour_element['TRRSRT_NM']\n",
    "tour_month_name = tour_month['AREA_NM']\n",
    "tour_week_name = tour_week['AREA_NM']\n",
    "whole_tour_name = pd.concat([tour_sentiment_name, tour_element_name, tour_month_name, tour_week_name])\n",
    "whole_tour_name = whole_tour_name.drop_duplicates()"
   ]
  },
  {
   "cell_type": "code",
   "execution_count": 9,
   "metadata": {},
   "outputs": [],
   "source": [
    "whole_tour_name.reset_index(drop=True, inplace=True)"
   ]
  },
  {
   "cell_type": "code",
   "execution_count": 10,
   "metadata": {},
   "outputs": [],
   "source": [
    "# 외부 데이터 관광지명 추출\n",
    "\n",
    "with open('openapi/jeju_total.json','r') as f:\n",
    "    api_jeju = json.load(f)\n",
    "api_name = []\n",
    "for k,v in api_jeju['contents'].items():\n",
    "    api_name.append(k)"
   ]
  },
  {
   "cell_type": "markdown",
   "metadata": {},
   "source": [
    "# 관광지 데이터와 외부 관광지 데이터 관광지명 중복값 추출"
   ]
  },
  {
   "cell_type": "code",
   "execution_count": 12,
   "metadata": {},
   "outputs": [],
   "source": [
    "import re\n",
    "\n",
    "def find_text_between_special_characters(text):\n",
    "    pattern = r'(\\(|\\[)([^\\(\\)\\[\\]]+?)(\\)|\\])'\n",
    "    matches = re.findall(pattern, text)\n",
    "    return [''.join(match) for match in matches]"
   ]
  },
  {
   "cell_type": "code",
   "execution_count": 13,
   "metadata": {},
   "outputs": [],
   "source": [
    "whole_tour_name = [str(x) for x in whole_tour_name]\n",
    "\n",
    "for i in range(len(whole_tour_name)):\n",
    "    result = find_text_between_special_characters(whole_tour_name[i])\n",
    "    if result:\n",
    "        whole_tour_name[i] = whole_tour_name[i].replace(result[0],'')\n",
    "    whole_tour_name[i] = whole_tour_name[i].replace(' ', '')\n",
    "        "
   ]
  },
  {
   "cell_type": "code",
   "execution_count": 14,
   "metadata": {},
   "outputs": [],
   "source": [
    "dup_name = []\n",
    "for name in whole_tour_name:\n",
    "    if name in api_name:\n",
    "        dup_name.append(name)"
   ]
  },
  {
   "cell_type": "code",
   "execution_count": 15,
   "metadata": {},
   "outputs": [
    {
     "data": {
      "text/plain": [
       "863"
      ]
     },
     "execution_count": 15,
     "metadata": {},
     "output_type": "execute_result"
    }
   ],
   "source": [
    "# 총 863개 겹침\n",
    "len(dup_name)"
   ]
  },
  {
   "cell_type": "code",
   "execution_count": 8,
   "metadata": {},
   "outputs": [],
   "source": [
    "dup_tour_week = tour_week.loc[tour_week['AREA_NM'].apply(lambda x: x in dup_name)]"
   ]
  },
  {
   "cell_type": "code",
   "execution_count": 79,
   "metadata": {},
   "outputs": [
    {
     "data": {
      "text/plain": [
       "CL_NM\n",
       "음식점    1724\n",
       "관광지    1143\n",
       "숙박      975\n",
       "쇼핑      140\n",
       "Name: count, dtype: int64"
      ]
     },
     "execution_count": 79,
     "metadata": {},
     "output_type": "execute_result"
    }
   ],
   "source": [
    "tour_week.CL_NM.value_counts()"
   ]
  },
  {
   "cell_type": "code",
   "execution_count": 70,
   "metadata": {},
   "outputs": [
    {
     "data": {
      "text/plain": [
       "CL_NM\n",
       "음식점    303\n",
       "관광지    299\n",
       "숙박      64\n",
       "쇼핑      19\n",
       "Name: count, dtype: int64"
      ]
     },
     "execution_count": 70,
     "metadata": {},
     "output_type": "execute_result"
    }
   ],
   "source": [
    "dup_tour_week.CL_NM.value_counts()"
   ]
  },
  {
   "cell_type": "markdown",
   "metadata": {},
   "source": [
    "- 병하 데이터 불러오기"
   ]
  },
  {
   "cell_type": "code",
   "execution_count": 38,
   "metadata": {},
   "outputs": [],
   "source": [
    "tour_emo = pd.read_csv('data/tour_emo.csv')\n",
    "tour_month = pd.read_csv('data/tour_month.csv')\n",
    "tour_sylab = pd.read_csv('data/tour_sylab.csv')\n",
    "tour_week = pd.read_csv('data/tour_week.csv')\n",
    "\n",
    "tour_emo['TRRSRT_NM'] = tour_emo['TRRSRT_NM'].apply(lambda x: x.replace(find_text_between_special_characters(x)[0],'') if find_text_between_special_characters(x) else x)\n",
    "tour_emo['TRRSRT_NM'] = tour_emo['TRRSRT_NM'].apply(lambda x: x.replace(' ', ''))\n",
    "tour_sylab['TRRSRT_NM'] = tour_sylab['TRRSRT_NM'].apply(lambda x: x.replace(find_text_between_special_characters(x)[0],'') if find_text_between_special_characters(x) else x)\n",
    "tour_sylab['TRRSRT_NM'] = tour_sylab['TRRSRT_NM'].apply(lambda x: x.replace(' ', ''))\n",
    "tour_month['AREA_NM'] = tour_month['AREA_NM'].apply(lambda x: x.replace(find_text_between_special_characters(x)[0],'') if find_text_between_special_characters(x) else x)\n",
    "tour_month['AREA_NM'] = tour_month['AREA_NM'].apply(lambda x: x.replace(' ', ''))\n",
    "tour_week['AREA_NM'] = tour_week['AREA_NM'].apply(lambda x: x.replace(find_text_between_special_characters(x)[0],'') if find_text_between_special_characters(x) else x)\n",
    "tour_week['AREA_NM'] = tour_week['AREA_NM'].apply(lambda x: x.replace(' ', ''))\n"
   ]
  },
  {
   "cell_type": "code",
   "execution_count": 39,
   "metadata": {},
   "outputs": [],
   "source": [
    "#tour_emo = tour_emo.loc[tour_emo['TRRSRT_NM'].apply(lambda x: x in dup_name)]\n",
    "#tour_sylab = tour_sylab.loc[tour_sylab['TRRSRT_NM'].apply(lambda x: x in dup_name)]\n",
    "\n",
    "# 관광지 감성분석과 형태소 분석 데이터는 관광지명 종류가 매우 적으므로 제외함.\n",
    "\n",
    "tour_month = tour_month.loc[tour_month['AREA_NM'].apply(lambda x: x in dup_name)]\n",
    "tour_week = tour_week.loc[tour_week['AREA_NM'].apply(lambda x: x in dup_name)]\n"
   ]
  },
  {
   "cell_type": "code",
   "execution_count": 18,
   "metadata": {},
   "outputs": [],
   "source": [
    "api_jeju_df = pd.DataFrame(api_jeju['contents']).T"
   ]
  },
  {
   "cell_type": "code",
   "execution_count": 19,
   "metadata": {},
   "outputs": [],
   "source": [
    "api_jeju_df.reset_index(inplace=True)"
   ]
  },
  {
   "cell_type": "code",
   "execution_count": 20,
   "metadata": {},
   "outputs": [],
   "source": [
    "api_jeju_df.rename(columns={'index':'AREA_NM'},inplace=True)"
   ]
  },
  {
   "cell_type": "code",
   "execution_count": 21,
   "metadata": {},
   "outputs": [],
   "source": [
    "api_jeju_df['AREA_NM'] = api_jeju_df['AREA_NM'].apply(lambda x: x.replace(find_text_between_special_characters(x)[0],'') if find_text_between_special_characters(x) else x)\n",
    "api_jeju_df['AREA_NM'] = api_jeju_df['AREA_NM'].apply(lambda x: x.replace(' ', ''))"
   ]
  },
  {
   "cell_type": "code",
   "execution_count": 40,
   "metadata": {},
   "outputs": [],
   "source": [
    "api_jeju_df = api_jeju_df.loc[api_jeju_df['AREA_NM'].apply(lambda x: x in dup_name)]\n",
    "#tour_emo = tour_emo.loc[tour_emo['TRRSRT_NM'].apply(lambda x: x in dup_name)]\n",
    "#tour_sylab = tour_sylab.loc[tour_sylab['TRRSRT_NM'].apply(lambda x: x in dup_name)]\n",
    "tour_month = tour_month.loc[tour_month['AREA_NM'].apply(lambda x: x in dup_name)]\n",
    "tour_week = tour_week.loc[tour_week['AREA_NM'].apply(lambda x: x in dup_name)]"
   ]
  },
  {
   "cell_type": "code",
   "execution_count": 24,
   "metadata": {},
   "outputs": [],
   "source": [
    "api_jeju_df.drop(columns=['booktour'],inplace=True)"
   ]
  },
  {
   "cell_type": "code",
   "execution_count": 53,
   "metadata": {},
   "outputs": [],
   "source": [
    "tour_month = tour_month.groupby(['AREA_NM']).sum().reset_index()"
   ]
  },
  {
   "cell_type": "code",
   "execution_count": 54,
   "metadata": {},
   "outputs": [],
   "source": [
    "tour_month.drop(columns=['CL_CD','CL_NM','ADDR','BASE_YEAR'],inplace=True)"
   ]
  },
  {
   "cell_type": "code",
   "execution_count": 63,
   "metadata": {},
   "outputs": [],
   "source": [
    "tour_month.rename(columns={'ALL_TOTAL_CO': '총 방문자수'},inplace=True)"
   ]
  },
  {
   "cell_type": "markdown",
   "metadata": {},
   "source": [
    "### 외부데이터와 관광지데이터 겹치는 데이터 병합, \n",
    "### 월별, 요일별 데이터 병합\n",
    "### 컬럼명 변경"
   ]
  },
  {
   "cell_type": "code",
   "execution_count": 92,
   "metadata": {},
   "outputs": [
    {
     "name": "stderr",
     "output_type": "stream",
     "text": [
      "/var/folders/y3/l8bvkgx53cd0nbrk2b450t7m0000gn/T/ipykernel_6182/3667516696.py:4: SettingWithCopyWarning: \n",
      "A value is trying to be set on a copy of a slice from a DataFrame\n",
      "\n",
      "See the caveats in the documentation: https://pandas.pydata.org/pandas-docs/stable/user_guide/indexing.html#returning-a-view-versus-a-copy\n",
      "  dfs[f'tour_week_{i}'].rename(columns={'ALL_TOTAL_CO':f'{i}월 방문자수'},inplace=True)\n"
     ]
    }
   ],
   "source": [
    "dfs = {}\n",
    "for i in range(1,13):\n",
    "    dfs[f'tour_week_{i}'] = tour_week.loc[tour_week['BASE_MT'] == i]\n",
    "    dfs[f'tour_week_{i}'].rename(columns={'ALL_TOTAL_CO':f'{i}월 방문자수'},inplace=True)\n"
   ]
  },
  {
   "cell_type": "code",
   "execution_count": 93,
   "metadata": {},
   "outputs": [],
   "source": [
    "for i in range(1,13):\n",
    "    dfs[f'tour_week_{i}'] = pd.merge(dfs[f'tour_week_{i}'],tour_month.iloc[:,[0,1]],on='AREA_NM',how='left')\n",
    "    dfs[f'tour_week_{i}'].drop(columns=['CL_CD','CL_NM','ADDR','BASE_YEAR'],inplace=True)\n",
    "    dfs[f'tour_week_{i}'] = pd.merge(api_jeju_df,dfs[f'tour_week_{i}'],on='AREA_NM',how='left')\n",
    "    dfs[f'tour_week_{i}'].rename(columns={'AREA_NM':'관광지명','addr':'주소','contenttypeid':'장소 카테고리','cat1':'대분류',\n",
    "                                          'cat2':'중분류','cat3':'소분류','BASE_MT':'기준월','MON_VIEWS_CO':'월요일방문자수','TUES_VIEWS_CO':'화요일방문자수','WED_VIEWS_CO':'수요일방문자수',\n",
    "                                            'THUR_VIEWS_CO':'목요일방문자수','FRI_VIEWS_CO':'금요일방문자수','SAT_VIEWS_CO':'토요일방문자수','SUN_VIEWS_CO':'일요일방문자수'  },inplace=True)\n",
    "    dfs[f'tour_week_{i}'] = dfs[f'tour_week_{i}'][['관광지명', '주소', '장소 카테고리', '대분류', '중분류', '소분류', '총 방문자수','기준월', f'{i}월 방문자수',\n",
    "                                                  '월요일방문자수', '화요일방문자수', '수요일방문자수', '목요일방문자수', '금요일방문자수', '토요일방문자수',\n",
    "                                                  '일요일방문자수']]\n",
    "    dfs[f'tour_week_{i}'].dropna(inplace=True)\n",
    "    dfs[f'tour_week_{i}'].to_csv(f'data/tour_df/original/tour_{i}.csv',index=False)"
   ]
  }
 ],
 "metadata": {
  "kernelspec": {
   "display_name": "bigcon",
   "language": "python",
   "name": "python3"
  },
  "language_info": {
   "codemirror_mode": {
    "name": "ipython",
    "version": 3
   },
   "file_extension": ".py",
   "mimetype": "text/x-python",
   "name": "python",
   "nbconvert_exporter": "python",
   "pygments_lexer": "ipython3",
   "version": "3.11.10"
  }
 },
 "nbformat": 4,
 "nbformat_minor": 2
}
