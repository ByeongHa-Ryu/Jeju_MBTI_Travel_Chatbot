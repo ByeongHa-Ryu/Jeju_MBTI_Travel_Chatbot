{
 "cells": [
  {
   "cell_type": "markdown",
   "metadata": {},
   "source": [
    "# Tour API로 제주도에 있는 관광지 정보 추출"
   ]
  },
  {
   "cell_type": "code",
   "execution_count": 1,
   "metadata": {},
   "outputs": [],
   "source": [
    "import pandas as pd\n",
    "import requests\n",
    "import json\n",
    "import os"
   ]
  },
  {
   "cell_type": "code",
   "execution_count": 3,
   "metadata": {},
   "outputs": [],
   "source": [
    "csvs = os.listdir('data/제주_관광_데이터/제주 관광수요 예측 데이터_비짓제주 요일별 데이터')"
   ]
  },
  {
   "cell_type": "code",
   "execution_count": 5,
   "metadata": {},
   "outputs": [],
   "source": [
    "csvs.remove(\"제주 관광수요예측 데이터_비짓제주_요일별_컬럼정의서.xls\")"
   ]
  },
  {
   "cell_type": "code",
   "execution_count": 16,
   "metadata": {},
   "outputs": [],
   "source": [
    "df1 = pd.read_csv('data/제주_관광_데이터/제주 관광수요 예측 데이터_비짓제주 요일별 데이터/JT_WKDAY_ACCTO_TRRSRT_SCCNT_LIST_202308.csv')\n",
    "df2 = pd.read_csv('data/JEJU_MCT_DATA.csv',encoding='cp949')"
   ]
  },
  {
   "cell_type": "code",
   "execution_count": 11,
   "metadata": {},
   "outputs": [
    {
     "data": {
      "text/plain": [
       "0        브랭섬홀아시아 아이스링크\n",
       "1       (주)제주해양레저 투명카약\n",
       "2          1100고지(휴게소)\n",
       "3             1100고지습지\n",
       "4               1112도로\n",
       "             ...      \n",
       "4525               흑소랑\n",
       "4526             흑염소마루\n",
       "4527            흑한우명품관\n",
       "4528              희신이네\n",
       "4529                힌즈\n",
       "Name: AREA_NM, Length: 4530, dtype: object"
      ]
     },
     "execution_count": 11,
     "metadata": {},
     "output_type": "execute_result"
    }
   ],
   "source": [
    "df1['AREA_NM']"
   ]
  },
  {
   "cell_type": "code",
   "execution_count": 2,
   "metadata": {},
   "outputs": [],
   "source": [
    "api_key = ## '6Oa%2FW5VE%2FlS9M1L1C9Lhp%2FVWp5ugIonT7A%2BdGNaG0lzy88CLt5ALE%2Ff8awzc15fZREcqpcxJaLrFtF%2FnTrPjug%3D%3D'"
   ]
  },
  {
   "cell_type": "code",
   "execution_count": null,
   "metadata": {},
   "outputs": [],
   "source": [
    "# 음식 39 쇼핑 38 문화시설 14 관광지 12 숙박 32\n",
    "# jeju 39"
   ]
  },
  {
   "cell_type": "code",
   "execution_count": 15,
   "metadata": {},
   "outputs": [
    {
     "name": "stdout",
     "output_type": "stream",
     "text": [
      "{\"response\": {\"header\":{\"resultCode\":\"0000\",\"resultMsg\":\"OK\"},\"body\": {\"items\": {\"item\":[{\"totalCnt\":2414}]},\"numOfRows\":1,\"pageNo\":1,\"totalCount\":1}}}\n"
     ]
    }
   ],
   "source": [
    "#content_type=32\n",
    "url = f\"http://apis.data.go.kr/B551011/KorService1/areaBasedList1?serviceKey={api_key}&listYN=N&areaCode=39&MobileOS=ETC&MobileApp=AppTest&_type=json\"\n",
    "response = requests.get(url)\n",
    "print(response.text)"
   ]
  },
  {
   "cell_type": "code",
   "execution_count": 4,
   "metadata": {},
   "outputs": [],
   "source": [
    "contents_list=[]\n",
    "\n",
    "for page_num in range(1, (2414//50)):\n",
    "    #content_type = '32'\n",
    "\n",
    "    numOfRows = '50'\n",
    "    url = f\"http://apis.data.go.kr/B551011/KorService1/areaBasedList1?serviceKey={api_key}&numOfRows={numOfRows}&pageNo={page_num}&areaCode=39&MobileOS=ETC&MobileApp=AppTest&_type=json\"\n",
    "    response = requests.get(url)\n",
    "    contents = response.text\n",
    "    contents = json.loads(contents)\n",
    "    contents_list.append(contents)\n"
   ]
  },
  {
   "cell_type": "code",
   "execution_count": 24,
   "metadata": {},
   "outputs": [],
   "source": [
    "#!pip install openpyxl\n",
    "df = pd.read_excel('type.xlsx')"
   ]
  },
  {
   "cell_type": "code",
   "execution_count": 25,
   "metadata": {},
   "outputs": [
    {
     "data": {
      "text/html": [
       "<div>\n",
       "<style scoped>\n",
       "    .dataframe tbody tr th:only-of-type {\n",
       "        vertical-align: middle;\n",
       "    }\n",
       "\n",
       "    .dataframe tbody tr th {\n",
       "        vertical-align: top;\n",
       "    }\n",
       "\n",
       "    .dataframe thead th {\n",
       "        text-align: right;\n",
       "    }\n",
       "</style>\n",
       "<table border=\"1\" class=\"dataframe\">\n",
       "  <thead>\n",
       "    <tr style=\"text-align: right;\">\n",
       "      <th></th>\n",
       "      <th>대분류 (cat1)</th>\n",
       "      <th>중분류 (cat2)</th>\n",
       "      <th>소분류 (cat3)</th>\n",
       "      <th>대분류</th>\n",
       "      <th>중분류</th>\n",
       "      <th>소분류</th>\n",
       "    </tr>\n",
       "  </thead>\n",
       "  <tbody>\n",
       "    <tr>\n",
       "      <th>4</th>\n",
       "      <td>A01</td>\n",
       "      <td>A0101</td>\n",
       "      <td>A01010100</td>\n",
       "      <td>자연</td>\n",
       "      <td>자연관광지</td>\n",
       "      <td>국립공원</td>\n",
       "    </tr>\n",
       "    <tr>\n",
       "      <th>5</th>\n",
       "      <td>A01</td>\n",
       "      <td>A0101</td>\n",
       "      <td>A01010200</td>\n",
       "      <td>자연</td>\n",
       "      <td>자연관광지</td>\n",
       "      <td>도립공원</td>\n",
       "    </tr>\n",
       "    <tr>\n",
       "      <th>6</th>\n",
       "      <td>A01</td>\n",
       "      <td>A0101</td>\n",
       "      <td>A01010300</td>\n",
       "      <td>자연</td>\n",
       "      <td>자연관광지</td>\n",
       "      <td>군립공원</td>\n",
       "    </tr>\n",
       "    <tr>\n",
       "      <th>7</th>\n",
       "      <td>A01</td>\n",
       "      <td>A0101</td>\n",
       "      <td>A01010400</td>\n",
       "      <td>자연</td>\n",
       "      <td>자연관광지</td>\n",
       "      <td>산</td>\n",
       "    </tr>\n",
       "    <tr>\n",
       "      <th>8</th>\n",
       "      <td>A01</td>\n",
       "      <td>A0101</td>\n",
       "      <td>A01010500</td>\n",
       "      <td>자연</td>\n",
       "      <td>자연관광지</td>\n",
       "      <td>자연생태관광지</td>\n",
       "    </tr>\n",
       "    <tr>\n",
       "      <th>...</th>\n",
       "      <td>...</td>\n",
       "      <td>...</td>\n",
       "      <td>...</td>\n",
       "      <td>...</td>\n",
       "      <td>...</td>\n",
       "      <td>...</td>\n",
       "    </tr>\n",
       "    <tr>\n",
       "      <th>151</th>\n",
       "      <td>A05</td>\n",
       "      <td>A0502</td>\n",
       "      <td>A05020300</td>\n",
       "      <td>음식</td>\n",
       "      <td>음식점</td>\n",
       "      <td>일식</td>\n",
       "    </tr>\n",
       "    <tr>\n",
       "      <th>152</th>\n",
       "      <td>A05</td>\n",
       "      <td>A0502</td>\n",
       "      <td>A05020400</td>\n",
       "      <td>음식</td>\n",
       "      <td>음식점</td>\n",
       "      <td>중식</td>\n",
       "    </tr>\n",
       "    <tr>\n",
       "      <th>153</th>\n",
       "      <td>A05</td>\n",
       "      <td>A0502</td>\n",
       "      <td>A05020700</td>\n",
       "      <td>음식</td>\n",
       "      <td>음식점</td>\n",
       "      <td>이색음식점</td>\n",
       "    </tr>\n",
       "    <tr>\n",
       "      <th>154</th>\n",
       "      <td>A05</td>\n",
       "      <td>A0502</td>\n",
       "      <td>A05020900</td>\n",
       "      <td>음식</td>\n",
       "      <td>음식점</td>\n",
       "      <td>카페/전통찻집</td>\n",
       "    </tr>\n",
       "    <tr>\n",
       "      <th>155</th>\n",
       "      <td>A05</td>\n",
       "      <td>A0502</td>\n",
       "      <td>A05021000</td>\n",
       "      <td>음식</td>\n",
       "      <td>음식점</td>\n",
       "      <td>클럽</td>\n",
       "    </tr>\n",
       "  </tbody>\n",
       "</table>\n",
       "<p>152 rows × 6 columns</p>\n",
       "</div>"
      ],
      "text/plain": [
       "    대분류 (cat1) 중분류 (cat2) 소분류 (cat3) 대분류    중분류      소분류\n",
       "4          A01      A0101  A01010100  자연  자연관광지     국립공원\n",
       "5          A01      A0101  A01010200  자연  자연관광지     도립공원\n",
       "6          A01      A0101  A01010300  자연  자연관광지     군립공원\n",
       "7          A01      A0101  A01010400  자연  자연관광지        산\n",
       "8          A01      A0101  A01010500  자연  자연관광지  자연생태관광지\n",
       "..         ...        ...        ...  ..    ...      ...\n",
       "151        A05      A0502  A05020300  음식    음식점       일식\n",
       "152        A05      A0502  A05020400  음식    음식점       중식\n",
       "153        A05      A0502  A05020700  음식    음식점    이색음식점\n",
       "154        A05      A0502  A05020900  음식    음식점  카페/전통찻집\n",
       "155        A05      A0502  A05021000  음식    음식점       클럽\n",
       "\n",
       "[152 rows x 6 columns]"
      ]
     },
     "execution_count": 25,
     "metadata": {},
     "output_type": "execute_result"
    }
   ],
   "source": [
    "df = df.iloc[3:,1:]\n",
    "columns = df.iloc[0,:].values\n",
    "rename_dict = {}\n",
    "for i,j in zip(df.columns, columns):\n",
    "    rename_dict[i] = j\n",
    "\n",
    "df.rename(columns=rename_dict, inplace=True)\n",
    "df = df.iloc[1:,:]\n",
    "df"
   ]
  },
  {
   "cell_type": "code",
   "execution_count": 40,
   "metadata": {},
   "outputs": [],
   "source": [
    "content_dict = {\"12\":\"관광지\",\n",
    "                \"14\":\"문화시설\",\n",
    "                \"32\":\"숙박\",\n",
    "                \"38\":\"쇼핑\",\n",
    "                \"39\":\"음식점\",\n",
    "                \"15\":\"행사/공연/축제\",\n",
    "                \"25\":\"여행코스\",\n",
    "                \"28\":\"레포츠\",\n",
    "                }"
   ]
  },
  {
   "cell_type": "code",
   "execution_count": 26,
   "metadata": {},
   "outputs": [],
   "source": [
    "cat1_dict={}\n",
    "cat2_dict={}\n",
    "cat3_dict={}\n",
    "for values in df.values:\n",
    "    cat1_dict[values[0]] = values[3]\n",
    "    cat2_dict[values[1]] = values[4]\n",
    "    cat3_dict[values[2]] = values[5]"
   ]
  },
  {
   "cell_type": "code",
   "execution_count": 54,
   "metadata": {},
   "outputs": [],
   "source": [
    "import re\n",
    "\n",
    "def find_text_between_special_characters(text):\n",
    "    pattern = r'(\\(|\\[)([^\\(\\)\\[\\]]+?)(\\)|\\])'\n",
    "    matches = re.findall(pattern, text)\n",
    "    return [''.join(match) for match in matches]\n",
    "\n",
    "contents_dict={}\n",
    "for content in contents_list:\n",
    "    if content['response']['body']['items']:\n",
    "        x = content['response']['body']['items']['item']\n",
    "\n",
    "        for i in x:\n",
    "            detail_dict = {}\n",
    "            #detail_dict['title'] = i['title']\n",
    "            detail_dict['addr'] = i['addr1'] +\" \" +i['addr2']\n",
    "            detail_dict['contenttypeid'] = content_dict[i['contenttypeid']]\n",
    "            detail_dict['cat1'] = cat1_dict[i['cat1']]\n",
    "            detail_dict['cat2'] = cat2_dict[i['cat2']]\n",
    "            detail_dict['cat3'] = cat3_dict[i['cat3']]\n",
    "            detail_dict['booktour'] = i['booktour']\n",
    "\n",
    "            cut = find_text_between_special_characters(i['title'])\n",
    "            if cut:\n",
    "                title = i['title'].replace(cut[0],'')\n",
    "            else:\n",
    "                title = i['title']\n",
    "            title = title.replace(' ','')\n",
    "            \n",
    "            contents_dict[title] = detail_dict\n"
   ]
  },
  {
   "cell_type": "code",
   "execution_count": 55,
   "metadata": {},
   "outputs": [],
   "source": [
    "meta_data = {'numOfContents':len(contents_dict), 'contents':contents_dict}"
   ]
  },
  {
   "cell_type": "code",
   "execution_count": 56,
   "metadata": {},
   "outputs": [],
   "source": [
    "json_name = 'jeju_total.json'"
   ]
  },
  {
   "cell_type": "code",
   "execution_count": 57,
   "metadata": {},
   "outputs": [],
   "source": [
    "with open(json_name, 'w') as json_file:\n",
    "    json.dump(meta_data, json_file, ensure_ascii=False, indent='\\t')"
   ]
  }
 ],
 "metadata": {
  "kernelspec": {
   "display_name": "bigcon",
   "language": "python",
   "name": "python3"
  },
  "language_info": {
   "codemirror_mode": {
    "name": "ipython",
    "version": 3
   },
   "file_extension": ".py",
   "mimetype": "text/x-python",
   "name": "python",
   "nbconvert_exporter": "python",
   "pygments_lexer": "ipython3",
   "version": "3.11.10"
  }
 },
 "nbformat": 4,
 "nbformat_minor": 2
}
