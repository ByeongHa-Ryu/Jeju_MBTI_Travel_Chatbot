{
 "cells": [
  {
   "cell_type": "code",
   "execution_count": 2,
   "metadata": {},
   "outputs": [],
   "source": [
    "import pandas as pd\n",
    "import os\n",
    "from glob import glob"
   ]
  },
  {
   "cell_type": "code",
   "execution_count": 18,
   "metadata": {},
   "outputs": [],
   "source": [
    "# 음식점 타입: 음식점, 커피,차,베이커리 , 주점, 간단음식\n",
    "# 가격 : 저렴한 음식, 중간급, 파인다이닝\n",
    "# 제주시 \n",
    "# 서귀포시"
   ]
  },
  {
   "cell_type": "code",
   "execution_count": 100,
   "metadata": {},
   "outputs": [],
   "source": [
    "mct = pd.read_csv('./rename_data/mct_df/original/mct_2.csv')"
   ]
  },
  {
   "cell_type": "code",
   "execution_count": 5,
   "metadata": {},
   "outputs": [],
   "source": [
    "food_categories = {\n",
    "    '가정식': '음식점',\n",
    "    '단품요리 전문': '음식점',\n",
    "    '일식': '음식점',\n",
    "    '중식': '음식점',\n",
    "    '양식': '음식점',\n",
    "    '기타세계요리': '음식점',\n",
    "    '동남아/인도음식': '음식점',\n",
    "    '패밀리 레스토랑': '음식점',\n",
    "    '기사식당': '음식점',\n",
    "    '스테이크': '음식점',\n",
    "    '부페': '음식점',\n",
    "    \n",
    "    '커피': '커피/차/베이커리',\n",
    "    '베이커리': '커피/차/베이커리',\n",
    "    '차': '커피/차/베이커리',\n",
    "    '아이스크림/빙수': '커피/차/베이커리',\n",
    "    '떡/한과': '커피/차/베이커리',\n",
    "    '도너츠': '커피/차/베이커리',\n",
    "    '주스': '커피/차/베이커리',\n",
    "    \n",
    "    '맥주/요리주점': '주점',\n",
    "    '민속주점': '주점',\n",
    "    \n",
    "    '치킨': '간단음식/패스트푸드',\n",
    "    '분식': '간단음식/패스트푸드',\n",
    "    '햄버거': '간단음식/패스트푸드',\n",
    "    '피자': '간단음식/패스트푸드',\n",
    "    '샌드위치/토스트': '간단음식/패스트푸드',\n",
    "    '꼬치구이': '간단음식/패스트푸드',\n",
    "    '구내식당/푸드코트': '간단음식/패스트푸드',\n",
    "    '도시락': '간단음식/패스트푸드',\n",
    "    '야식': '간단음식/패스트푸드',\n",
    "    '포장마차': '간단음식/패스트푸드'\n",
    "}"
   ]
  },
  {
   "cell_type": "code",
   "execution_count": 3,
   "metadata": {},
   "outputs": [],
   "source": [
    "mct_folders = os.listdir('./rename_data/mct_df')\n",
    "#mct_folders.remove('.DS_Store')\n",
    "mct_folders = [os.path.join('./rename_data/mct_df',x) for x in mct_folders]\n",
    "mct_folders_all = []\n",
    "for f in mct_folders:\n",
    "    files = glob(f+'/*.csv')\n",
    "    for file in files:\n",
    "        mct_folders_all.append(file)\n"
   ]
  },
  {
   "cell_type": "code",
   "execution_count": null,
   "metadata": {},
   "outputs": [],
   "source": [
    "for file in mct_folders_all:\n",
    "    df = pd.read_csv(file)\n",
    "    # 음식점타입, 주소 시분류 추가\n",
    "    df.dropna(subset='정보', inplace=True)\n",
    "    df.reset_index(drop=True, inplace=True)\n",
    "    \n",
    "    #df.drop(columns=['음식점타입', '주소_시'], inplace=True)\n",
    "    \n",
    "    df.insert(3,'음식점타입' ,df['업종'].map(food_categories))\n",
    "    df.insert(6,'주소_시',df['주소'].apply(lambda x: x.split(' ')[1]))\n",
    "    \n",
    "    # 정보 업데이트\n",
    "    info_text_list = []\n",
    "    for values in df.values:\n",
    "        info_text = f\"{values[0]} 기준 '{values[1]}'(주소: {values[5]})은/는 {values[2]}에 개설되었습니다. \"\n",
    "        info_text += f\"음식점 타입은 {values[3]}이며 {values[4]} 업종입니다. \"\n",
    "        info_text += f\"이용 시간대별 비중은 5~11시 {values[17]:.2f}%, 12~13시 {values[18]:.2f}%, 14~17시 {values[19]:.2f}%, 18~22시 {values[20]:.2f}%, 23~4시 {values[21]:.2f}%입니다. \"\n",
    "        info_text += f\"요일별 이용 비중은 월요일 {values[10]}, 화요일 {values[11]}, 수요일 {values[12]}, 목요일 {values[13]}, 금요일 {values[14]}, 토요일 {values[15]}, 일요일 {values[16]}입니다. \"\n",
    "        info_text += f\"평일이용 비중은 {values[31]}, 주말 이용 비중은 {values[30]} 현지인 이용 비중은 {values[22]:.2f}입니다. \"\n",
    "        info_text += f\"최근 12개월간 남성 회원 비중은 {values[23]}, 여성 회원 비중은 {values[24]} 입니다. \"\n",
    "        info_text += f\"연령대별 회원 비중은 20대 이하 {values[25]}, 30대 {values[26]}, 40대 {values[27]}, 50대 {values[28]}, 60대 이상 {values[29]}입니다. \"\n",
    "        info_text += f\"이 가맹점의 이용 건수 구간은 {values[7]}이며, 이용 금액 구간은 {values[8]}입니다. 건당 평균 이용 금액 구간은 {values[9]}입니다. \"\n",
    "        info_text += f\"해당 가맹점의 고객 평균 재방문율은 {values[35]} 입니다. \"\n",
    "        info_text += f\"해당 가맹점에 대한 이용객의 리뷰 키워드는 다음과 같습니다: {values[36]}\"\n",
    "        info_text_list.append(info_text)\n",
    "    df['정보'] = info_text_list\n",
    "\n",
    "    df.to_csv(file, index=False)\n",
    "\n"
   ]
  },
  {
   "cell_type": "markdown",
   "metadata": {},
   "source": [
    "# 관광지"
   ]
  },
  {
   "cell_type": "code",
   "execution_count": null,
   "metadata": {},
   "outputs": [],
   "source": [
    "tour_folders = os.listdir('./rename_data/tour_df')\n",
    "#tour_folders.remove('.DS_Store')\n",
    "tour_folders = [os.path.join('./rename_data/tour_df',x) for x in tour_folders]\n",
    "tour_folders_all = []\n",
    "for f in tour_folders:\n",
    "    files = glob(f+'/*.csv')\n",
    "    for file in files:\n",
    "        tour_folders_all.append(file)"
   ]
  },
  {
   "cell_type": "code",
   "execution_count": 108,
   "metadata": {},
   "outputs": [],
   "source": [
    "for file in tour_folders_all:\n",
    "    df = pd.read_csv(file)\n",
    "    # 주소 시분류 추가\n",
    "    df.dropna(subset='위도', inplace=True)\n",
    "    df.insert(2,'주소_시',df['주소'].apply(lambda x: x.split(' ')[1]))\n",
    "    df.to_csv(file, index=False)\n",
    "    "
   ]
  }
 ],
 "metadata": {
  "kernelspec": {
   "display_name": "bigcon",
   "language": "python",
   "name": "python3"
  },
  "language_info": {
   "codemirror_mode": {
    "name": "ipython",
    "version": 3
   },
   "file_extension": ".py",
   "mimetype": "text/x-python",
   "name": "python",
   "nbconvert_exporter": "python",
   "pygments_lexer": "ipython3",
   "version": "3.12.7"
  }
 },
 "nbformat": 4,
 "nbformat_minor": 2
}
