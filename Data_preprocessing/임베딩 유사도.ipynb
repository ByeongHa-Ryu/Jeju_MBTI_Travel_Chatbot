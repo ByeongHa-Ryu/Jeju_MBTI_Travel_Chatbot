{
 "cells": [
  {
   "cell_type": "markdown",
   "id": "be6cab1e",
   "metadata": {},
   "source": [
    "### 관광지 대중소분류와 MBTI 키워드 추출 데이터 유사도 계산 및 데이터 분할\n",
    "### 맛집 리뷰 키워드 추출 데이터와, MBTI 키워드 추출 데이터 유사도 계산 및 데이터 분할"
   ]
  },
  {
   "cell_type": "code",
   "execution_count": 1,
   "id": "5c8d9332-0089-4d12-aab0-e391e69c5ccb",
   "metadata": {},
   "outputs": [
    {
     "name": "stderr",
     "output_type": "stream",
     "text": [
      "/opt/homebrew/Caskroom/miniforge/base/envs/bigcon/lib/python3.11/site-packages/sentence_transformers/cross_encoder/CrossEncoder.py:13: TqdmExperimentalWarning: Using `tqdm.autonotebook.tqdm` in notebook mode. Use `tqdm.tqdm` instead to force console mode (e.g. in jupyter console)\n",
      "  from tqdm.autonotebook import tqdm, trange\n"
     ]
    }
   ],
   "source": [
    "import pandas as pd\n",
    "import numpy as np\n",
    "from sklearn.metrics.pairwise import cosine_similarity\n",
    "import matplotlib.pyplot as plt\n",
    "import seaborn as sns\n",
    "import json\n",
    "from sentence_transformers import SentenceTransformer\n",
    "from tqdm import tqdm"
   ]
  },
  {
   "cell_type": "code",
   "execution_count": 2,
   "id": "1f814f31",
   "metadata": {},
   "outputs": [
    {
     "name": "stdout",
     "output_type": "stream",
     "text": [
      "libfaiss이(가) 설치되지 않았습니다.\n"
     ]
    }
   ],
   "source": [
    "import importlib.metadata\n",
    "\n",
    "def check_package_version(package_name):\n",
    "    try:\n",
    "        version = importlib.metadata.version(package_name)\n",
    "        print(f\"{package_name} 버전: {version}\")\n",
    "    except importlib.metadata.PackageNotFoundError:\n",
    "        print(f\"{package_name}이(가) 설치되지 않았습니다.\")\n",
    "\n",
    "# 확인하려는 패키지 이름\n",
    "check_package_version(\"libfaiss\")"
   ]
  },
  {
   "cell_type": "code",
   "execution_count": 2,
   "id": "428b425f-c5ee-418d-a55c-f89f032d78fa",
   "metadata": {},
   "outputs": [],
   "source": [
    "with open('tour_type/tour_type/MBTI별_맛집_음식성향_키워드.json', 'r', encoding='utf-8') as file:\n",
    "    mbti = json.load(file)"
   ]
  },
  {
   "cell_type": "markdown",
   "id": "a40597cf",
   "metadata": {},
   "source": [
    "- mbti 키워드 전처리 및 임베딩"
   ]
  },
  {
   "cell_type": "code",
   "execution_count": 3,
   "id": "12bf38ce",
   "metadata": {},
   "outputs": [],
   "source": [
    "mbti_df = pd.DataFrame(columns=['mbti', 'keyword'], data=mbti.items())"
   ]
  },
  {
   "cell_type": "code",
   "execution_count": 4,
   "id": "f07af991",
   "metadata": {},
   "outputs": [
    {
     "data": {
      "text/html": [
       "<div>\n",
       "<style scoped>\n",
       "    .dataframe tbody tr th:only-of-type {\n",
       "        vertical-align: middle;\n",
       "    }\n",
       "\n",
       "    .dataframe tbody tr th {\n",
       "        vertical-align: top;\n",
       "    }\n",
       "\n",
       "    .dataframe thead th {\n",
       "        text-align: right;\n",
       "    }\n",
       "</style>\n",
       "<table border=\"1\" class=\"dataframe\">\n",
       "  <thead>\n",
       "    <tr style=\"text-align: right;\">\n",
       "      <th></th>\n",
       "      <th>mbti</th>\n",
       "      <th>keyword</th>\n",
       "    </tr>\n",
       "  </thead>\n",
       "  <tbody>\n",
       "    <tr>\n",
       "      <th>0</th>\n",
       "      <td>INTJ</td>\n",
       "      <td>숨겨진 보석, 덜 알려진 곳, 역사, 문화, 자연, 숨겨진 해변, 고즈넉한 오름,...</td>\n",
       "    </tr>\n",
       "    <tr>\n",
       "      <th>1</th>\n",
       "      <td>INTP</td>\n",
       "      <td>분석적 탐험, 독립적인 여행, 숨겨진 매력,  자신만의 이야기,  인적 드문 자연...</td>\n",
       "    </tr>\n",
       "    <tr>\n",
       "      <th>2</th>\n",
       "      <td>ENTJ</td>\n",
       "      <td>숨겨진 명소, 덜 알려진 곳, 역사, 문화, 탐험, 독특한 숙소, 편안함, 고급스...</td>\n",
       "    </tr>\n",
       "    <tr>\n",
       "      <th>3</th>\n",
       "      <td>ENTP</td>\n",
       "      <td>숨겨진 보석, 숨겨진 명소, 현지인 추천, 덜 알려진 곳, 역사, 문화, 예술, ...</td>\n",
       "    </tr>\n",
       "    <tr>\n",
       "      <th>4</th>\n",
       "      <td>INFJ</td>\n",
       "      <td>에코 투어, 지속 가능한 여행, 자연 친화적, 의미 있는 경험, 숨겨진 명소, 아...</td>\n",
       "    </tr>\n",
       "    <tr>\n",
       "      <th>5</th>\n",
       "      <td>INFP</td>\n",
       "      <td>자연, 힐링, 감성, 휴식, 캠핑, 혼자 여행, 특별한 의미, 스토리, 예술, 아름...</td>\n",
       "    </tr>\n",
       "    <tr>\n",
       "      <th>6</th>\n",
       "      <td>ENFJ</td>\n",
       "      <td>따뜻함, 의미, 휴양, 체험, 감성,  풍경, 골목길, 예술,  소통, 교류,  역...</td>\n",
       "    </tr>\n",
       "    <tr>\n",
       "      <th>7</th>\n",
       "      <td>ENFP</td>\n",
       "      <td>제주도, ENFP, 여행, 맛집, 로드트립, 숨겨진 비경, 문화, 현지인, 소통, ...</td>\n",
       "    </tr>\n",
       "    <tr>\n",
       "      <th>8</th>\n",
       "      <td>ISTJ</td>\n",
       "      <td>꼼꼼한 계획, 익숙함, 편안함, 후기, 평점, 전통적인 분위기, 유명 관광지, 혼자...</td>\n",
       "    </tr>\n",
       "    <tr>\n",
       "      <th>9</th>\n",
       "      <td>ISFJ</td>\n",
       "      <td>익숙한 맛, 편안함, 꼼꼼한 계획, 안전, 편리, 유명 관광 명소, 후기, 인기 ...</td>\n",
       "    </tr>\n",
       "    <tr>\n",
       "      <th>10</th>\n",
       "      <td>ESTJ</td>\n",
       "      <td>꼼꼼한 계획, 효율적인 시간 활용, 완벽한 일정, 최고의 가치, 리뷰, 가성비 좋은...</td>\n",
       "    </tr>\n",
       "    <tr>\n",
       "      <th>11</th>\n",
       "      <td>ESFJ</td>\n",
       "      <td>완벽한 계획, 즐거운 경험, 맛집 탐방, 인기 관광지, 숙소, 액티비티, 후기 좋...</td>\n",
       "    </tr>\n",
       "    <tr>\n",
       "      <th>12</th>\n",
       "      <td>ISTP</td>\n",
       "      <td>제주도, ISTP, 자유로운 영혼, 즉흥적인 즐거움, 숨겨진 보석, 현지인 추천, ...</td>\n",
       "    </tr>\n",
       "    <tr>\n",
       "      <th>13</th>\n",
       "      <td>ISFP</td>\n",
       "      <td>자유로운 영혼, 즉흥적인 즐거움, 아름다운 자연, 감성적인 경험, 개인의 취향, 힐...</td>\n",
       "    </tr>\n",
       "    <tr>\n",
       "      <th>14</th>\n",
       "      <td>ESTP</td>\n",
       "      <td>액티비티, 스릴, 맛집 탐험, 핫플레이스, 숨겨진 보석, 즉흥, 모험, 짜릿함, ...</td>\n",
       "    </tr>\n",
       "    <tr>\n",
       "      <th>15</th>\n",
       "      <td>ESFP</td>\n",
       "      <td>핫플레이스, 숨은 맛집, 인스타 감성, 화려한 분위기, 축제, 신나는 음악, 흥겨...</td>\n",
       "    </tr>\n",
       "  </tbody>\n",
       "</table>\n",
       "</div>"
      ],
      "text/plain": [
       "    mbti                                            keyword\n",
       "0   INTJ   숨겨진 보석, 덜 알려진 곳, 역사, 문화, 자연, 숨겨진 해변, 고즈넉한 오름,...\n",
       "1   INTP   분석적 탐험, 독립적인 여행, 숨겨진 매력,  자신만의 이야기,  인적 드문 자연...\n",
       "2   ENTJ   숨겨진 명소, 덜 알려진 곳, 역사, 문화, 탐험, 독특한 숙소, 편안함, 고급스...\n",
       "3   ENTP   숨겨진 보석, 숨겨진 명소, 현지인 추천, 덜 알려진 곳, 역사, 문화, 예술, ...\n",
       "4   INFJ   에코 투어, 지속 가능한 여행, 자연 친화적, 의미 있는 경험, 숨겨진 명소, 아...\n",
       "5   INFP  자연, 힐링, 감성, 휴식, 캠핑, 혼자 여행, 특별한 의미, 스토리, 예술, 아름...\n",
       "6   ENFJ  따뜻함, 의미, 휴양, 체험, 감성,  풍경, 골목길, 예술,  소통, 교류,  역...\n",
       "7   ENFP  제주도, ENFP, 여행, 맛집, 로드트립, 숨겨진 비경, 문화, 현지인, 소통, ...\n",
       "8   ISTJ  꼼꼼한 계획, 익숙함, 편안함, 후기, 평점, 전통적인 분위기, 유명 관광지, 혼자...\n",
       "9   ISFJ   익숙한 맛, 편안함, 꼼꼼한 계획, 안전, 편리, 유명 관광 명소, 후기, 인기 ...\n",
       "10  ESTJ  꼼꼼한 계획, 효율적인 시간 활용, 완벽한 일정, 최고의 가치, 리뷰, 가성비 좋은...\n",
       "11  ESFJ   완벽한 계획, 즐거운 경험, 맛집 탐방, 인기 관광지, 숙소, 액티비티, 후기 좋...\n",
       "12  ISTP  제주도, ISTP, 자유로운 영혼, 즉흥적인 즐거움, 숨겨진 보석, 현지인 추천, ...\n",
       "13  ISFP  자유로운 영혼, 즉흥적인 즐거움, 아름다운 자연, 감성적인 경험, 개인의 취향, 힐...\n",
       "14  ESTP   액티비티, 스릴, 맛집 탐험, 핫플레이스, 숨겨진 보석, 즉흥, 모험, 짜릿함, ...\n",
       "15  ESFP   핫플레이스, 숨은 맛집, 인스타 감성, 화려한 분위기, 축제, 신나는 음악, 흥겨..."
      ]
     },
     "execution_count": 4,
     "metadata": {},
     "output_type": "execute_result"
    }
   ],
   "source": [
    "mbti_df['keyword'] = mbti_df['keyword'].apply(lambda x: x[x.find(':')+1:])\n",
    "mbti_df['keyword'] = mbti_df['keyword'].apply(lambda x: x.replace('\\n', ''))\n",
    "mbti_df['keyword'] = mbti_df['keyword'].apply(lambda x: x.replace('#', ''))\n",
    "mbti_df['keyword'] = mbti_df['keyword'].apply(lambda x: x.replace('*', ''))\n",
    "#mbti_df"
   ]
  },
  {
   "cell_type": "markdown",
   "id": "61635800",
   "metadata": {},
   "source": [
    "- 리뷰 키워드 임베딩"
   ]
  },
  {
   "cell_type": "code",
   "execution_count": 5,
   "id": "e25493c4",
   "metadata": {},
   "outputs": [],
   "source": [
    "review_ms = pd.read_csv('review_keyword/review_keywords_민성.csv')\n",
    "review_yj = pd.read_csv('review_keyword/review_keywords_윤지.csv')\n",
    "review_hb = pd.read_csv('review_keyword/review_keywords_형빈.csv')"
   ]
  },
  {
   "cell_type": "code",
   "execution_count": 6,
   "id": "1d66796a",
   "metadata": {},
   "outputs": [],
   "source": [
    "review_ms.drop('Unnamed: 0', axis=1, inplace=True)"
   ]
  },
  {
   "cell_type": "code",
   "execution_count": 9,
   "id": "03a68478",
   "metadata": {},
   "outputs": [],
   "source": [
    "review = pd.concat([review_ms, review_yj, review_hb])"
   ]
  },
  {
   "cell_type": "code",
   "execution_count": 10,
   "id": "3b927d61",
   "metadata": {},
   "outputs": [],
   "source": [
    "review.reset_index(drop=True, inplace=True)"
   ]
  },
  {
   "cell_type": "code",
   "execution_count": 11,
   "id": "2586490f-866b-401b-a731-1c6f25215bc4",
   "metadata": {},
   "outputs": [],
   "source": [
    "# 임베딩 모델\n",
    "\n",
    "'''\n",
    "[ List ]\n",
    "- intfloat/multilingual-e5-large-instruct\n",
    "- jhgan/ko-sroberta-multitask\n",
    "- upskyy/bge-m3-Korean\n",
    "'''\n",
    "# model = SentenceTransformer('intfloat/multilingual-e5-large-instruct')\n",
    "model = SentenceTransformer('upskyy/bge-m3-Korean')\n",
    "# model = SentenceTransformer('jhgan/ko-sroberta-multitask')"
   ]
  },
  {
   "cell_type": "code",
   "execution_count": 12,
   "id": "f3badc6b",
   "metadata": {},
   "outputs": [],
   "source": [
    "def get_embedding(text):\n",
    "    return model.encode(text)\n",
    "\n",
    "# def get_average_embedding_mbti(keywords):\n",
    "#     embeddings = [get_embedding(keyword) for keyword in keywords]\n",
    "#     return np.mean(embeddings, axis=0)\n",
    "\n",
    "# def get_average_embedding_review(keywords):\n",
    "#     keywords = keywords.strip()[1:-1].strip()\n",
    "#     embeddings = [get_embedding(keyword) for keyword in keywords.split(',')]\n",
    "#     return np.mean(embeddings, axis=0)\n",
    "\n",
    "def calculate_similarity(embedding1, embedding2):\n",
    "    return cosine_similarity([embedding1], [embedding2])[0][0]"
   ]
  },
  {
   "cell_type": "code",
   "execution_count": 13,
   "id": "0fd0b2d9",
   "metadata": {},
   "outputs": [],
   "source": [
    "# 임베딩 값 계산해 컬럼으로 추가\n",
    "mbti_df['embedding'] = mbti_df['keyword'].apply(lambda x: get_embedding(str(x)))"
   ]
  },
  {
   "cell_type": "code",
   "execution_count": 15,
   "id": "a2b2878d",
   "metadata": {},
   "outputs": [],
   "source": [
    "review['tfidf_embedding'] = review['tf_idf_keywords'].apply(lambda x: get_embedding(str(x).replace('[', '').replace(']', '').replace(\"'\",'')))"
   ]
  },
  {
   "cell_type": "code",
   "execution_count": 16,
   "id": "2875e750",
   "metadata": {},
   "outputs": [],
   "source": [
    "review['wordrank_embedding'] = review['krword_rank'].apply(lambda x: get_embedding(str(x).replace('[', '').replace(']', '').replace(\"'\",'')))"
   ]
  },
  {
   "cell_type": "code",
   "execution_count": 17,
   "id": "61cb3444",
   "metadata": {},
   "outputs": [],
   "source": [
    "review['llm_embedding'] = review['LLM_keywords'].apply(lambda x: get_embedding(str(x).replace('[', '').replace(']', '').replace(\"'\",'')))"
   ]
  },
  {
   "cell_type": "markdown",
   "id": "dc590fe8",
   "metadata": {},
   "source": [
    "- tf-idf, kr word rank 임베딩 값과 llm 임베딩 값 가중치 평균"
   ]
  },
  {
   "cell_type": "code",
   "execution_count": 18,
   "id": "41d94fee",
   "metadata": {},
   "outputs": [],
   "source": [
    "review['llm5_other5'] = 0.25*(review['tfidf_embedding']) + 0.25*(review['wordrank_embedding']) + 0.5*(review['llm_embedding']) #; review"
   ]
  },
  {
   "cell_type": "code",
   "execution_count": 19,
   "id": "036db0d1",
   "metadata": {},
   "outputs": [],
   "source": [
    "review.to_csv('mbti_review_similarity_llm5_other5.csv', index=False)"
   ]
  },
  {
   "cell_type": "markdown",
   "id": "5c149d67",
   "metadata": {},
   "source": [
    "### 관광지와 MBTI 유형 간 유사도 상위 N개 저장"
   ]
  },
  {
   "cell_type": "code",
   "execution_count": 33,
   "id": "7f14d641",
   "metadata": {},
   "outputs": [],
   "source": [
    "# 관광지 월별 데이터 불러오기\n",
    "\n",
    "tour_dfs = {}\n",
    "import os\n",
    "from glob import glob\n",
    "csvs = glob('./data/tour_df/original/*.csv')\n",
    "csvs.sort()\n",
    "for i, j in enumerate(csvs):\n",
    "    tour_dfs[f\"tour_{i+1}\"] = pd.read_csv(j)\n"
   ]
  },
  {
   "cell_type": "markdown",
   "id": "98f5aa04",
   "metadata": {},
   "source": [
    "- 관광지 데이터 임베딩"
   ]
  },
  {
   "cell_type": "code",
   "execution_count": 41,
   "id": "a278d827",
   "metadata": {},
   "outputs": [
    {
     "data": {
      "text/html": [
       "<div>\n",
       "<style scoped>\n",
       "    .dataframe tbody tr th:only-of-type {\n",
       "        vertical-align: middle;\n",
       "    }\n",
       "\n",
       "    .dataframe tbody tr th {\n",
       "        vertical-align: top;\n",
       "    }\n",
       "\n",
       "    .dataframe thead th {\n",
       "        text-align: right;\n",
       "    }\n",
       "</style>\n",
       "<table border=\"1\" class=\"dataframe\">\n",
       "  <thead>\n",
       "    <tr style=\"text-align: right;\">\n",
       "      <th></th>\n",
       "      <th>관광지명</th>\n",
       "      <th>장소 카테고리</th>\n",
       "      <th>대분류</th>\n",
       "      <th>중분류</th>\n",
       "      <th>소분류</th>\n",
       "    </tr>\n",
       "  </thead>\n",
       "  <tbody>\n",
       "    <tr>\n",
       "      <th>0</th>\n",
       "      <td>가름게스트하우스</td>\n",
       "      <td>숙박</td>\n",
       "      <td>숙박</td>\n",
       "      <td>숙박시설</td>\n",
       "      <td>펜션</td>\n",
       "    </tr>\n",
       "    <tr>\n",
       "      <th>1</th>\n",
       "      <td>가마오름</td>\n",
       "      <td>관광지</td>\n",
       "      <td>자연</td>\n",
       "      <td>자연관광지</td>\n",
       "      <td>산</td>\n",
       "    </tr>\n",
       "    <tr>\n",
       "      <th>2</th>\n",
       "      <td>가문이오름</td>\n",
       "      <td>관광지</td>\n",
       "      <td>자연</td>\n",
       "      <td>자연관광지</td>\n",
       "      <td>산</td>\n",
       "    </tr>\n",
       "    <tr>\n",
       "      <th>3</th>\n",
       "      <td>가세오름</td>\n",
       "      <td>관광지</td>\n",
       "      <td>자연</td>\n",
       "      <td>자연관광지</td>\n",
       "      <td>산</td>\n",
       "    </tr>\n",
       "    <tr>\n",
       "      <th>4</th>\n",
       "      <td>가시식당</td>\n",
       "      <td>음식점</td>\n",
       "      <td>음식</td>\n",
       "      <td>음식점</td>\n",
       "      <td>한식</td>\n",
       "    </tr>\n",
       "    <tr>\n",
       "      <th>...</th>\n",
       "      <td>...</td>\n",
       "      <td>...</td>\n",
       "      <td>...</td>\n",
       "      <td>...</td>\n",
       "      <td>...</td>\n",
       "    </tr>\n",
       "    <tr>\n",
       "      <th>821</th>\n",
       "      <td>5.16도로숲터널</td>\n",
       "      <td>관광지</td>\n",
       "      <td>인문(문화/예술/역사)</td>\n",
       "      <td>건축/조형물</td>\n",
       "      <td>터널</td>\n",
       "    </tr>\n",
       "    <tr>\n",
       "      <th>822</th>\n",
       "      <td>513텐동</td>\n",
       "      <td>음식점</td>\n",
       "      <td>음식</td>\n",
       "      <td>음식점</td>\n",
       "      <td>일식</td>\n",
       "    </tr>\n",
       "    <tr>\n",
       "      <th>823</th>\n",
       "      <td>73st</td>\n",
       "      <td>음식점</td>\n",
       "      <td>음식</td>\n",
       "      <td>음식점</td>\n",
       "      <td>카페/전통찻집</td>\n",
       "    </tr>\n",
       "    <tr>\n",
       "      <th>824</th>\n",
       "      <td>9.81파크</td>\n",
       "      <td>레포츠</td>\n",
       "      <td>레포츠</td>\n",
       "      <td>육상 레포츠</td>\n",
       "      <td>카트</td>\n",
       "    </tr>\n",
       "    <tr>\n",
       "      <th>825</th>\n",
       "      <td>BK호텔제주</td>\n",
       "      <td>숙박</td>\n",
       "      <td>숙박</td>\n",
       "      <td>숙박시설</td>\n",
       "      <td>관광호텔</td>\n",
       "    </tr>\n",
       "  </tbody>\n",
       "</table>\n",
       "<p>826 rows × 5 columns</p>\n",
       "</div>"
      ],
      "text/plain": [
       "          관광지명 장소 카테고리           대분류     중분류      소분류\n",
       "0     가름게스트하우스      숙박            숙박    숙박시설       펜션\n",
       "1         가마오름     관광지            자연   자연관광지        산\n",
       "2        가문이오름     관광지            자연   자연관광지        산\n",
       "3         가세오름     관광지            자연   자연관광지        산\n",
       "4         가시식당     음식점            음식     음식점       한식\n",
       "..         ...     ...           ...     ...      ...\n",
       "821  5.16도로숲터널     관광지  인문(문화/예술/역사)  건축/조형물       터널\n",
       "822      513텐동     음식점            음식     음식점       일식\n",
       "823       73st     음식점            음식     음식점  카페/전통찻집\n",
       "824     9.81파크     레포츠           레포츠  육상 레포츠       카트\n",
       "825     BK호텔제주      숙박            숙박    숙박시설     관광호텔\n",
       "\n",
       "[826 rows x 5 columns]"
      ]
     },
     "execution_count": 41,
     "metadata": {},
     "output_type": "execute_result"
    }
   ],
   "source": [
    "tour_df = tour_dfs['tour_1'].iloc[:,[0,2,3,4,5]]\n",
    "tour_df['키워드'] = tour_df['장소 카테고리'] + ', ' + tour_df['대분류'] + ', ' + tour_df['중분류'] + ', ' + tour_df['소분류']\n",
    "tour_df = tour_df[tour_df['장소 카테고리'].apply(lambda x: x != \"음식점\")]\n",
    "tour_df['embedding'] = tour_df['키워드'].apply(lambda x: get_embedding(x))\n",
    "#tour_df"
   ]
  },
  {
   "cell_type": "code",
   "execution_count": 84,
   "id": "ec37b1c6",
   "metadata": {},
   "outputs": [],
   "source": [
    "tour_df_emb = pd.DataFrame()"
   ]
  },
  {
   "cell_type": "code",
   "execution_count": 85,
   "id": "df5d0c67",
   "metadata": {},
   "outputs": [
    {
     "name": "stderr",
     "output_type": "stream",
     "text": [
      "place: 100%|██████████| 478/478 [00:02<00:00, 222.18it/s]\n"
     ]
    }
   ],
   "source": [
    "from tqdm import tqdm\n",
    "# 각 MBTI 유형에 대해 llm 0.5 other 0.5 유사도 계산\n",
    "num = 0\n",
    "for place, place_embedding in tqdm(tour_df[['관광지명','embedding']].values, desc='place'):\n",
    "    for mbti, mbti_embedding in mbti_df[['mbti','embedding']].values:\n",
    "    \n",
    "        similarity = calculate_similarity(place_embedding, mbti_embedding)\n",
    "        #print(f\"{mbti} 유형과 {name} 키워드의 유사도: {similarity:.6f}\")\n",
    "        tour_df_emb.loc[num, '관광지명'] = place\n",
    "        tour_df_emb.loc[num, mbti] = similarity\n",
    "    num += 1"
   ]
  },
  {
   "cell_type": "code",
   "execution_count": 86,
   "id": "64b6f150",
   "metadata": {},
   "outputs": [],
   "source": [
    "tour_df_mbti = {} # mbti : [관광지명]\n",
    "\n",
    "# 유사도 백분위수 상위 25% 이상인 관광지명 추출\n",
    "for mbti in mbti_df['mbti']:\n",
    "    tour_df_mbti[mbti] = tour_df_emb.loc[tour_df_emb[mbti].apply(lambda x: x >= tour_df_emb[mbti].quantile(0.75,interpolation='nearest'))].sort_values(ascending=False, by = mbti)['관광지명'].tolist()"
   ]
  },
  {
   "cell_type": "markdown",
   "id": "e98f635c",
   "metadata": {},
   "source": [
    "### 유사도 백분위수 상위 25%인 장소명과 기존 데이터 병합"
   ]
  },
  {
   "cell_type": "code",
   "execution_count": 93,
   "id": "6a0eac91",
   "metadata": {},
   "outputs": [],
   "source": [
    "import os\n",
    "for mbti in mbti_df['mbti']:\n",
    "    for month in range(1,13):\n",
    "        df = tour_dfs[f\"tour_{month}\"][tour_dfs[f\"tour_{month}\"]['관광지명'].apply(lambda x: x in tour_df_mbti[mbti])]\n",
    "        if not os.path.exists(f'./data/tour_df/{mbti}'):\n",
    "            os.mkdir(f'./data/tour_df/{mbti}')\n",
    "        df.to_csv(f'./data/tour_df/{mbti}/tour_{month}_{mbti}.csv', index=False)"
   ]
  },
  {
   "cell_type": "markdown",
   "id": "df1113eb",
   "metadata": {},
   "source": [
    "### 음식점과 MBTI 유형 간 유사도 계산"
   ]
  },
  {
   "cell_type": "code",
   "execution_count": 4,
   "id": "7f90b77b",
   "metadata": {},
   "outputs": [],
   "source": [
    "mct_df_emb = pd.DataFrame()"
   ]
  },
  {
   "cell_type": "code",
   "execution_count": 21,
   "id": "bfe66993",
   "metadata": {},
   "outputs": [
    {
     "name": "stderr",
     "output_type": "stream",
     "text": [
      "place: 100%|██████████| 5744/5744 [00:28<00:00, 200.08it/s]\n"
     ]
    }
   ],
   "source": [
    "# 각 MBTI 유형에 대해 llm 0.5 other 0.5 유사도 계산\n",
    "num = 0\n",
    "for place, place_embedding in tqdm(review[['MCT_NM','llm5_other5']].values, desc='place'):\n",
    "    for mbti, mbti_embedding in mbti_df[['mbti','embedding']].values:\n",
    "    \n",
    "        similarity = calculate_similarity(place_embedding, mbti_embedding)\n",
    "        #print(f\"{mbti} 유형과 {name} 키워드의 유사도: {similarity:.6f}\")\n",
    "        mct_df_emb.loc[num, '음식점명'] = place\n",
    "        mct_df_emb.loc[num, mbti] = similarity\n",
    "    num += 1"
   ]
  },
  {
   "cell_type": "markdown",
   "id": "df46feaa",
   "metadata": {},
   "source": [
    "### 유사도 백분위수 상위 25%인 장소명과 기존 데이터 병합"
   ]
  },
  {
   "cell_type": "markdown",
   "id": "4c057443",
   "metadata": {},
   "source": [
    "- 병하가 준 월별 mct 데이터"
   ]
  },
  {
   "cell_type": "code",
   "execution_count": 38,
   "id": "84fac538",
   "metadata": {},
   "outputs": [],
   "source": [
    "mct_dfs = {}\n",
    "\n",
    "from glob import glob\n",
    "csvs = glob('./data/mct_df/original/*.csv')\n",
    "csvs.sort()\n",
    "for i, j in enumerate(csvs):\n",
    "    mct_dfs[f\"mct_{i+1}\"] = pd.read_csv(j)\n"
   ]
  },
  {
   "cell_type": "code",
   "execution_count": 39,
   "id": "61afdc8f",
   "metadata": {},
   "outputs": [],
   "source": [
    "mct_df_mbti = {} # mbti : [관광지명]\n",
    "\n",
    "# 유사도 백분위수 상위 25% 이상인 관광지명 추출\n",
    "for mbti in mbti_df['mbti']:\n",
    "    mct_df_mbti[mbti] = mct_df_emb.loc[mct_df_emb[mbti].apply(lambda x: x >= mct_df_emb[mbti].quantile(0.75,interpolation='nearest'))].sort_values(ascending=False, by = mbti)['음식점명'].tolist()"
   ]
  },
  {
   "cell_type": "code",
   "execution_count": 3,
   "id": "2b6cffa0",
   "metadata": {},
   "outputs": [],
   "source": [
    "# import os\n",
    "# for mbti in mbti_df['mbti']:\n",
    "#     for month in range(1,13):\n",
    "#         df = mct_dfs[f\"mct_{month}\"][mct_dfs[f\"mct_{month}\"]['가맹점명'].apply(lambda x: x in mct_df_mbti[mbti])]\n",
    "#         if not os.path.exists(f'./data/mct_df/{mbti}'):\n",
    "#             os.mkdir(f'./data/mct_df/{mbti}')\n",
    "                \n",
    "#         # df['건당평균이용금액구간'] =  df['건당평균이용금액구간'].apply(lambda x: \"상위 \"+ x[2:] if not x[2:].startswith(\"상위\") else x[2:])\n",
    "#         # df['이용금액구간'] =  df['이용금액구간'].apply(lambda x: \"상위 \"+ x[2:] if not x[2:].startswith(\"상위\") else x[2:])\n",
    "#         # df['이용건수구간'] =  df['이용건수구간'].apply(lambda x: \"상위 \"+ x[2:] if not x[2:].startswith(\"상위\") else x[2:])\n",
    "#         df.to_csv(f'./data/mct_df/{mbti}/mct_{month}_{mbti}.csv', index=False)\n",
    "\n"
   ]
  },
  {
   "cell_type": "code",
   "execution_count": 33,
   "id": "3cb7b1b6",
   "metadata": {},
   "outputs": [],
   "source": [
    "import os\n",
    "for mbti in mbti_df['mbti']:\n",
    "    for month in range(1,13):\n",
    "        df = mct_dfs[f\"mct_{month}\"][mct_dfs[f\"mct_{month}\"]['가맹점명'].apply(lambda x: x in mct_df_mbti[mbti])]\n",
    "        if not os.path.exists(f'./data/mct_df/{mbti}'):\n",
    "            os.mkdir(f'./data/mct_df/{mbti}')\n",
    "        df.to_csv(f'./data/mct_df/{mbti}/mct_{month}_{mbti}.csv', index=False)"
   ]
  },
  {
   "cell_type": "markdown",
   "id": "dbb3a732",
   "metadata": {},
   "source": [
    "### 지오코딩 위도 경도 데이터와 리뷰 데이터 재방문율, 키워드 데이터 병합"
   ]
  },
  {
   "cell_type": "code",
   "execution_count": 122,
   "id": "bb34d7dc",
   "metadata": {},
   "outputs": [],
   "source": [
    "geo_tour = pd.read_csv('jeju/geocoding/관광지_위도경도SUM.csv')\n",
    "geo_mct = pd.read_csv('jeju/geocoding/JEJU_MCT_위도경도SUM.csv')"
   ]
  },
  {
   "cell_type": "code",
   "execution_count": 123,
   "id": "295e826e",
   "metadata": {},
   "outputs": [],
   "source": [
    "geo_mct = geo_mct[['MCT_NM','위도','경도']]\n",
    "geo_mct.rename(columns={'MCT_NM':'가맹점명'}, inplace=True)\n",
    "geo_mct.drop_duplicates(subset=['가맹점명'], keep='first', inplace=True)\n",
    "geo_tour = geo_tour[['AREA_NM','위도','경도']]\n",
    "geo_tour.rename(columns={'AREA_NM':'관광지명'}, inplace=True)\n",
    "geo_tour.drop_duplicates(subset=['관광지명'], keep='first', inplace=True)"
   ]
  },
  {
   "cell_type": "code",
   "execution_count": 124,
   "id": "f1fa295e",
   "metadata": {},
   "outputs": [],
   "source": [
    "review_vm = review[['MCT_NM','visit_mean','LLM_keywords']]"
   ]
  },
  {
   "cell_type": "code",
   "execution_count": 125,
   "id": "38f217a4",
   "metadata": {},
   "outputs": [
    {
     "name": "stderr",
     "output_type": "stream",
     "text": [
      "/var/folders/y3/l8bvkgx53cd0nbrk2b450t7m0000gn/T/ipykernel_8254/2697788816.py:1: SettingWithCopyWarning: \n",
      "A value is trying to be set on a copy of a slice from a DataFrame\n",
      "\n",
      "See the caveats in the documentation: https://pandas.pydata.org/pandas-docs/stable/user_guide/indexing.html#returning-a-view-versus-a-copy\n",
      "  review_vm.rename(columns={'MCT_NM':'가맹점명','visit_mean':'재방문율 평균','LLM_keywords':\"리뷰키워드_20개\"}, inplace=True)\n"
     ]
    }
   ],
   "source": [
    "review_vm.rename(columns={'MCT_NM':'가맹점명','visit_mean':'재방문율 평균','LLM_keywords':\"리뷰키워드_20개\"}, inplace=True)"
   ]
  },
  {
   "cell_type": "code",
   "execution_count": 126,
   "id": "584193e1",
   "metadata": {},
   "outputs": [
    {
     "name": "stderr",
     "output_type": "stream",
     "text": [
      "/var/folders/y3/l8bvkgx53cd0nbrk2b450t7m0000gn/T/ipykernel_8254/1006817617.py:1: SettingWithCopyWarning: \n",
      "A value is trying to be set on a copy of a slice from a DataFrame\n",
      "\n",
      "See the caveats in the documentation: https://pandas.pydata.org/pandas-docs/stable/user_guide/indexing.html#returning-a-view-versus-a-copy\n",
      "  review_vm.drop_duplicates(subset=['가맹점명'], keep='first', inplace=True)\n"
     ]
    },
    {
     "data": {
      "text/html": [
       "<div>\n",
       "<style scoped>\n",
       "    .dataframe tbody tr th:only-of-type {\n",
       "        vertical-align: middle;\n",
       "    }\n",
       "\n",
       "    .dataframe tbody tr th {\n",
       "        vertical-align: top;\n",
       "    }\n",
       "\n",
       "    .dataframe thead th {\n",
       "        text-align: right;\n",
       "    }\n",
       "</style>\n",
       "<table border=\"1\" class=\"dataframe\">\n",
       "  <thead>\n",
       "    <tr style=\"text-align: right;\">\n",
       "      <th></th>\n",
       "      <th>가맹점명</th>\n",
       "      <th>재방문율 평균</th>\n",
       "      <th>리뷰키워드_20개</th>\n",
       "    </tr>\n",
       "  </thead>\n",
       "  <tbody>\n",
       "    <tr>\n",
       "      <th>0</th>\n",
       "      <td>올레길설렁탕</td>\n",
       "      <td>1.297872</td>\n",
       "      <td>[설렁탕, 뚝불, 콩국수, 맛집, 도가니탕, 전골, 맛있다, 친절하다, 진하다, 시...</td>\n",
       "    </tr>\n",
       "    <tr>\n",
       "      <th>1</th>\n",
       "      <td>돈도칸연동흑돼지</td>\n",
       "      <td>1.080000</td>\n",
       "      <td>[흑돼지, 맛있다, 고기, 굽다, 직원, 친절하다, 소스, 톳, 땅콩, 빵가루, 육...</td>\n",
       "    </tr>\n",
       "    <tr>\n",
       "      <th>2</th>\n",
       "      <td>돈사돈 한림협재점</td>\n",
       "      <td>1.060000</td>\n",
       "      <td>돈사돈 : [흑돼지, 맛집, 맛있다, 친절하다, 최고, 굽다, 육즙, 부드럽다, 두...</td>\n",
       "    </tr>\n",
       "    <tr>\n",
       "      <th>3</th>\n",
       "      <td>표선장수고을</td>\n",
       "      <td>2.157895</td>\n",
       "      <td>[삼계탕, 맛집, 솥밥, 맛있다, 친절하다, 착하다, 푸짐하다, 든든하다, 정성, ...</td>\n",
       "    </tr>\n",
       "    <tr>\n",
       "      <th>4</th>\n",
       "      <td>폴 바셋 제주이호DT점</td>\n",
       "      <td>1.400000</td>\n",
       "      <td>폴바: 넓다, 쾌적하다, 조용하다, 맛있다, 친절하다, 뷰, 넓은, 깔끔하다, 좋다...</td>\n",
       "    </tr>\n",
       "    <tr>\n",
       "      <th>...</th>\n",
       "      <td>...</td>\n",
       "      <td>...</td>\n",
       "      <td>...</td>\n",
       "    </tr>\n",
       "    <tr>\n",
       "      <th>5739</th>\n",
       "      <td>섬마당갈비</td>\n",
       "      <td>1.500000</td>\n",
       "      <td>섬마당갈비 : 생갈비, 양념갈비, 맛있다, 푸짐하다, 가성비, 밑반찬, 계란찜, 양...</td>\n",
       "    </tr>\n",
       "    <tr>\n",
       "      <th>5740</th>\n",
       "      <td>제주검정보리마씸</td>\n",
       "      <td>1.200000</td>\n",
       "      <td>제주도 맛집 키워드:맛:  - 맛있다,  - 건강하다, - 시원하다, - 감칠맛,...</td>\n",
       "    </tr>\n",
       "    <tr>\n",
       "      <th>5741</th>\n",
       "      <td>표선수산마트</td>\n",
       "      <td>1.080000</td>\n",
       "      <td>[신선, 맛있다, 싱싱, 저렴, 가성비, 친절, 푸짐, 넉넉, 양, 많다, 착하다,...</td>\n",
       "    </tr>\n",
       "    <tr>\n",
       "      <th>5742</th>\n",
       "      <td>할매추어탕</td>\n",
       "      <td>1.620000</td>\n",
       "      <td>[추어탕, 게장, 맛있다, 든든하다, 건강하다, 깔끔하다, 친절하다, 푸짐하다, 신...</td>\n",
       "    </tr>\n",
       "    <tr>\n",
       "      <th>5743</th>\n",
       "      <td>재연식당</td>\n",
       "      <td>1.080000</td>\n",
       "      <td>[백반, 맛집, 가성비, 푸짐, 든든, 친절, 맛있다, 혼밥, 제주, 미역국, 고등...</td>\n",
       "    </tr>\n",
       "  </tbody>\n",
       "</table>\n",
       "<p>5684 rows × 3 columns</p>\n",
       "</div>"
      ],
      "text/plain": [
       "              가맹점명   재방문율 평균  \\\n",
       "0           올레길설렁탕  1.297872   \n",
       "1         돈도칸연동흑돼지  1.080000   \n",
       "2        돈사돈 한림협재점  1.060000   \n",
       "3           표선장수고을  2.157895   \n",
       "4     폴 바셋 제주이호DT점  1.400000   \n",
       "...            ...       ...   \n",
       "5739         섬마당갈비  1.500000   \n",
       "5740      제주검정보리마씸  1.200000   \n",
       "5741        표선수산마트  1.080000   \n",
       "5742         할매추어탕  1.620000   \n",
       "5743          재연식당  1.080000   \n",
       "\n",
       "                                              리뷰키워드_20개  \n",
       "0     [설렁탕, 뚝불, 콩국수, 맛집, 도가니탕, 전골, 맛있다, 친절하다, 진하다, 시...  \n",
       "1     [흑돼지, 맛있다, 고기, 굽다, 직원, 친절하다, 소스, 톳, 땅콩, 빵가루, 육...  \n",
       "2     돈사돈 : [흑돼지, 맛집, 맛있다, 친절하다, 최고, 굽다, 육즙, 부드럽다, 두...  \n",
       "3     [삼계탕, 맛집, 솥밥, 맛있다, 친절하다, 착하다, 푸짐하다, 든든하다, 정성, ...  \n",
       "4     폴바: 넓다, 쾌적하다, 조용하다, 맛있다, 친절하다, 뷰, 넓은, 깔끔하다, 좋다...  \n",
       "...                                                 ...  \n",
       "5739  섬마당갈비 : 생갈비, 양념갈비, 맛있다, 푸짐하다, 가성비, 밑반찬, 계란찜, 양...  \n",
       "5740   제주도 맛집 키워드:맛:  - 맛있다,  - 건강하다, - 시원하다, - 감칠맛,...  \n",
       "5741  [신선, 맛있다, 싱싱, 저렴, 가성비, 친절, 푸짐, 넉넉, 양, 많다, 착하다,...  \n",
       "5742  [추어탕, 게장, 맛있다, 든든하다, 건강하다, 깔끔하다, 친절하다, 푸짐하다, 신...  \n",
       "5743  [백반, 맛집, 가성비, 푸짐, 든든, 친절, 맛있다, 혼밥, 제주, 미역국, 고등...  \n",
       "\n",
       "[5684 rows x 3 columns]"
      ]
     },
     "execution_count": 126,
     "metadata": {},
     "output_type": "execute_result"
    }
   ],
   "source": [
    "review_vm.drop_duplicates(subset=['가맹점명'], keep='first', inplace=True)"
   ]
  },
  {
   "cell_type": "code",
   "execution_count": 127,
   "id": "9d6957dd",
   "metadata": {},
   "outputs": [
    {
     "name": "stderr",
     "output_type": "stream",
     "text": [
      "/var/folders/y3/l8bvkgx53cd0nbrk2b450t7m0000gn/T/ipykernel_8254/3880458904.py:1: SettingWithCopyWarning: \n",
      "A value is trying to be set on a copy of a slice from a DataFrame.\n",
      "Try using .loc[row_indexer,col_indexer] = value instead\n",
      "\n",
      "See the caveats in the documentation: https://pandas.pydata.org/pandas-docs/stable/user_guide/indexing.html#returning-a-view-versus-a-copy\n",
      "  review_vm['재방문율 평균'] = review_vm['재방문율 평균'].apply(lambda x: round(x,2))\n"
     ]
    }
   ],
   "source": [
    "review_vm['재방문율 평균'] = review_vm['재방문율 평균'].apply(lambda x: round(x,2))"
   ]
  },
  {
   "cell_type": "code",
   "execution_count": 56,
   "id": "8496ca5d",
   "metadata": {},
   "outputs": [],
   "source": [
    "mct_folders = os.listdir('./data/mct_df')\n",
    "mct_folders.remove('.DS_Store')"
   ]
  },
  {
   "cell_type": "code",
   "execution_count": 70,
   "id": "cc09a16f",
   "metadata": {},
   "outputs": [],
   "source": [
    "mct_folders = [os.path.join('./data/mct_df',x) for x in mct_folders]\n",
    "mct_folders_all = []\n",
    "for f in mct_folders:\n",
    "    files = glob(f+'/*.csv')\n",
    "    for file in files:\n",
    "        mct_folders_all.append(file)"
   ]
  },
  {
   "cell_type": "code",
   "execution_count": 67,
   "id": "213273c1",
   "metadata": {},
   "outputs": [],
   "source": [
    "tour_folders = os.listdir('./data/tour_df')\n",
    "tour_folders.remove('.DS_Store')"
   ]
  },
  {
   "cell_type": "code",
   "execution_count": 68,
   "id": "a7aeb43a",
   "metadata": {},
   "outputs": [],
   "source": [
    "tour_folders = [os.path.join('./data/tour_df',x) for x in tour_folders]\n",
    "tour_folders_all = []\n",
    "for f in tour_folders:\n",
    "    files = glob(f+'/*.csv')\n",
    "    for file in files:\n",
    "        tour_folders_all.append(file)"
   ]
  },
  {
   "cell_type": "markdown",
   "id": "2ecae6bf",
   "metadata": {},
   "source": [
    "- 관광지 데이터와 위도경도 데이터 병함"
   ]
  },
  {
   "cell_type": "code",
   "execution_count": 134,
   "id": "228fe870",
   "metadata": {},
   "outputs": [],
   "source": [
    "for file in tour_folders_all:\n",
    "    df = pd.read_csv(file)\n",
    "    df = pd.merge(df, geo_tour, on='관광지명', how='left')\n",
    "    df.rename(columns={'text':\"정보\"}, inplace=True)\n",
    "    df.to_csv(file, index=False)\n",
    "    "
   ]
  },
  {
   "cell_type": "markdown",
   "id": "9658abb8",
   "metadata": {},
   "source": [
    "- 음식점 데이터와 위도경도 데이터 병합, llm리뷰키워드, 재방문율 평균 추가"
   ]
  },
  {
   "cell_type": "code",
   "execution_count": 114,
   "id": "75c1de07",
   "metadata": {},
   "outputs": [],
   "source": [
    "for file in mct_folders_all:\n",
    "    df = pd.read_csv(file)\n",
    "    df = pd.merge(df, geo_mct, on='가맹점명', how='left')\n",
    "    df = pd.merge(df, review_vm, on='가맹점명', how='left')\n",
    "    df.rename(columns={'text':\"정보\"},inplace=True)\n",
    "    df['정보'] = df['정보']+\" 해당 가맹점의 고객 평균 재방문율은 \"+df['재방문율 평균'].astype(str) +\" 입니다.\"+\" 해당 가맹점에 대한 이용객의 리뷰 키워드는 다음과 같습니다: \" + df['리뷰키워드_20개']\n",
    "    df.to_csv(file, index=False)"
   ]
  },
  {
   "cell_type": "markdown",
   "id": "e2a1690e",
   "metadata": {},
   "source": [
    "- 장소명 중복값 제거"
   ]
  },
  {
   "cell_type": "code",
   "execution_count": 130,
   "id": "7a99bb63",
   "metadata": {},
   "outputs": [],
   "source": [
    "for file in mct_folders_all:\n",
    "    df = pd.read_csv(file)\n",
    "    df.drop_duplicates(subset='가맹점명', keep='first', inplace=True)\n",
    "    df.to_csv(file, index=False)\n",
    "\n",
    "for file in tour_folders_all:\n",
    "    df = pd.read_csv(file)\n",
    "    df.drop_duplicates(subset='관광지명', keep='first', inplace=True)\n",
    "    df.to_csv(file, index=False)"
   ]
  },
  {
   "cell_type": "markdown",
   "id": "b0358381",
   "metadata": {},
   "source": [
    "### 기준월과 데이터명이 다른 경우 데이터 명 변경\n",
    "### 중복 월은 없음"
   ]
  },
  {
   "cell_type": "markdown",
   "id": "bc92d3e0",
   "metadata": {},
   "source": [
    "- tour_df는 민성이 위도 경도 코드 받아서 추가"
   ]
  },
  {
   "cell_type": "code",
   "execution_count": 1,
   "id": "11799caf",
   "metadata": {},
   "outputs": [],
   "source": [
    "import pandas as pd\n",
    "import os\n",
    "from glob import glob"
   ]
  },
  {
   "cell_type": "code",
   "execution_count": 2,
   "id": "e17cd2dd",
   "metadata": {},
   "outputs": [],
   "source": [
    "mct_db_folders = os.listdir('./jeju/chatbot_arch/database/mct_db_havetofix')\n",
    "#mct_db_folders.remove('.DS_Store')\n",
    "mct_db_folders = [os.path.join('./jeju/chatbot_arch/database/mct_db_havetofix',x) for x in mct_db_folders]\n",
    "mct_db_folders_all = []\n",
    "for f in mct_db_folders:\n",
    "    files = glob(f+'/*.faiss')\n",
    "    files += glob(f+'/*.pkl')\n",
    "    for file in files:\n",
    "        mct_db_folders_all.append(file)\n",
    "tour_db_folders = os.listdir('./jeju/chatbot_arch/database/tour_db_havetofix')\n",
    "#tour_db_folders.remove('.DS_Store')\n",
    "tour_db_folders = [os.path.join('./jeju/chatbot_arch/database/tour_db_havetofix',x) for x in tour_db_folders]\n",
    "tour_db_folders_all = []\n",
    "for f in tour_db_folders:\n",
    "    files = glob(f+'/*.faiss')\n",
    "    files += glob(f+'/*.pkl')\n",
    "    for file in files:\n",
    "        tour_db_folders_all.append(file)"
   ]
  },
  {
   "cell_type": "code",
   "execution_count": 19,
   "id": "a2446199",
   "metadata": {},
   "outputs": [],
   "source": [
    "mct_folders = os.listdir('./rename_data/mct_df_havetofix')\n",
    "#mct_folders.remove('.DS_Store')\n",
    "mct_folders = [os.path.join('./rename_data/mct_df_havetofix',x) for x in mct_folders]\n",
    "mct_folders_all = []\n",
    "for f in mct_folders:\n",
    "    files = glob(f+'/*.csv')\n",
    "    for file in files:\n",
    "        mct_folders_all.append(file)\n",
    "tour_folders = os.listdir('./rename_data/tour_df_havetofix')\n",
    "#tour_folders.remove('.DS_Store')\n",
    "tour_folders = [os.path.join('./rename_data/tour_df_havetofix',x) for x in tour_folders]\n",
    "tour_folders_all = []\n",
    "for f in tour_folders:\n",
    "    files = glob(f+'/*.csv')\n",
    "    for file in files:\n",
    "        tour_folders_all.append(file)"
   ]
  },
  {
   "cell_type": "code",
   "execution_count": 4,
   "id": "026b6f97",
   "metadata": {},
   "outputs": [],
   "source": [
    "havetofix = []\n",
    "for file in mct_folders_all:\n",
    "    df = pd.read_csv(file)\n",
    "    rename = \"\"\n",
    "    file_month = file.split('/')[-2:][-1].split('_')[1]\n",
    "    data_month = str(df['기준연월'][0])[-2:]\n",
    "    if data_month.startswith('0'):\n",
    "        data_month = data_month[1:]\n",
    "    if  file_month != data_month : # 파일명과 데이터 기준월이 다를 경우 파일명 변경\n",
    "        rename = file.replace(file_month, data_month).replace('_havetofix','')\n",
    "    else:\n",
    "        rename = file.replace('_havetofix','')\n",
    "\n",
    "    havetofix.append({'file':file, 'rename':rename})\n",
    "\n",
    "    # if not os.path.exists(os.path.dirname(rename)):\n",
    "    #     os.mkdir(os.path.dirname(rename))\n",
    "    # df.to_csv(rename, index=False)\n",
    "        #print(os.path.dirname(rename))\n",
    "    "
   ]
  },
  {
   "cell_type": "code",
   "execution_count": 20,
   "id": "b01b9cb9",
   "metadata": {},
   "outputs": [],
   "source": [
    "havetofix_tour = []\n",
    "for file in tour_folders_all:\n",
    "    df = pd.read_csv(file)\n",
    "    rename = \"\"\n",
    "    file_month = file.split('/')[-2:][-1].split('_')[1]\n",
    "    data_month = str(int(df['기준월'][0]))\n",
    "    #print(file_month, data_month)\n",
    "\n",
    "    if data_month.startswith('0'):\n",
    "        data_month = data_month[1:]\n",
    "    if  file_month != data_month : # 파일명과 데이터 기준월이 다를 경우 파일명 변경\n",
    "        rename = file.replace(file_month, data_month).replace('_havetofix','')\n",
    "        #print(rename)\n",
    "    else:\n",
    "        rename = file.replace('_havetofix','')\n",
    "\n",
    "    havetofix_tour.append({'file':file, 'rename':rename})\n",
    "\n",
    "    # if not os.path.exists(os.path.dirname(rename)):\n",
    "    #     os.mkdir(os.path.dirname(rename))\n",
    "    # df.to_csv(rename, index=False)\n",
    "    #     #print(os.path.dirname(rename))\n",
    "    "
   ]
  },
  {
   "cell_type": "code",
   "execution_count": 29,
   "id": "ac209c29",
   "metadata": {},
   "outputs": [],
   "source": [
    "for dic in havetofix_tour:\n",
    "    df = pd.read_csv(dic['file'])\n",
    "    if 'Unnamed: 0' in df.columns:\n",
    "        df.drop(columns=['Unnamed: 0','Unnamed: 0.1'], inplace=True)\n",
    "    df.to_csv(dic['rename'], index=False)"
   ]
  },
  {
   "cell_type": "code",
   "execution_count": 24,
   "id": "1ff94ba9",
   "metadata": {},
   "outputs": [],
   "source": [
    "for dic in havetofix:\n",
    "    df = pd.read_csv(dic['file'])\n",
    "    if 'Unnamed: 0' in df.columns:\n",
    "        df.drop(columns=['Unnamed: 0'], inplace=True)\n",
    "    df.to_csv(dic['rename'], index=False)"
   ]
  }
 ],
 "metadata": {
  "kernelspec": {
   "display_name": "bigcon",
   "language": "python",
   "name": "python3"
  },
  "language_info": {
   "codemirror_mode": {
    "name": "ipython",
    "version": 3
   },
   "file_extension": ".py",
   "mimetype": "text/x-python",
   "name": "python",
   "nbconvert_exporter": "python",
   "pygments_lexer": "ipython3",
   "version": "3.11.10"
  }
 },
 "nbformat": 4,
 "nbformat_minor": 5
}
