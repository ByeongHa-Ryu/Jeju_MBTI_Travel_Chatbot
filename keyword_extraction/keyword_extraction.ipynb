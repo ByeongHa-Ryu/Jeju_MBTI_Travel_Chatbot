{
 "cells": [
  {
   "cell_type": "code",
   "execution_count": 1,
   "metadata": {},
   "outputs": [],
   "source": [
    "# required modules \n",
    "import pandas as pd\n",
    "import re\n",
    "from konlpy.tag import Okt\n",
    "from tqdm import tqdm\n",
    "from sklearn.feature_extraction.text import TfidfVectorizer"
   ]
  },
  {
   "cell_type": "code",
   "execution_count": 3,
   "metadata": {},
   "outputs": [],
   "source": [
    "# sample dataframe \n",
    "data = {\n",
    "    'name': [\n",
    "        '제주 갈치조림', \n",
    "        '부산 돼지국밥', \n",
    "        '서울 떡볶이', \n",
    "        '강릉 초당순두부', \n",
    "        '전주 비빔밥'\n",
    "    ],\n",
    "    'raw_text': [\n",
    "        '사장님이 너무 친절하고 갈치가 매콤해서 맛있었어요',\n",
    "        '국물이 진하고 고기가 부드러워서 정말 좋았어요',\n",
    "        '떡이 쫄깃하고 양념이 맛있어서 또 가고 싶어요',\n",
    "        '담백하고 고소한 순두부가 일품이었어요',\n",
    "        '비빔밥 재료가 신선하고 양이 많아서 만족했어요'\n",
    "    ]\n",
    "}\n",
    "df = pd.DataFrame(data)\n",
    "\n",
    "\n",
    "# data_path = ''\n",
    "# df = pd.read_csv(data_path)"
   ]
  },
  {
   "cell_type": "markdown",
   "metadata": {},
   "source": [
    "# text_processing"
   ]
  },
  {
   "cell_type": "code",
   "execution_count": 4,
   "metadata": {},
   "outputs": [],
   "source": [
    "okt = Okt()\n",
    "\n",
    "def remove_non_korean(text):\n",
    "    \"\"\"리뷰에서 한글을 제외한 모든 문자 제거\"\"\"\n",
    "    return re.sub(r\"[^ㄱ-ㅎㅏ-ㅣ가-힣\\s]\", \"\", text)\n",
    "\n",
    "\n",
    "def load_stopwords(filepath=\"k_stopword.txt\"):\n",
    "    \"\"\"불용어 txt 파일을 읽어 불용어 리스트 반환\"\"\"\n",
    "    with open(filepath, \"r\", encoding=\"utf-8\") as f:\n",
    "        stopwords = f.read().splitlines()\n",
    "    return stopwords\n",
    "\n",
    "stopwords = load_stopwords()\n",
    "\n",
    "\n",
    "def okt_tokenize(text):\n",
    "    \"\"\"Okt를 이용한 형태소 분석 및 불필요 품사 제거\"\"\"\n",
    "    # 형태소 분석 및 품사 태깅\n",
    "    words = okt.pos(text, stem=True)  # 어간 추출\n",
    "    \n",
    "    # 필요한 품사만 필터링 (명사, 동사, 형용사, 부사)\n",
    "    selected_words = [\n",
    "        word for word, pos in words if pos in ['Noun', 'Verb', 'Adjective', 'Adverb']\n",
    "    ]\n",
    "    \n",
    "    # 불용어 제거\n",
    "    filtered_words = [word for word in selected_words if word not in stopwords]\n",
    "    \n",
    "    # 최종 단어들을 문자열로 반환\n",
    "    return \" \".join(filtered_words)\n",
    "\n",
    "\n",
    "def preprocess_review(text):\n",
    "    \"\"\"리뷰 텍스트를 전처리하고 형태소 분석한 최종 결과 반환\"\"\"\n",
    "    text = remove_non_korean(text)\n",
    "    processed_text = okt_tokenize(text)\n",
    "    \n",
    "    return processed_text"
   ]
  },
  {
   "cell_type": "code",
   "execution_count": 5,
   "metadata": {},
   "outputs": [
    {
     "name": "stderr",
     "output_type": "stream",
     "text": [
      "100%|██████████| 5/5 [00:05<00:00,  1.00s/it]\n"
     ]
    }
   ],
   "source": [
    "tqdm.pandas()\n",
    "df['pos_tag'] = df['raw_text'].progress_apply(preprocess_review)"
   ]
  },
  {
   "cell_type": "code",
   "execution_count": 6,
   "metadata": {},
   "outputs": [
    {
     "data": {
      "text/html": [
       "<div>\n",
       "<style scoped>\n",
       "    .dataframe tbody tr th:only-of-type {\n",
       "        vertical-align: middle;\n",
       "    }\n",
       "\n",
       "    .dataframe tbody tr th {\n",
       "        vertical-align: top;\n",
       "    }\n",
       "\n",
       "    .dataframe thead th {\n",
       "        text-align: right;\n",
       "    }\n",
       "</style>\n",
       "<table border=\"1\" class=\"dataframe\">\n",
       "  <thead>\n",
       "    <tr style=\"text-align: right;\">\n",
       "      <th></th>\n",
       "      <th>name</th>\n",
       "      <th>raw_text</th>\n",
       "      <th>pos_tag</th>\n",
       "    </tr>\n",
       "  </thead>\n",
       "  <tbody>\n",
       "    <tr>\n",
       "      <th>0</th>\n",
       "      <td>제주 갈치조림</td>\n",
       "      <td>사장님이 너무 친절하고 갈치가 매콤해서 맛있었어요</td>\n",
       "      <td>사장 너무 친절하다 갈치 매콤 맛있다</td>\n",
       "    </tr>\n",
       "    <tr>\n",
       "      <th>1</th>\n",
       "      <td>부산 돼지국밥</td>\n",
       "      <td>국물이 진하고 고기가 부드러워서 정말 좋았어요</td>\n",
       "      <td>국물 진하다 고기 부드럽다 정말 좋다</td>\n",
       "    </tr>\n",
       "    <tr>\n",
       "      <th>2</th>\n",
       "      <td>서울 떡볶이</td>\n",
       "      <td>떡이 쫄깃하고 양념이 맛있어서 또 가고 싶어요</td>\n",
       "      <td>떡 쫄깃 양념 맛있다 가다 싶다</td>\n",
       "    </tr>\n",
       "    <tr>\n",
       "      <th>3</th>\n",
       "      <td>강릉 초당순두부</td>\n",
       "      <td>담백하고 고소한 순두부가 일품이었어요</td>\n",
       "      <td>담백하다 고소하다 순두부 일품</td>\n",
       "    </tr>\n",
       "    <tr>\n",
       "      <th>4</th>\n",
       "      <td>전주 비빔밥</td>\n",
       "      <td>비빔밥 재료가 신선하고 양이 많아서 만족했어요</td>\n",
       "      <td>비빔밥 재료 신선하다 양 많다 만족하다</td>\n",
       "    </tr>\n",
       "  </tbody>\n",
       "</table>\n",
       "</div>"
      ],
      "text/plain": [
       "       name                     raw_text                pos_tag\n",
       "0   제주 갈치조림  사장님이 너무 친절하고 갈치가 매콤해서 맛있었어요   사장 너무 친절하다 갈치 매콤 맛있다\n",
       "1   부산 돼지국밥    국물이 진하고 고기가 부드러워서 정말 좋았어요   국물 진하다 고기 부드럽다 정말 좋다\n",
       "2    서울 떡볶이    떡이 쫄깃하고 양념이 맛있어서 또 가고 싶어요      떡 쫄깃 양념 맛있다 가다 싶다\n",
       "3  강릉 초당순두부         담백하고 고소한 순두부가 일품이었어요       담백하다 고소하다 순두부 일품\n",
       "4    전주 비빔밥    비빔밥 재료가 신선하고 양이 많아서 만족했어요  비빔밥 재료 신선하다 양 많다 만족하다"
      ]
     },
     "execution_count": 6,
     "metadata": {},
     "output_type": "execute_result"
    }
   ],
   "source": [
    "df"
   ]
  },
  {
   "cell_type": "markdown",
   "metadata": {},
   "source": [
    "# Keyword Extraction by TF-IDF "
   ]
  },
  {
   "cell_type": "code",
   "execution_count": 11,
   "metadata": {},
   "outputs": [],
   "source": [
    "# TF-IDF 키워드 추출 함수\n",
    "def extract_keywords_tfidf(corpus, top_n):\n",
    "    \"\"\"TF-IDF를 사용해 각 문서의 상위 N개 키워드 추출\"\"\"\n",
    "    vectorizer = TfidfVectorizer()\n",
    "    X = vectorizer.fit_transform(corpus)\n",
    "    features = vectorizer.get_feature_names_out()\n",
    "    \n",
    "    keywords = []\n",
    "    for i in tqdm(range(X.shape[0])):\n",
    "        row = X[i].toarray().flatten()\n",
    "        top_indices = row.argsort()[-top_n:][::-1]\n",
    "        top_keywords = [features[idx] for idx in top_indices]\n",
    "        keywords.append(top_keywords)\n",
    "    return keywords"
   ]
  },
  {
   "cell_type": "code",
   "execution_count": 12,
   "metadata": {},
   "outputs": [
    {
     "name": "stderr",
     "output_type": "stream",
     "text": [
      "100%|██████████| 5/5 [00:00<00:00, 2153.58it/s]\n"
     ]
    }
   ],
   "source": [
    "# pos_tag 열에서 키워드 추출\n",
    "df['keywords'] = extract_keywords_tfidf(df['pos_tag'].tolist(),3)"
   ]
  },
  {
   "cell_type": "code",
   "execution_count": 13,
   "metadata": {},
   "outputs": [
    {
     "data": {
      "text/html": [
       "<div>\n",
       "<style scoped>\n",
       "    .dataframe tbody tr th:only-of-type {\n",
       "        vertical-align: middle;\n",
       "    }\n",
       "\n",
       "    .dataframe tbody tr th {\n",
       "        vertical-align: top;\n",
       "    }\n",
       "\n",
       "    .dataframe thead th {\n",
       "        text-align: right;\n",
       "    }\n",
       "</style>\n",
       "<table border=\"1\" class=\"dataframe\">\n",
       "  <thead>\n",
       "    <tr style=\"text-align: right;\">\n",
       "      <th></th>\n",
       "      <th>name</th>\n",
       "      <th>raw_text</th>\n",
       "      <th>pos_tag</th>\n",
       "      <th>keywords</th>\n",
       "    </tr>\n",
       "  </thead>\n",
       "  <tbody>\n",
       "    <tr>\n",
       "      <th>0</th>\n",
       "      <td>제주 갈치조림</td>\n",
       "      <td>사장님이 너무 친절하고 갈치가 매콤해서 맛있었어요</td>\n",
       "      <td>사장 너무 친절하다 갈치 매콤 맛있다</td>\n",
       "      <td>[친절하다, 너무, 갈치]</td>\n",
       "    </tr>\n",
       "    <tr>\n",
       "      <th>1</th>\n",
       "      <td>부산 돼지국밥</td>\n",
       "      <td>국물이 진하고 고기가 부드러워서 정말 좋았어요</td>\n",
       "      <td>국물 진하다 고기 부드럽다 정말 좋다</td>\n",
       "      <td>[진하다, 정말, 좋다]</td>\n",
       "    </tr>\n",
       "    <tr>\n",
       "      <th>2</th>\n",
       "      <td>서울 떡볶이</td>\n",
       "      <td>떡이 쫄깃하고 양념이 맛있어서 또 가고 싶어요</td>\n",
       "      <td>떡 쫄깃 양념 맛있다 가다 싶다</td>\n",
       "      <td>[쫄깃, 양념, 싶다]</td>\n",
       "    </tr>\n",
       "    <tr>\n",
       "      <th>3</th>\n",
       "      <td>강릉 초당순두부</td>\n",
       "      <td>담백하고 고소한 순두부가 일품이었어요</td>\n",
       "      <td>담백하다 고소하다 순두부 일품</td>\n",
       "      <td>[일품, 담백하다, 고소하다]</td>\n",
       "    </tr>\n",
       "    <tr>\n",
       "      <th>4</th>\n",
       "      <td>전주 비빔밥</td>\n",
       "      <td>비빔밥 재료가 신선하고 양이 많아서 만족했어요</td>\n",
       "      <td>비빔밥 재료 신선하다 양 많다 만족하다</td>\n",
       "      <td>[재료, 만족하다, 많다]</td>\n",
       "    </tr>\n",
       "  </tbody>\n",
       "</table>\n",
       "</div>"
      ],
      "text/plain": [
       "       name                     raw_text                pos_tag  \\\n",
       "0   제주 갈치조림  사장님이 너무 친절하고 갈치가 매콤해서 맛있었어요   사장 너무 친절하다 갈치 매콤 맛있다   \n",
       "1   부산 돼지국밥    국물이 진하고 고기가 부드러워서 정말 좋았어요   국물 진하다 고기 부드럽다 정말 좋다   \n",
       "2    서울 떡볶이    떡이 쫄깃하고 양념이 맛있어서 또 가고 싶어요      떡 쫄깃 양념 맛있다 가다 싶다   \n",
       "3  강릉 초당순두부         담백하고 고소한 순두부가 일품이었어요       담백하다 고소하다 순두부 일품   \n",
       "4    전주 비빔밥    비빔밥 재료가 신선하고 양이 많아서 만족했어요  비빔밥 재료 신선하다 양 많다 만족하다   \n",
       "\n",
       "           keywords  \n",
       "0    [친절하다, 너무, 갈치]  \n",
       "1     [진하다, 정말, 좋다]  \n",
       "2      [쫄깃, 양념, 싶다]  \n",
       "3  [일품, 담백하다, 고소하다]  \n",
       "4    [재료, 만족하다, 많다]  "
      ]
     },
     "execution_count": 13,
     "metadata": {},
     "output_type": "execute_result"
    }
   ],
   "source": [
    "df"
   ]
  }
 ],
 "metadata": {
  "kernelspec": {
   "display_name": "keyword_extraction",
   "language": "python",
   "name": "python3"
  },
  "language_info": {
   "codemirror_mode": {
    "name": "ipython",
    "version": 3
   },
   "file_extension": ".py",
   "mimetype": "text/x-python",
   "name": "python",
   "nbconvert_exporter": "python",
   "pygments_lexer": "ipython3",
   "version": "3.10.14"
  }
 },
 "nbformat": 4,
 "nbformat_minor": 2
}
