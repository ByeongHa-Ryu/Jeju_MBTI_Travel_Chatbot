{
 "cells": [
  {
   "cell_type": "markdown",
   "metadata": {},
   "source": [
    "# Keyword Extraction by TF-IDF "
   ]
  },
  {
   "cell_type": "code",
   "execution_count": 1,
   "metadata": {},
   "outputs": [],
   "source": [
    "import pandas as pd\n",
    "import re\n",
    "from konlpy.tag import Okt\n",
    "from tqdm import tqdm\n",
    "from sklearn.feature_extraction.text import TfidfVectorizer"
   ]
  },
  {
   "cell_type": "code",
   "execution_count": 2,
   "metadata": {},
   "outputs": [],
   "source": [
    "import json\n",
    "with open('./review.json', 'r') as f:\n",
    "    review = json.load(f)\n"
   ]
  },
  {
   "cell_type": "code",
   "execution_count": 3,
   "metadata": {},
   "outputs": [],
   "source": [
    "df = pd.DataFrame(review)"
   ]
  },
  {
   "cell_type": "code",
   "execution_count": 7,
   "metadata": {},
   "outputs": [],
   "source": [
    "df.dropna(subset=['visit_mean'], inplace=True)"
   ]
  },
  {
   "cell_type": "code",
   "execution_count": 10,
   "metadata": {},
   "outputs": [
    {
     "data": {
      "text/html": [
       "<div>\n",
       "<style scoped>\n",
       "    .dataframe tbody tr th:only-of-type {\n",
       "        vertical-align: middle;\n",
       "    }\n",
       "\n",
       "    .dataframe tbody tr th {\n",
       "        vertical-align: top;\n",
       "    }\n",
       "\n",
       "    .dataframe thead th {\n",
       "        text-align: right;\n",
       "    }\n",
       "</style>\n",
       "<table border=\"1\" class=\"dataframe\">\n",
       "  <thead>\n",
       "    <tr style=\"text-align: right;\">\n",
       "      <th></th>\n",
       "      <th>MCT_NM</th>\n",
       "      <th>review</th>\n",
       "      <th>visit_mean</th>\n",
       "    </tr>\n",
       "  </thead>\n",
       "  <tbody>\n",
       "    <tr>\n",
       "      <th>0</th>\n",
       "      <td>탕탕이2호점</td>\n",
       "      <td>[맛있어요, 맛있어요, 비싸지만 아주 맛있게 먹었습니다!!!, 재료가 신선하고 푸짐...</td>\n",
       "      <td>1.047619</td>\n",
       "    </tr>\n",
       "    <tr>\n",
       "      <th>1</th>\n",
       "      <td>뚱돼지</td>\n",
       "      <td>[이런글 쓰고 싶진 않은데, 죄송하지만 살면서 먹은 고기중에 제일 별로였습니다......</td>\n",
       "      <td>1.064516</td>\n",
       "    </tr>\n",
       "    <tr>\n",
       "      <th>2</th>\n",
       "      <td>송이축산정육식당</td>\n",
       "      <td>[점심시간 메뉴를 고민하다가 최근 신메뉴가 나왔다고해서 먹으러 왔습니다. 원래 돼기...</td>\n",
       "      <td>1.960000</td>\n",
       "    </tr>\n",
       "    <tr>\n",
       "      <th>3</th>\n",
       "      <td>24시뼈다귀탕 신서귀점</td>\n",
       "      <td>[오랫만에 다시 찾은 곳💗\\n여전히 맛있고 친절하시고~\\n술맛도 너무 좋아요...!...</td>\n",
       "      <td>1.633333</td>\n",
       "    </tr>\n",
       "    <tr>\n",
       "      <th>4</th>\n",
       "      <td>명당양과노형점</td>\n",
       "      <td>[옛 기억의 동네 빵집, 동네 빵집이에요, 맛있어요, 좋아요, 맛있어요, 좋아요, ...</td>\n",
       "      <td>2.680000</td>\n",
       "    </tr>\n",
       "    <tr>\n",
       "      <th>...</th>\n",
       "      <td>...</td>\n",
       "      <td>...</td>\n",
       "      <td>...</td>\n",
       "    </tr>\n",
       "    <tr>\n",
       "      <th>165</th>\n",
       "      <td>큰가름본점</td>\n",
       "      <td>[ㅇㅇ, 감자탕 야채가 좀 부족한듯했어요., 맛있어서 가는곳인데 새해들어 볶음밥가격...</td>\n",
       "      <td>1.250000</td>\n",
       "    </tr>\n",
       "    <tr>\n",
       "      <th>166</th>\n",
       "      <td>뚜레쥬르 제주아라아이파크점</td>\n",
       "      <td>[직원분이 친절하셨어요 빵 잘 구입했습니다, 아르바이트 하시는 직원분이 정말 친절하...</td>\n",
       "      <td>2.580000</td>\n",
       "    </tr>\n",
       "    <tr>\n",
       "      <th>167</th>\n",
       "      <td>마라힐링</td>\n",
       "      <td>[3번째방문인데 리뷰는 첨쓰네용\\n넘맛있어요ㅎ\\n꿔바로우소스는많이셔서 주의해야하지만...</td>\n",
       "      <td>1.407407</td>\n",
       "    </tr>\n",
       "    <tr>\n",
       "      <th>168</th>\n",
       "      <td>곽지해녀의집</td>\n",
       "      <td>[1년전인가 2년전인가 우연히 방문했다가 그동안 먹어봤던 물회와는 전혀다른 담백깔끔...</td>\n",
       "      <td>1.020000</td>\n",
       "    </tr>\n",
       "    <tr>\n",
       "      <th>169</th>\n",
       "      <td>파페로(papero)</td>\n",
       "      <td>[오늘의 피자(참치 페스토 제노베제), 카르파치오, 라구비앙코 주문했습니다!! 예약...</td>\n",
       "      <td>1.080000</td>\n",
       "    </tr>\n",
       "  </tbody>\n",
       "</table>\n",
       "<p>170 rows × 3 columns</p>\n",
       "</div>"
      ],
      "text/plain": [
       "             MCT_NM                                             review  \\\n",
       "0            탕탕이2호점  [맛있어요, 맛있어요, 비싸지만 아주 맛있게 먹었습니다!!!, 재료가 신선하고 푸짐...   \n",
       "1               뚱돼지  [이런글 쓰고 싶진 않은데, 죄송하지만 살면서 먹은 고기중에 제일 별로였습니다......   \n",
       "2          송이축산정육식당  [점심시간 메뉴를 고민하다가 최근 신메뉴가 나왔다고해서 먹으러 왔습니다. 원래 돼기...   \n",
       "3      24시뼈다귀탕 신서귀점  [오랫만에 다시 찾은 곳💗\\n여전히 맛있고 친절하시고~\\n술맛도 너무 좋아요...!...   \n",
       "4           명당양과노형점  [옛 기억의 동네 빵집, 동네 빵집이에요, 맛있어요, 좋아요, 맛있어요, 좋아요, ...   \n",
       "..              ...                                                ...   \n",
       "165           큰가름본점  [ㅇㅇ, 감자탕 야채가 좀 부족한듯했어요., 맛있어서 가는곳인데 새해들어 볶음밥가격...   \n",
       "166  뚜레쥬르 제주아라아이파크점  [직원분이 친절하셨어요 빵 잘 구입했습니다, 아르바이트 하시는 직원분이 정말 친절하...   \n",
       "167            마라힐링  [3번째방문인데 리뷰는 첨쓰네용\\n넘맛있어요ㅎ\\n꿔바로우소스는많이셔서 주의해야하지만...   \n",
       "168          곽지해녀의집  [1년전인가 2년전인가 우연히 방문했다가 그동안 먹어봤던 물회와는 전혀다른 담백깔끔...   \n",
       "169     파페로(papero)  [오늘의 피자(참치 페스토 제노베제), 카르파치오, 라구비앙코 주문했습니다!! 예약...   \n",
       "\n",
       "     visit_mean  \n",
       "0      1.047619  \n",
       "1      1.064516  \n",
       "2      1.960000  \n",
       "3      1.633333  \n",
       "4      2.680000  \n",
       "..          ...  \n",
       "165    1.250000  \n",
       "166    2.580000  \n",
       "167    1.407407  \n",
       "168    1.020000  \n",
       "169    1.080000  \n",
       "\n",
       "[170 rows x 3 columns]"
      ]
     },
     "execution_count": 10,
     "metadata": {},
     "output_type": "execute_result"
    }
   ],
   "source": [
    "df.reset_index(drop=True, inplace=True)\n",
    "df"
   ]
  },
  {
   "cell_type": "code",
   "execution_count": 11,
   "metadata": {},
   "outputs": [],
   "source": [
    "okt = Okt()\n",
    "\n",
    "def remove_non_korean(text):\n",
    "    \"\"\"리뷰에서 한글을 제외한 모든 문자 제거\"\"\"\n",
    "    return re.sub(r\"[^ㄱ-ㅎㅏ-ㅣ가-힣\\s]\", \"\", text)\n",
    "\n",
    "\n",
    "def load_stopwords(filepath=\"k_stopword.txt\"):\n",
    "    \"\"\"불용어 txt 파일을 읽어 불용어 리스트 반환\"\"\"\n",
    "    with open(filepath, \"r\", encoding=\"utf-8\") as f:\n",
    "        stopwords = f.read().splitlines()\n",
    "    return stopwords\n",
    "\n",
    "stopwords = load_stopwords()\n",
    "\n",
    "\n",
    "def okt_tokenize(text):\n",
    "    \"\"\"Okt를 이용한 형태소 분석 및 불필요 품사 제거\"\"\"\n",
    "    # 형태소 분석 및 품사 태깅\n",
    "    words = okt.pos(text, stem=True)  # 어간 추출\n",
    "    \n",
    "    # 필요한 품사만 필터링 (명사, 동사, 형용사, 부사)\n",
    "    selected_words = [\n",
    "        word for word, pos in words if pos in ['Noun', 'Verb', 'Adjective', 'Adverb']\n",
    "    ]\n",
    "    \n",
    "    # 불용어 제거\n",
    "    filtered_words = [word for word in selected_words if word not in stopwords]\n",
    "    \n",
    "    # 최종 단어들을 문자열로 반환\n",
    "    return \" \".join(filtered_words)\n",
    "\n",
    "\n",
    "def preprocess_review(text):\n",
    "    \"\"\"리뷰 텍스트를 전처리하고 형태소 분석한 최종 결과 반환\"\"\"\n",
    "    text = remove_non_korean(text)\n",
    "    processed_text = okt_tokenize(text)\n",
    "    \n",
    "    return processed_text\n",
    "\n",
    "def preprocess_review_list(text_list):\n",
    "    \"\"\"리뷰 텍스트를 전처리하고 형태소 분석한 최종 결과 반환\"\"\"\n",
    "    preprocessed_text_list = []\n",
    "    for text in text_list:\n",
    "        text = remove_non_korean(text)\n",
    "        processed_text = okt_tokenize(text)\n",
    "        preprocessed_text_list.append(processed_text) \n",
    "\n",
    "    #text = remove_non_korean(text)\n",
    "    #processed_text = okt_tokenize(text)\n",
    "\n",
    "    preprocessed_text = \" \".join(preprocessed_text_list)\n",
    "    \n",
    "    return preprocessed_text"
   ]
  },
  {
   "cell_type": "code",
   "execution_count": 12,
   "metadata": {},
   "outputs": [],
   "source": [
    "# TF-IDF 키워드 추출 함수\n",
    "def extract_keywords_tfidf(corpus, top_n):\n",
    "    \"\"\"TF-IDF를 사용해 각 문서의 상위 N개 키워드 추출\"\"\"\n",
    "    vectorizer = TfidfVectorizer()\n",
    "    X = vectorizer.fit_transform(corpus)\n",
    "    features = vectorizer.get_feature_names_out()\n",
    "    \n",
    "    keywords = []\n",
    "    for i in tqdm(range(X.shape[0])):\n",
    "        row = X[i].toarray().flatten()\n",
    "        top_indices = row.argsort()[-top_n:][::-1]\n",
    "        top_keywords = [features[idx] for idx in top_indices]\n",
    "        keywords.append(top_keywords)\n",
    "    return keywords"
   ]
  },
  {
   "cell_type": "code",
   "execution_count": 14,
   "metadata": {},
   "outputs": [],
   "source": [
    "df['pos_tag'] = df['review'].apply(preprocess_review_list)"
   ]
  },
  {
   "cell_type": "code",
   "execution_count": 39,
   "metadata": {},
   "outputs": [],
   "source": [
    "# 이모티콘만 있는 경우 pos tag 값이 비어있으므로 제거\n",
    "\n",
    "df = df[df['pos_tag'].apply(lambda x: len(x)>=10)]\n",
    "df.reset_index(drop=True, inplace=True)"
   ]
  },
  {
   "cell_type": "code",
   "execution_count": 40,
   "metadata": {},
   "outputs": [
    {
     "name": "stderr",
     "output_type": "stream",
     "text": [
      "100%|██████████| 169/169 [00:00<00:00, 8400.84it/s]\n",
      "/var/folders/y3/l8bvkgx53cd0nbrk2b450t7m0000gn/T/ipykernel_10937/967659636.py:2: SettingWithCopyWarning: \n",
      "A value is trying to be set on a copy of a slice from a DataFrame.\n",
      "Try using .loc[row_indexer,col_indexer] = value instead\n",
      "\n",
      "See the caveats in the documentation: https://pandas.pydata.org/pandas-docs/stable/user_guide/indexing.html#returning-a-view-versus-a-copy\n",
      "  df['tf_idf_keywords'] = extract_keywords_tfidf(df['pos_tag'].tolist(),20)\n"
     ]
    }
   ],
   "source": [
    "# pos_tag 열에서 키워드 추출\n",
    "df['tf_idf_keywords'] = extract_keywords_tfidf(df['pos_tag'].tolist(),20)"
   ]
  },
  {
   "cell_type": "code",
   "execution_count": null,
   "metadata": {},
   "outputs": [],
   "source": [
    "#!pip install krwordrank"
   ]
  },
  {
   "cell_type": "code",
   "execution_count": 18,
   "metadata": {},
   "outputs": [],
   "source": [
    "from krwordrank.word import KRWordRank\n",
    "\n",
    "def krword(texts):\n",
    "    #for texts in text_list:\n",
    "    min_count = 1   # 단어의 최소 출현 빈도수 (그래프 생성 시)\n",
    "    max_length = 10 # 단어의 최대 길이\n",
    "    wordrank_extractor = KRWordRank(min_count=min_count, max_length=max_length)\n",
    "    beta = 0.85    # PageRank의 decaying factor beta\n",
    "    max_iter = 20\n",
    "    t_list = []\n",
    "    for text in texts:\n",
    "          kr_text = remove_non_korean(text)\n",
    "          processed_text = okt_tokenize(kr_text)\n",
    "          t_list.append(processed_text)\n",
    "    #texts = split_noun_sentences(text)\n",
    "    keywords, rank, graph = wordrank_extractor.extract(t_list, beta, max_iter)\n",
    "    output = []\n",
    "    num = 0\n",
    "    for word, r in sorted(keywords.items(), key=lambda x:x[1], reverse=True):\n",
    "            #print('%8s:\\\\t%.4f' % (word, r))\n",
    "            output.append(word)\n",
    "            num += 1\n",
    "            if num == 21:\n",
    "                  break\n",
    "    \n",
    "    return output\n"
   ]
  },
  {
   "cell_type": "code",
   "execution_count": 41,
   "metadata": {},
   "outputs": [
    {
     "name": "stderr",
     "output_type": "stream",
     "text": [
      " 31%|███       | 20/65 [00:00<00:00, 466033.78it/s]\n",
      "  8%|▊         | 20/258 [00:00<00:00, 555536.95it/s]\n",
      " 11%|█         | 20/190 [00:00<00:00, 762600.73it/s]\n",
      "  9%|▊         | 20/231 [00:00<00:00, 687590.82it/s]\n",
      " 34%|███▍      | 20/58 [00:00<00:00, 397564.36it/s]\n",
      "  9%|▉         | 20/221 [00:00<00:00, 621378.37it/s]\n",
      "  4%|▍         | 20/478 [00:00<00:00, 607870.14it/s]\n",
      "100%|██████████| 15/15 [00:00<00:00, 655360.00it/s]\n",
      " 80%|████████  | 20/25 [00:00<00:00, 716975.04it/s]\n",
      "  7%|▋         | 20/271 [00:00<00:00, 570653.61it/s]\n",
      "  9%|▊         | 20/234 [00:00<00:00, 527585.41it/s]\n",
      "  8%|▊         | 20/253 [00:00<00:00, 762600.73it/s]\n",
      " 11%|█▏        | 20/177 [00:00<00:00, 693273.39it/s]\n",
      "  5%|▍         | 20/431 [00:00<00:00, 645277.54it/s]\n",
      "  6%|▋         | 20/314 [00:00<00:00, 273244.56it/s]\n",
      "  6%|▌         | 20/339 [00:00<00:00, 687590.82it/s]\n",
      "  8%|▊         | 20/236 [00:00<00:00, 693273.39it/s]\n",
      "  7%|▋         | 20/272 [00:00<00:00, 660520.31it/s]\n",
      " 26%|██▌       | 20/77 [00:00<00:00, 693273.39it/s]\n",
      "  5%|▍         | 20/425 [00:00<00:00, 735842.81it/s]\n",
      "  9%|▉         | 20/222 [00:00<00:00, 626015.52it/s]\n",
      " 21%|██        | 20/97 [00:00<00:00, 590747.04it/s]\n",
      "  7%|▋         | 20/304 [00:00<00:00, 586615.94it/s]\n",
      " 13%|█▎        | 20/151 [00:00<00:00, 665762.54it/s]\n",
      "  5%|▍         | 20/411 [00:00<00:00, 742354.69it/s]\n",
      " 21%|██        | 20/96 [00:00<00:00, 607870.14it/s]\n",
      " 38%|███▊      | 20/53 [00:00<00:00, 665762.54it/s]\n",
      " 15%|█▍        | 20/137 [00:00<00:00, 555536.95it/s]\n",
      "  5%|▌         | 20/391 [00:00<00:00, 607870.14it/s]\n",
      "  9%|▉         | 20/227 [00:00<00:00, 682000.65it/s]\n",
      "  6%|▌         | 20/353 [00:00<00:00, 716975.04it/s]\n",
      "  5%|▍         | 20/441 [00:00<00:00, 665762.54it/s]\n",
      "100%|██████████| 14/14 [00:00<00:00, 115591.06it/s]\n",
      "  5%|▌         | 20/373 [00:00<00:00, 716975.04it/s]\n",
      " 40%|████      | 20/50 [00:00<00:00, 716975.04it/s]\n",
      " 22%|██▏       | 20/89 [00:00<00:00, 660520.31it/s]\n",
      "  6%|▌         | 20/341 [00:00<00:00, 710898.98it/s]\n",
      " 17%|█▋        | 20/115 [00:00<00:00, 645277.54it/s]\n",
      "  6%|▌         | 20/323 [00:00<00:00, 660520.31it/s]\n",
      "  7%|▋         | 20/275 [00:00<00:00, 645277.54it/s]\n",
      " 13%|█▎        | 20/150 [00:00<00:00, 621378.37it/s]\n",
      " 10%|█         | 20/200 [00:00<00:00, 626015.52it/s]\n",
      " 40%|████      | 20/50 [00:00<00:00, 716975.04it/s]\n",
      "  8%|▊         | 20/259 [00:00<00:00, 603496.98it/s]\n",
      "  9%|▊         | 20/232 [00:00<00:00, 693273.39it/s]\n",
      "  7%|▋         | 20/304 [00:00<00:00, 603496.98it/s]\n",
      "  7%|▋         | 20/282 [00:00<00:00, 710898.98it/s]\n",
      "  6%|▌         | 20/337 [00:00<00:00, 607870.14it/s]\n",
      "  6%|▌         | 20/346 [00:00<00:00, 570653.61it/s]\n",
      "  8%|▊         | 20/240 [00:00<00:00, 735842.81it/s]\n",
      "  8%|▊         | 20/257 [00:00<00:00, 645277.54it/s]\n",
      "  8%|▊         | 20/259 [00:00<00:00, 645277.54it/s]\n",
      "  7%|▋         | 20/273 [00:00<00:00, 645277.54it/s]\n",
      "  5%|▌         | 20/395 [00:00<00:00, 762600.73it/s]\n",
      "  6%|▋         | 20/318 [00:00<00:00, 607870.14it/s]\n",
      " 24%|██▎       | 20/85 [00:00<00:00, 687590.82it/s]\n",
      " 26%|██▌       | 20/77 [00:00<00:00, 607870.14it/s]\n",
      "  7%|▋         | 20/276 [00:00<00:00, 665762.54it/s]\n",
      "  6%|▌         | 20/337 [00:00<00:00, 645277.54it/s]\n",
      "  6%|▌         | 20/347 [00:00<00:00, 607870.14it/s]\n",
      " 11%|█         | 20/188 [00:00<00:00, 586615.94it/s]\n",
      "  5%|▌         | 20/388 [00:00<00:00, 798915.05it/s]\n",
      " 16%|█▌        | 20/124 [00:00<00:00, 687590.82it/s]\n",
      "  6%|▌         | 20/321 [00:00<00:00, 671088.64it/s]\n",
      " 11%|█▏        | 20/175 [00:00<00:00, 660520.31it/s]\n",
      "  7%|▋         | 20/281 [00:00<00:00, 607870.14it/s]\n",
      "  8%|▊         | 20/253 [00:00<00:00, 645277.54it/s]\n",
      " 11%|█         | 20/183 [00:00<00:00, 742354.69it/s]\n",
      "  6%|▌         | 20/335 [00:00<00:00, 716975.04it/s]\n",
      "  6%|▌         | 20/333 [00:00<00:00, 953250.91it/s]\n",
      "  8%|▊         | 20/256 [00:00<00:00, 603496.98it/s]\n",
      " 13%|█▎        | 20/151 [00:00<00:00, 514638.53it/s]\n",
      "  7%|▋         | 20/293 [00:00<00:00, 586615.94it/s]\n",
      "  6%|▋         | 20/316 [00:00<00:00, 586615.94it/s]\n",
      " 14%|█▎        | 20/147 [00:00<00:00, 514638.53it/s]\n",
      "  6%|▌         | 20/359 [00:00<00:00, 748982.86it/s]\n",
      "  5%|▍         | 20/402 [00:00<00:00, 665762.54it/s]\n",
      "  8%|▊         | 20/256 [00:00<00:00, 769597.06it/s]\n",
      "  5%|▍         | 20/412 [00:00<00:00, 687590.82it/s]\n",
      "  4%|▍         | 20/449 [00:00<00:00, 603496.98it/s]\n",
      "  6%|▌         | 20/347 [00:00<00:00, 650279.69it/s]\n",
      " 22%|██▏       | 20/93 [00:00<00:00, 326404.98it/s]\n",
      "  4%|▎         | 20/560 [00:00<00:00, 716975.04it/s]\n",
      "  4%|▎         | 20/539 [00:00<00:00, 527585.41it/s]\n",
      "  5%|▌         | 20/371 [00:00<00:00, 665762.54it/s]\n",
      " 11%|█         | 20/181 [00:00<00:00, 776722.96it/s]\n",
      " 12%|█▏        | 20/162 [00:00<00:00, 514638.53it/s]\n",
      "  8%|▊         | 20/251 [00:00<00:00, 687590.82it/s]\n",
      " 43%|████▎     | 20/46 [00:00<00:00, 665762.54it/s]\n",
      "  5%|▍         | 20/407 [00:00<00:00, 590747.04it/s]\n",
      "  9%|▉         | 20/217 [00:00<00:00, 555536.95it/s]\n",
      " 67%|██████▋   | 20/30 [00:00<00:00, 665762.54it/s]\n",
      " 17%|█▋        | 20/121 [00:00<00:00, 612307.15it/s]\n",
      " 10%|▉         | 20/204 [00:00<00:00, 621378.37it/s]\n",
      "  7%|▋         | 20/299 [00:00<00:00, 514638.53it/s]\n",
      " 10%|▉         | 20/210 [00:00<00:00, 716975.04it/s]\n",
      "  5%|▍         | 20/415 [00:00<00:00, 742354.69it/s]\n",
      "  5%|▌         | 20/396 [00:00<00:00, 716975.04it/s]\n",
      " 13%|█▎        | 20/152 [00:00<00:00, 555536.95it/s]\n",
      "  5%|▍         | 20/434 [00:00<00:00, 769597.06it/s]\n",
      "  4%|▍         | 20/461 [00:00<00:00, 645277.54it/s]\n",
      " 11%|█         | 20/188 [00:00<00:00, 570653.61it/s]\n",
      "  4%|▎         | 20/563 [00:00<00:00, 735842.81it/s]\n",
      "  6%|▌         | 20/350 [00:00<00:00, 586615.94it/s]\n",
      " 19%|█▊        | 20/107 [00:00<00:00, 660520.31it/s]\n",
      " 15%|█▍        | 20/134 [00:00<00:00, 140748.46it/s]\n",
      " 10%|█         | 20/192 [00:00<00:00, 665762.54it/s]\n",
      " 17%|█▋        | 20/121 [00:00<00:00, 574562.19it/s]\n",
      "  6%|▋         | 20/313 [00:00<00:00, 645277.54it/s]\n",
      "  8%|▊         | 20/254 [00:00<00:00, 645277.54it/s]\n",
      "  6%|▌         | 20/327 [00:00<00:00, 645277.54it/s]\n",
      " 18%|█▊        | 20/112 [00:00<00:00, 838860.80it/s]\n",
      " 14%|█▎        | 20/147 [00:00<00:00, 911805.22it/s]\n",
      " 29%|██▉       | 20/69 [00:00<00:00, 806596.92it/s]\n",
      " 31%|███▏      | 20/64 [00:00<00:00, 735842.81it/s]\n",
      "  6%|▌         | 20/327 [00:00<00:00, 645277.54it/s]\n",
      "  5%|▍         | 20/418 [00:00<00:00, 704925.04it/s]\n",
      "  5%|▌         | 20/374 [00:00<00:00, 735842.81it/s]\n",
      " 13%|█▎        | 20/158 [00:00<00:00, 115545.56it/s]\n",
      " 12%|█▏        | 20/169 [00:00<00:00, 776722.96it/s]\n",
      "  9%|▉         | 20/227 [00:00<00:00, 645277.54it/s]\n",
      "  7%|▋         | 20/298 [00:00<00:00, 838860.80it/s]\n",
      " 16%|█▋        | 20/122 [00:00<00:00, 603496.98it/s]\n",
      "  6%|▌         | 20/333 [00:00<00:00, 716975.04it/s]\n",
      " 13%|█▎        | 20/154 [00:00<00:00, 665762.54it/s]\n",
      "  4%|▎         | 20/540 [00:00<00:00, 671088.64it/s]\n",
      "100%|██████████| 20/20 [00:00<00:00, 873813.33it/s]\n",
      "  5%|▍         | 20/413 [00:00<00:00, 864804.95it/s]\n",
      " 15%|█▌        | 20/132 [00:00<00:00, 621378.37it/s]\n",
      "  8%|▊         | 20/266 [00:00<00:00, 769597.06it/s]\n",
      " 11%|█▏        | 20/177 [00:00<00:00, 687590.82it/s]\n",
      "  5%|▌         | 20/394 [00:00<00:00, 660520.31it/s]\n",
      " 11%|█         | 20/184 [00:00<00:00, 555536.95it/s]\n",
      "  7%|▋         | 20/286 [00:00<00:00, 607870.14it/s]\n",
      "  6%|▌         | 20/360 [00:00<00:00, 665762.54it/s]\n",
      "  5%|▌         | 20/371 [00:00<00:00, 687590.82it/s]\n",
      "  6%|▌         | 20/345 [00:00<00:00, 665762.54it/s]\n",
      "  6%|▌         | 20/346 [00:00<00:00, 665762.54it/s]\n",
      "  6%|▋         | 20/318 [00:00<00:00, 607870.14it/s]\n",
      "  7%|▋         | 20/298 [00:00<00:00, 645277.54it/s]\n",
      " 12%|█▏        | 20/164 [00:00<00:00, 742354.69it/s]\n",
      "  9%|▉         | 20/228 [00:00<00:00, 527585.41it/s]\n",
      "  5%|▌         | 20/389 [00:00<00:00, 621378.37it/s]\n",
      "  8%|▊         | 20/255 [00:00<00:00, 716975.04it/s]\n",
      "  7%|▋         | 20/279 [00:00<00:00, 769597.06it/s]\n",
      "  4%|▍         | 20/460 [00:00<00:00, 665762.54it/s]\n",
      "  9%|▉         | 20/224 [00:00<00:00, 570653.61it/s]\n",
      " 10%|█         | 20/197 [00:00<00:00, 586615.94it/s]\n",
      "  7%|▋         | 20/299 [00:00<00:00, 621378.37it/s]\n",
      " 11%|█         | 20/187 [00:00<00:00, 716975.04it/s]\n",
      "  6%|▌         | 20/338 [00:00<00:00, 710898.98it/s]\n",
      "  6%|▌         | 20/328 [00:00<00:00, 570653.61it/s]\n",
      "  7%|▋         | 20/285 [00:00<00:00, 607870.14it/s]\n",
      "  7%|▋         | 20/295 [00:00<00:00, 693273.39it/s]\n",
      "  4%|▎         | 20/554 [00:00<00:00, 671088.64it/s]\n",
      " 10%|▉         | 20/203 [00:00<00:00, 626015.52it/s]\n",
      "  7%|▋         | 20/277 [00:00<00:00, 735842.81it/s]\n",
      "  5%|▍         | 20/427 [00:00<00:00, 555536.95it/s]\n",
      " 11%|█         | 20/179 [00:00<00:00, 541200.52it/s]\n",
      " 10%|▉         | 20/203 [00:00<00:00, 541200.52it/s]\n",
      "  8%|▊         | 20/264 [00:00<00:00, 603496.98it/s]\n",
      "  5%|▍         | 20/413 [00:00<00:00, 716975.04it/s]\n",
      "  5%|▍         | 20/439 [00:00<00:00, 716975.04it/s]\n",
      " 13%|█▎        | 20/150 [00:00<00:00, 607870.14it/s]\n",
      " 10%|█         | 20/191 [00:00<00:00, 671088.64it/s]\n",
      " 16%|█▌        | 20/128 [00:00<00:00, 586615.94it/s]\n",
      " 13%|█▎        | 20/150 [00:00<00:00, 603496.98it/s]\n",
      "  8%|▊         | 20/264 [00:00<00:00, 570653.61it/s]\n",
      "  4%|▍         | 20/503 [00:00<00:00, 665762.54it/s]\n",
      "/var/folders/y3/l8bvkgx53cd0nbrk2b450t7m0000gn/T/ipykernel_10937/632893083.py:1: SettingWithCopyWarning: \n",
      "A value is trying to be set on a copy of a slice from a DataFrame.\n",
      "Try using .loc[row_indexer,col_indexer] = value instead\n",
      "\n",
      "See the caveats in the documentation: https://pandas.pydata.org/pandas-docs/stable/user_guide/indexing.html#returning-a-view-versus-a-copy\n",
      "  df['krword_rank'] = df['review'].apply(krword)\n"
     ]
    }
   ],
   "source": [
    "df['krword_rank'] = df['review'].apply(krword)"
   ]
  },
  {
   "cell_type": "code",
   "execution_count": 42,
   "metadata": {},
   "outputs": [
    {
     "data": {
      "text/html": [
       "<div>\n",
       "<style scoped>\n",
       "    .dataframe tbody tr th:only-of-type {\n",
       "        vertical-align: middle;\n",
       "    }\n",
       "\n",
       "    .dataframe tbody tr th {\n",
       "        vertical-align: top;\n",
       "    }\n",
       "\n",
       "    .dataframe thead th {\n",
       "        text-align: right;\n",
       "    }\n",
       "</style>\n",
       "<table border=\"1\" class=\"dataframe\">\n",
       "  <thead>\n",
       "    <tr style=\"text-align: right;\">\n",
       "      <th></th>\n",
       "      <th>MCT_NM</th>\n",
       "      <th>review</th>\n",
       "      <th>visit_mean</th>\n",
       "      <th>pos_tag</th>\n",
       "      <th>tf_idf_keywords</th>\n",
       "      <th>krword_rank</th>\n",
       "    </tr>\n",
       "  </thead>\n",
       "  <tbody>\n",
       "    <tr>\n",
       "      <th>0</th>\n",
       "      <td>탕탕이2호점</td>\n",
       "      <td>[맛있어요, 맛있어요, 비싸지만 아주 맛있게 먹었습니다!!!, 재료가 신선하고 푸짐...</td>\n",
       "      <td>1.047619</td>\n",
       "      <td>맛있다 맛있다 비싸다 아주 맛있다 먹다 재료 신선하다 푸다 짐해 시청 점 먹다 호점...</td>\n",
       "      <td>[육회, 맛있다, 호점, 쏘다, 먹다, 신선하다, 좋다, 산낙지, 스굿, 불토, 연...</td>\n",
       "      <td>[맛있, 먹다, 친절하다, 신선하다, 육회, 밑반찬, 계란, 추천, 좋다, 쏘다, ...</td>\n",
       "    </tr>\n",
       "    <tr>\n",
       "      <th>1</th>\n",
       "      <td>뚱돼지</td>\n",
       "      <td>[이런글 쓰고 싶진 않은데, 죄송하지만 살면서 먹은 고기중에 제일 별로였습니다......</td>\n",
       "      <td>1.064516</td>\n",
       "      <td>글 쓰다 싶다 죄송하다 살다 먹다 고기 제일 별로 밑반찬 맛 평범하다 고깃집 고기 ...</td>\n",
       "      <td>[고기, 맛있다, 양념, 돼지갈비, 갈비, 뚱돼, 겹살, 친절하다, 좋다, 먹다, ...</td>\n",
       "      <td>[맛있다, 고기, 친절, 가다, 먹다, 양념, 너무, 진짜, 직원, 사장, 굽다, ...</td>\n",
       "    </tr>\n",
       "    <tr>\n",
       "      <th>2</th>\n",
       "      <td>송이축산정육식당</td>\n",
       "      <td>[점심시간 메뉴를 고민하다가 최근 신메뉴가 나왔다고해서 먹으러 왔습니다. 원래 돼기...</td>\n",
       "      <td>1.960000</td>\n",
       "      <td>점심시간 메뉴 고민 최근 메뉴 나오다 먹다 오다 원래 돼다 고기 가성 비 갑인 식당...</td>\n",
       "      <td>[고기, 굳다, 대패, 맛있다, 축산, 송이, 정육, 좋다, 찌개, 먹다, 가성, ...</td>\n",
       "      <td>[맛있다, 고기, 좋다, 먹다, 정말, 친절, 맛집, 메뉴, 직원, 자다, 반찬, ...</td>\n",
       "    </tr>\n",
       "    <tr>\n",
       "      <th>3</th>\n",
       "      <td>24시뼈다귀탕 신서귀점</td>\n",
       "      <td>[오랫만에 다시 찾은 곳💗\\n여전히 맛있고 친절하시고~\\n술맛도 너무 좋아요...!...</td>\n",
       "      <td>1.633333</td>\n",
       "      <td>만 다시 찾다 곳 여전하다 맛있다 친절하다 술맛 너무 좋다 수제비 볶음밥 필수 뭐 ...</td>\n",
       "      <td>[감자탕, 맛있다, 볶음밥, 수제비, 먹다, 수도권, 미나리, 좋다, 식이섬유, 식...</td>\n",
       "      <td>[맛있다, 먹다, 감자탕, 좋다, 볶음밥, 식사, 너무, 국물, 가다, 수제비, 진...</td>\n",
       "    </tr>\n",
       "    <tr>\n",
       "      <th>4</th>\n",
       "      <td>명당양과노형점</td>\n",
       "      <td>[옛 기억의 동네 빵집, 동네 빵집이에요, 맛있어요, 좋아요, 맛있어요, 좋아요, ...</td>\n",
       "      <td>2.680000</td>\n",
       "      <td>옛 기억 동네 빵집 동네 빵집 맛있다 좋다 맛있다 좋다 사장 엄청 친절하다 감동 받...</td>\n",
       "      <td>[빵집, 맛있다, 좋다, 쌀빵, 카레빵, 보로, 방앗간, 앗다, 루베, 도넛, 체적...</td>\n",
       "      <td>[맛있, 늦다, 빵집, 사장, 친절하다, 어렵다, 응대, 많다, 많이, 마다, 느낌...</td>\n",
       "    </tr>\n",
       "    <tr>\n",
       "      <th>...</th>\n",
       "      <td>...</td>\n",
       "      <td>...</td>\n",
       "      <td>...</td>\n",
       "      <td>...</td>\n",
       "      <td>...</td>\n",
       "      <td>...</td>\n",
       "    </tr>\n",
       "    <tr>\n",
       "      <th>164</th>\n",
       "      <td>큰가름본점</td>\n",
       "      <td>[ㅇㅇ, 감자탕 야채가 좀 부족한듯했어요., 맛있어서 가는곳인데 새해들어 볶음밥가격...</td>\n",
       "      <td>1.250000</td>\n",
       "      <td>감자탕 야채 부족하다 맛있다 가다 곳 새해 들다 볶음밥 가격 원 너무 비싸다 가다...</td>\n",
       "      <td>[감자탕, 해물, 볶음밥, 맛있다, 먹다, 샤브샤브, 태도, 국물, 진짜, 친절하다...</td>\n",
       "      <td>[먹다, 감자탕, 맛있다, 해물, 진짜, 고기, 생각, 친절하다, 국물, 맛집, 가...</td>\n",
       "    </tr>\n",
       "    <tr>\n",
       "      <th>165</th>\n",
       "      <td>뚜레쥬르 제주아라아이파크점</td>\n",
       "      <td>[직원분이 친절하셨어요 빵 잘 구입했습니다, 아르바이트 하시는 직원분이 정말 친절하...</td>\n",
       "      <td>2.580000</td>\n",
       "      <td>직원 친절하다 빵 자다 구입 아르바이트 직원 정말 친절하다 가다 정말 불친절하다 사...</td>\n",
       "      <td>[식빵, 아르바이트, 아라동, 친절하다, 맛있다, 결재, 뚜레쥬르, 먹다, 초코, ...</td>\n",
       "      <td>[맛있다, 친절하다, 가다, 먹다, 좋다, 직원, 할인, 너무, 아라동, 정말, 쓰...</td>\n",
       "    </tr>\n",
       "    <tr>\n",
       "      <th>166</th>\n",
       "      <td>마라힐링</td>\n",
       "      <td>[3번째방문인데 리뷰는 첨쓰네용\\n넘맛있어요ㅎ\\n꿔바로우소스는많이셔서 주의해야하지만...</td>\n",
       "      <td>1.407407</td>\n",
       "      <td>번 방문 리뷰 첨 쓰다 용 넘다 맛있다 꾸다 바 로우 소스 셔 주의 맛있다 새우 볶...</td>\n",
       "      <td>[마르다, 단계, 맛있다, 꾸다, 먹다, 탕집, 볶음밥, 위생, 좋다, 이모, 도전...</td>\n",
       "      <td>[마르, 먹다, 맛있다, 좋다, 재료, 사장, 도전, 음식, 단계, 위생, 볶음밥,...</td>\n",
       "    </tr>\n",
       "    <tr>\n",
       "      <th>167</th>\n",
       "      <td>곽지해녀의집</td>\n",
       "      <td>[1년전인가 2년전인가 우연히 방문했다가 그동안 먹어봤던 물회와는 전혀다른 담백깔끔...</td>\n",
       "      <td>1.020000</td>\n",
       "      <td>전인 전인 우연히 방문 그동안 먹다 보다 물회 전혀 담 깔끔하다 맛 반하다 재 방문...</td>\n",
       "      <td>[먹다, 맛있다, 해산물, 좋다, 어회, 고등, 신선하다, 바다, 노을, 전복죽, ...</td>\n",
       "      <td>[맛있다, 먹다, 좋다, 너무, 신선하다, 오다, 해산물, 엄청, 완전, 보다, 나...</td>\n",
       "    </tr>\n",
       "    <tr>\n",
       "      <th>168</th>\n",
       "      <td>파페로(papero)</td>\n",
       "      <td>[오늘의 피자(참치 페스토 제노베제), 카르파치오, 라구비앙코 주문했습니다!! 예약...</td>\n",
       "      <td>1.080000</td>\n",
       "      <td>오늘 피자 참치 페스 토 제노 베제 카르파치오 구비 앙 코 주문 예약 가다 좌석 편...</td>\n",
       "      <td>[피자, 와인, 맛있다, 화덕, 페로, 분위기, 이탈리아, 너무, 좋다, 오다, 파...</td>\n",
       "      <td>[맛있다, 피자, 너무, 좋다, 오다, 먹다, 방문, 분위기, 와인, 음식, 제주,...</td>\n",
       "    </tr>\n",
       "  </tbody>\n",
       "</table>\n",
       "<p>169 rows × 6 columns</p>\n",
       "</div>"
      ],
      "text/plain": [
       "             MCT_NM                                             review  \\\n",
       "0            탕탕이2호점  [맛있어요, 맛있어요, 비싸지만 아주 맛있게 먹었습니다!!!, 재료가 신선하고 푸짐...   \n",
       "1               뚱돼지  [이런글 쓰고 싶진 않은데, 죄송하지만 살면서 먹은 고기중에 제일 별로였습니다......   \n",
       "2          송이축산정육식당  [점심시간 메뉴를 고민하다가 최근 신메뉴가 나왔다고해서 먹으러 왔습니다. 원래 돼기...   \n",
       "3      24시뼈다귀탕 신서귀점  [오랫만에 다시 찾은 곳💗\\n여전히 맛있고 친절하시고~\\n술맛도 너무 좋아요...!...   \n",
       "4           명당양과노형점  [옛 기억의 동네 빵집, 동네 빵집이에요, 맛있어요, 좋아요, 맛있어요, 좋아요, ...   \n",
       "..              ...                                                ...   \n",
       "164           큰가름본점  [ㅇㅇ, 감자탕 야채가 좀 부족한듯했어요., 맛있어서 가는곳인데 새해들어 볶음밥가격...   \n",
       "165  뚜레쥬르 제주아라아이파크점  [직원분이 친절하셨어요 빵 잘 구입했습니다, 아르바이트 하시는 직원분이 정말 친절하...   \n",
       "166            마라힐링  [3번째방문인데 리뷰는 첨쓰네용\\n넘맛있어요ㅎ\\n꿔바로우소스는많이셔서 주의해야하지만...   \n",
       "167          곽지해녀의집  [1년전인가 2년전인가 우연히 방문했다가 그동안 먹어봤던 물회와는 전혀다른 담백깔끔...   \n",
       "168     파페로(papero)  [오늘의 피자(참치 페스토 제노베제), 카르파치오, 라구비앙코 주문했습니다!! 예약...   \n",
       "\n",
       "     visit_mean                                            pos_tag  \\\n",
       "0      1.047619  맛있다 맛있다 비싸다 아주 맛있다 먹다 재료 신선하다 푸다 짐해 시청 점 먹다 호점...   \n",
       "1      1.064516  글 쓰다 싶다 죄송하다 살다 먹다 고기 제일 별로 밑반찬 맛 평범하다 고깃집 고기 ...   \n",
       "2      1.960000  점심시간 메뉴 고민 최근 메뉴 나오다 먹다 오다 원래 돼다 고기 가성 비 갑인 식당...   \n",
       "3      1.633333  만 다시 찾다 곳 여전하다 맛있다 친절하다 술맛 너무 좋다 수제비 볶음밥 필수 뭐 ...   \n",
       "4      2.680000  옛 기억 동네 빵집 동네 빵집 맛있다 좋다 맛있다 좋다 사장 엄청 친절하다 감동 받...   \n",
       "..          ...                                                ...   \n",
       "164    1.250000   감자탕 야채 부족하다 맛있다 가다 곳 새해 들다 볶음밥 가격 원 너무 비싸다 가다...   \n",
       "165    2.580000  직원 친절하다 빵 자다 구입 아르바이트 직원 정말 친절하다 가다 정말 불친절하다 사...   \n",
       "166    1.407407  번 방문 리뷰 첨 쓰다 용 넘다 맛있다 꾸다 바 로우 소스 셔 주의 맛있다 새우 볶...   \n",
       "167    1.020000  전인 전인 우연히 방문 그동안 먹다 보다 물회 전혀 담 깔끔하다 맛 반하다 재 방문...   \n",
       "168    1.080000  오늘 피자 참치 페스 토 제노 베제 카르파치오 구비 앙 코 주문 예약 가다 좌석 편...   \n",
       "\n",
       "                                       tf_idf_keywords  \\\n",
       "0    [육회, 맛있다, 호점, 쏘다, 먹다, 신선하다, 좋다, 산낙지, 스굿, 불토, 연...   \n",
       "1    [고기, 맛있다, 양념, 돼지갈비, 갈비, 뚱돼, 겹살, 친절하다, 좋다, 먹다, ...   \n",
       "2    [고기, 굳다, 대패, 맛있다, 축산, 송이, 정육, 좋다, 찌개, 먹다, 가성, ...   \n",
       "3    [감자탕, 맛있다, 볶음밥, 수제비, 먹다, 수도권, 미나리, 좋다, 식이섬유, 식...   \n",
       "4    [빵집, 맛있다, 좋다, 쌀빵, 카레빵, 보로, 방앗간, 앗다, 루베, 도넛, 체적...   \n",
       "..                                                 ...   \n",
       "164  [감자탕, 해물, 볶음밥, 맛있다, 먹다, 샤브샤브, 태도, 국물, 진짜, 친절하다...   \n",
       "165  [식빵, 아르바이트, 아라동, 친절하다, 맛있다, 결재, 뚜레쥬르, 먹다, 초코, ...   \n",
       "166  [마르다, 단계, 맛있다, 꾸다, 먹다, 탕집, 볶음밥, 위생, 좋다, 이모, 도전...   \n",
       "167  [먹다, 맛있다, 해산물, 좋다, 어회, 고등, 신선하다, 바다, 노을, 전복죽, ...   \n",
       "168  [피자, 와인, 맛있다, 화덕, 페로, 분위기, 이탈리아, 너무, 좋다, 오다, 파...   \n",
       "\n",
       "                                           krword_rank  \n",
       "0    [맛있, 먹다, 친절하다, 신선하다, 육회, 밑반찬, 계란, 추천, 좋다, 쏘다, ...  \n",
       "1    [맛있다, 고기, 친절, 가다, 먹다, 양념, 너무, 진짜, 직원, 사장, 굽다, ...  \n",
       "2    [맛있다, 고기, 좋다, 먹다, 정말, 친절, 맛집, 메뉴, 직원, 자다, 반찬, ...  \n",
       "3    [맛있다, 먹다, 감자탕, 좋다, 볶음밥, 식사, 너무, 국물, 가다, 수제비, 진...  \n",
       "4    [맛있, 늦다, 빵집, 사장, 친절하다, 어렵다, 응대, 많다, 많이, 마다, 느낌...  \n",
       "..                                                 ...  \n",
       "164  [먹다, 감자탕, 맛있다, 해물, 진짜, 고기, 생각, 친절하다, 국물, 맛집, 가...  \n",
       "165  [맛있다, 친절하다, 가다, 먹다, 좋다, 직원, 할인, 너무, 아라동, 정말, 쓰...  \n",
       "166  [마르, 먹다, 맛있다, 좋다, 재료, 사장, 도전, 음식, 단계, 위생, 볶음밥,...  \n",
       "167  [맛있다, 먹다, 좋다, 너무, 신선하다, 오다, 해산물, 엄청, 완전, 보다, 나...  \n",
       "168  [맛있다, 피자, 너무, 좋다, 오다, 먹다, 방문, 분위기, 와인, 음식, 제주,...  \n",
       "\n",
       "[169 rows x 6 columns]"
      ]
     },
     "execution_count": 42,
     "metadata": {},
     "output_type": "execute_result"
    }
   ],
   "source": [
    "df"
   ]
  },
  {
   "cell_type": "markdown",
   "metadata": {},
   "source": [
    "# GEMINI"
   ]
  },
  {
   "cell_type": "code",
   "execution_count": 46,
   "metadata": {},
   "outputs": [
    {
     "name": "stderr",
     "output_type": "stream",
     "text": [
      "/opt/homebrew/Caskroom/miniforge/base/envs/bigcon/lib/python3.11/site-packages/tqdm/auto.py:21: TqdmWarning: IProgress not found. Please update jupyter and ipywidgets. See https://ipywidgets.readthedocs.io/en/stable/user_install.html\n",
      "  from .autonotebook import tqdm as notebook_tqdm\n",
      "  5%|▍         | 8/169 [00:30<10:06,  3.76s/it]"
     ]
    },
    {
     "name": "stdout",
     "output_type": "stream",
     "text": [
      "10번째 키워드 추출 완료\n"
     ]
    },
    {
     "name": "stderr",
     "output_type": "stream",
     "text": [
      " 11%|█         | 18/169 [01:12<09:42,  3.86s/it]"
     ]
    },
    {
     "name": "stdout",
     "output_type": "stream",
     "text": [
      "20번째 키워드 추출 완료\n"
     ]
    },
    {
     "name": "stderr",
     "output_type": "stream",
     "text": [
      " 17%|█▋        | 28/169 [01:53<08:59,  3.83s/it]"
     ]
    },
    {
     "name": "stdout",
     "output_type": "stream",
     "text": [
      "30번째 키워드 추출 완료\n"
     ]
    },
    {
     "name": "stderr",
     "output_type": "stream",
     "text": [
      " 22%|██▏       | 38/169 [02:34<08:25,  3.86s/it]"
     ]
    },
    {
     "name": "stdout",
     "output_type": "stream",
     "text": [
      "40번째 키워드 추출 완료\n"
     ]
    },
    {
     "name": "stderr",
     "output_type": "stream",
     "text": [
      " 28%|██▊       | 48/169 [03:15<07:50,  3.89s/it]"
     ]
    },
    {
     "name": "stdout",
     "output_type": "stream",
     "text": [
      "50번째 키워드 추출 완료\n"
     ]
    },
    {
     "name": "stderr",
     "output_type": "stream",
     "text": [
      " 34%|███▍      | 58/169 [04:21<09:25,  5.10s/it]"
     ]
    },
    {
     "name": "stdout",
     "output_type": "stream",
     "text": [
      "60번째 키워드 추출 완료\n"
     ]
    },
    {
     "name": "stderr",
     "output_type": "stream",
     "text": [
      " 40%|████      | 68/169 [05:03<06:36,  3.93s/it]"
     ]
    },
    {
     "name": "stdout",
     "output_type": "stream",
     "text": [
      "70번째 키워드 추출 완료\n"
     ]
    },
    {
     "name": "stderr",
     "output_type": "stream",
     "text": [
      " 46%|████▌     | 78/169 [05:45<05:58,  3.94s/it]"
     ]
    },
    {
     "name": "stdout",
     "output_type": "stream",
     "text": [
      "80번째 키워드 추출 완료\n"
     ]
    },
    {
     "name": "stderr",
     "output_type": "stream",
     "text": [
      " 49%|████▊     | 82/169 [06:04<06:16,  4.33s/it]"
     ]
    },
    {
     "name": "stdout",
     "output_type": "stream",
     "text": [
      "500 An internal error has occurred. Please retry or report in https://developers.generativeai.google/guide/troubleshooting\n"
     ]
    },
    {
     "name": "stderr",
     "output_type": "stream",
     "text": [
      " 51%|█████▏    | 87/169 [06:26<05:33,  4.07s/it]"
     ]
    },
    {
     "name": "stdout",
     "output_type": "stream",
     "text": [
      "90번째 키워드 추출 완료\n"
     ]
    },
    {
     "name": "stderr",
     "output_type": "stream",
     "text": [
      " 52%|█████▏    | 88/169 [06:32<06:35,  4.89s/it]"
     ]
    },
    {
     "name": "stdout",
     "output_type": "stream",
     "text": [
      "500 An internal error has occurred. Please retry or report in https://developers.generativeai.google/guide/troubleshooting\n"
     ]
    },
    {
     "name": "stderr",
     "output_type": "stream",
     "text": [
      " 57%|█████▋    | 96/169 [07:07<04:59,  4.10s/it]"
     ]
    },
    {
     "name": "stdout",
     "output_type": "stream",
     "text": [
      "100번째 키워드 추출 완료\n"
     ]
    },
    {
     "name": "stderr",
     "output_type": "stream",
     "text": [
      " 63%|██████▎   | 106/169 [07:50<04:14,  4.04s/it]"
     ]
    },
    {
     "name": "stdout",
     "output_type": "stream",
     "text": [
      "110번째 키워드 추출 완료\n"
     ]
    },
    {
     "name": "stderr",
     "output_type": "stream",
     "text": [
      " 69%|██████▊   | 116/169 [08:32<03:27,  3.92s/it]"
     ]
    },
    {
     "name": "stdout",
     "output_type": "stream",
     "text": [
      "120번째 키워드 추출 완료\n"
     ]
    },
    {
     "name": "stderr",
     "output_type": "stream",
     "text": [
      " 75%|███████▍  | 126/169 [09:14<02:48,  3.91s/it]"
     ]
    },
    {
     "name": "stdout",
     "output_type": "stream",
     "text": [
      "130번째 키워드 추출 완료\n"
     ]
    },
    {
     "name": "stderr",
     "output_type": "stream",
     "text": [
      " 80%|████████  | 136/169 [09:55<02:08,  3.90s/it]"
     ]
    },
    {
     "name": "stdout",
     "output_type": "stream",
     "text": [
      "140번째 키워드 추출 완료\n"
     ]
    },
    {
     "name": "stderr",
     "output_type": "stream",
     "text": [
      " 86%|████████▋ | 146/169 [10:37<01:30,  3.93s/it]"
     ]
    },
    {
     "name": "stdout",
     "output_type": "stream",
     "text": [
      "150번째 키워드 추출 완료\n"
     ]
    },
    {
     "name": "stderr",
     "output_type": "stream",
     "text": [
      " 92%|█████████▏| 156/169 [11:18<00:50,  3.89s/it]"
     ]
    },
    {
     "name": "stdout",
     "output_type": "stream",
     "text": [
      "160번째 키워드 추출 완료\n"
     ]
    },
    {
     "name": "stderr",
     "output_type": "stream",
     "text": [
      " 98%|█████████▊| 166/169 [12:02<00:11,  3.89s/it]"
     ]
    },
    {
     "name": "stdout",
     "output_type": "stream",
     "text": [
      "170번째 키워드 추출 완료\n"
     ]
    },
    {
     "name": "stderr",
     "output_type": "stream",
     "text": [
      "100%|██████████| 169/169 [12:16<00:00,  4.36s/it]\n"
     ]
    }
   ],
   "source": [
    "import google.generativeai as genai\n",
    "import time\n",
    "api_key = ###\n",
    "genai.configure(api_key = api_key)\n",
    "mct_keyword = {}\n",
    "llm = genai.GenerativeModel(\"gemini-1.5-flash\")\n",
    "\n",
    "num = 1\n",
    "for place, pos_tag in tqdm(df[['MCT_NM','pos_tag']].values):\n",
    "\n",
    "        context = pos_tag\n",
    "    \n",
    "                        \n",
    "        question = \"\"\"\n",
    "        MBTI 별 맛집 성향에 따른 음식점 추천을 하려고 해. 주어진 제주도 맛집에 대한 리뷰 명사 및 동사 텍스트 기반해 주요 20개의 키워드를 추출해줘. 설명 없이 키워드만 나열해줘.\n",
    "        키워드를 통해 맛, 만족도, 서비스, 분위기, 음식량 등을 파악할 수 있도록 추출해줘.\n",
    "\n",
    "        \"\"\"\n",
    "\n",
    "        messages = f\"\"\"\n",
    "            주어진 리뷰 명사 및 동사 텍스트를 기반으로 사용자의 질문에 답변하세요.\n",
    "            답변은 한국어로 작성하세요.\n",
    "\n",
    "            리뷰 명사 및 동사 텍스트: {context}\n",
    "\n",
    "            사용자 질문: {question}\n",
    "            \n",
    "            답변 예시 : 음식점1 : [키워드1, 키워드2, 키워드3, 키워드4, 키워드5, 키워드6, 키워드7, 키워드8, 키워드9, 키워드10, 키워드11, 키워드12, 키워드13, 키워드14, 키워드15, 키워드16, 키워드17, 키워드18, 키워드19, 키워드20]\n",
    "\n",
    "            \"\"\"\n",
    "\n",
    "        try:\n",
    "                response = llm.generate_content(\n",
    "                                messages,\n",
    "                                #safety_settings=\"BLOCK_NONE\",\n",
    "                        \n",
    "                        )\n",
    "                time.sleep(3)\n",
    "                mct_keyword[place] = response.text\n",
    "                num += 1\n",
    "        except Exception as e:\n",
    "                time.sleep(5)\n",
    "                print(e)\n",
    "                num += 1\n",
    "                llm = genai.GenerativeModel(\"gemini-1.5-flash\")\n",
    "                response = llm.generate_content(\n",
    "                                messages,\n",
    "                                #safety_settings=\"BLOCK_NONE\",\n",
    "                        \n",
    "                        )\n",
    "                if response.text != '':\n",
    "                        mct_keyword[place] = response.text\n",
    "                        num += 1\n",
    "                else:\n",
    "                        pass\n",
    "\n",
    "        if num % 10 == 0:\n",
    "                # print(f'{num}번째 키워드 추출 완료')\n",
    "                time.sleep(3)\n",
    "                llm = genai.GenerativeModel(\"gemini-1.5-flash\")\n"
   ]
  },
  {
   "cell_type": "code",
   "execution_count": 47,
   "metadata": {},
   "outputs": [
    {
     "data": {
      "text/plain": [
       "{'탕탕이2호점': '[맛있다, 신선하다, 푸짐하다, 양도 많다, 배부르다, 친절하다, 좋다, 밑반찬, 솜씨, 서비스, 굿, 추천, 단골, 육회, 낙지, 연포탕, 비빔밥, 계란말이, 맥주, 불토] \\n',\n",
       " '뚱돼지': '[흑돼지, 돼지갈비, 양념갈비, 맛있다, 친절하다, 깔끔하다, 맛집, 최고, 굳, 찌다, 존맛, 추천, 서비스, 싱싱, 육즙, 푸짐, 만족, 기분 좋다, 좋다, 강추] \\n',\n",
       " '송이축산정육식당': '[가성비, 맛있다, 맛집, 돼지고기, 신선하다, 친절하다, 좋다, 굳, 푸짐하다, 착하다, 맛, 만족, 육즙, 부드럽다, 깔끔하다, 넉넉하다, 싱싱하다, 푸짐,  저렴하다,  양] \\n',\n",
       " '24시뼈다귀탕 신서귀점': '[맛있다, 푸짐하다, 친절하다, 든든하다, 술안주, 볶음밥, 수제비, 감자탕, 뼈, 국물, 시원하다, 매운탕, 콩나물, 미나리, 우거지, 야채, 칼칼하다, 깔끔하다, 넉넉하다, 맛집] \\n',\n",
       " '명당양과노형점': '[맛있다, 좋다, 친절하다, 감동, 비싸다, 다이어트, 생일 케잌, 굿, 깔끔하다, 달달, 무난, 친절, 생각나다, 인기 많다, 단체 주문, 최고, 많다, 팥소, 늦다, 쌀 카레빵] \\n',\n",
       " '바로족발보쌈': '[족발, 맛있다, 부드럽다, 쫄깃, 돼지, 냄새, 없다, 막국수, 순두부찌개, 푸짐, 양, 많다, 친절, 서비스, 웨이팅, 줄, 서다, 기다리다, 손님, 많다] \\n',\n",
       " '송쿠쉐': '송쿠쉐 : 스테이크, 맛있다, 분위기, 고급스럽다, 친절하다, 런치, 코스, 가성비, 데이트, 기념일,  예약,  세트,  와인,  음식,  양,  재료,  신선하다,  특별하다,  만족,  강추 \\n',\n",
       " '남녕국수': '[집밥, 반찬, 맛있다, 친절하다, 먹다, 가다, 오다, 이전, 맛, 가격, 착하다, 정말, 맛집, 너무, 진정하다, 좋다, 만,  먹다,  가다,  오다] \\n',\n",
       " '고촌': '[갈매기, 맛있다, 좋다, 부드럽다, 술, 싸다, 친절하다, 구이, 먹다, 괜찮다, 갈매기살, 반하다, 사장, 부심, 욤, 진짜, 넘다, 짱짱, 기도, 양념, 심심하다, 굳다, 염, 방문] \\n',\n",
       " '바로족발보쌈별관': '[족발, 보쌈, 불족, 맛있다, 쫀득, 야들야들, 부드럽다, 껍질, 냄새, 양념, 싱싱, 친절, 포장, 주문, 대기, 많다, 웨이팅, 푸짐, 만족, 최고] \\n',\n",
       " '화산양꼬치5호점': '[맛있다, 꼬치, 좋다, 신선, 양, 많다, 맛집, 괜찮다, 탕, 꾸다바로우, 맛잇다, 엄청, 특히, 세트, 중식, 강하다, 취향, 간장, 저격,  무한리필, 냉면,  평범하다, 싱겁다,  굿,  친절하다,  환대,  고기,  온면,  바삭, 달콤하다,  분위기,  이상하다,  실망,  가지,  요리,  시원하다,  불친절,  별로,  갈비,  최고,  맛,  새롭다,  풍미] \\n',\n",
       " '대원오메기떡': '[오메떡, 맛있다, 저렴하다, 쫀득, 팥, 견과류, 떡, 찰지다, 쑥, 인절미, 맛, 가격, 친절, 포장, 택배, 선물, 깔끔, 부드럽다, 푸짐, 만족] \\n',\n",
       " '30년할매닭발노형점': '닭발, 맛있다, 매운, 맵다, 최고, 맛, 닭똥집, 튀김, 숯불, 쫄깃, 깻잎, 계란찜, 숭늉, 서비스, 친절, 깔끔, 청결, 위생, 양, 냄새 \\n',\n",
       " '금돈가': '[흑돼지, 맛있다, 굽다, 촉촉, 부드럽다, 육즙, 쫀득, 푸짐, 맛집, 친절, 계란찜, 된장찌개, 김치찌개, 명란젓, 셀프, 넓다, 편하다, 가성비, 만족, 추천] \\n',\n",
       " '삼춘네칼국수': '[다양하다, 진하다, 맛있다, 푸짐하다, 깔끔하다, 든든하다, 싱겁다, 맵다, 짜다, 친절하다, 넓다, 정갈하다, 맛집, 숙소, 가격, 비싸다, 저렴하다, 푸짐, 넉넉, 만족] \\n',\n",
       " '은빛식당': '[가성비, 맛있다, 푸짐하다, 깔끔하다, 친절하다, 싱싱하다, 집밥, 제주도, 생선구이, 옥돔, 고등어, 갈치, 두루치기, 밑반찬, 정식, 만족, 재방문, 좋다, 맛집, 괜찮다] \\n',\n",
       " '일품순두부남원점': '[순두부, 맛있다, 깔끔하다, 친절하다, 맛집, 돌솥밥, 밥, 푸짐하다, 가성비, 든든하다, 건강, 싱겁다, 맵다, 칼칼하다, 탱글, 신선하다, 꼬들꼬들하다, 숭늉, 푸짐하다, 맛있다] \\n',\n",
       " '치타': '치타, 크림치킨, 맛있다, 최고, 맛, 닭, 맵다, 양념, 마늘, 유니크, 친절하다, 푸짐, 넉넉, 많다, 바삭, 갓성비, 굿, 인생, 존맛, 핵존맛 \\n',\n",
       " '육장갈비삼도점': '[돼지갈비, 소갈비, 부드럽다, 맛있다, 맛, 육장갈비, 양념갈비, 돼지양념갈비, 엄청, 찌개, 해산물, 겹살, 소고기, 최애, 갈비집, 고기, 친절하다, 빗살, 김치찌개, 쵝오쵝오] \\n',\n",
       " '몰돗': '[말고기, 맛있다, 육회, 사시미, 국밥, 구이, 친절하다, 신선하다, 푸짐하다, 가성비, 착하다, 부드럽다, 쫀득하다, 깔끔하다, 만족하다, 칭찬, 감동, 맛집, 최고, 추천] \\n',\n",
       " '투썸플레이스제주쇠소깍점': '[맛있다, 괜찮다, 엄청, 습하다, 덥다, 시원하다, 좋다, 멋지다, 넓다, 한산하다, 편하다, 아름답다, 친절하다, 뷰, 맛집, 굿, 최고, 탁월하다, 훌륭하다, 만족스럽다] \\n',\n",
       " '남문숯불바베큐앤치킨신제주점': '숯불, 치킨, 맛있다, 최고, 맛, 남문, 굿, 닭, 맥주, 찰떡궁합, 맵다, 라면, 존맛, 닭다리, 양념, 구이, 뼈, 퍽퍽, 바베큐, 떡, 혼밥, 맛남, 생맥, 환상, 야식, 친절, 금구, 훈제, 양, 적다 \\n',\n",
       " '월정리에서브런치': '[바다, 뷰, 맛있다, 맛, 최고, 좋다, 힐링, 분위기, 멋지다, 친절, 푸짐, 든든, 깔끔, 시원, 행복, 만족, 즐겁, 추천, 엄청, 신선] \\n',\n",
       " '복희네각재기국': '[맛있다, 좋다, 친절하다, 훌륭하다, 싱싱하다, 깔끔하다, 넉넉하다, 푸짐하다, 슴슴하다, 시원하다, 개운하다, 탁월하다, 맛집, 최고, 굿, 일품, 넘다, 밥공기, 뚝딱, 칭찬] \\n',\n",
       " '센잇': '## 제주도 맛집 키워드 (20개)\\n\\n화석과자, 새우, 낙지, 맥주, 밀크티, 바삭, 쫄깃, 맛있다, 짭짤하다, 고소하다, 엄청 크다, 독특하다, 신기하다, 이색, 비주얼, 맛집, 추천, 친절하다, 깔끔하다,  만족 \\n',\n",
       " '파리바게트화북점': '생크림, 케이크, 맛있다, 고구마, 딸기, 시트, 부드러움, 빵, 친절하다, 좋다, 굿, 깨끗하다, 맘모스, 롤, 샌드위치, 만족, 비싸다, 행사, 할인, 오픈 \\n',\n",
       " '주민상회한라대점': '[단골, 좋다, 친절하다, 맛있다, 최고, 굿, 쥐포, 맥주, 퇴근, 냉동, 비싸다, 돌뼈, 찌다, 적극, 맛집, 안주, 감자, 튀기다, 부시다,  세영] \\n',\n",
       " '에이바우트커피 화북남문점': '[맛있다, 굿굿굿, 맛, 좋다, 엄청, 먿, 괜찮다, 시원하다, 최애, 좋아하다, 추천, 달달, 깔끔, 가볍다, 싱싱, 싸다, 저렴하다,  친절하다,  편안하다, 조용하다] \\n',\n",
       " '고집돌우럭 중문점': '[고집돌우럭, 우럭조림, 맛있다, 푸짐하다, 깔끔하다, 친절하다, 만족스럽다, 싱싱하다, 바삭하다, 촉촉하다, 든든하다, 매콤하다, 달콤하다, 옥돔구이, 튀김, 밥, 반찬, 서비스, 가격, 분위기] \\n',\n",
       " '일품순두부청사점': '[일품 순두부, 순두부, 맛있다, 반찬, 맛, 푸짐하다, 셀프, 솥밥, 해장, 가성비, 깔끔하다, 친절하다, 든든하다, 좋다, 무한리필, 밑반찬, 넉넉하다, 싱싱하다, 다양하다, 만족스럽다] \\n',\n",
       " '박가랑춘천닭갈비': '[맛있다, 존맛, 꿀맛, 부드럽다, 쫄깃, 촉촉, 신선, 푸짐, 든든, 깔끔, 매콤, 달콤, 고소, 시원, 맵다, 짜릿,  양념, 볶음밥, 친절, 넓다] \\n',\n",
       " '정직한 초밥': '## 제주도 맛집 키워드 (20개)\\n\\n* 맛있다\\n* 신선하다\\n* 푸짐하다\\n* 가성비 \\n* 친절하다\\n* 깔끔하다\\n* 숙성\\n* 육회\\n* 초밥\\n* 세트\\n* 분위기\\n* \\n* \\n* \\n* \\n* \\n* \\n* \\n* \\n* \\n',\n",
       " '또또양꼬치': '[맛있다, 꼬치, 냄새, 깔끔하다, 시원하다, 친절하다, 좋다, 자다, 먹다, 가게, 사장, 분,  ] \\n',\n",
       " '다린': '쌍화차, 대추차, 팥빙수, 홍시빙수, 흑임자빙수, 인절미, 맛, 진하다, 맛있다, 달다, 든든하다, 건강하다, 친절하다, 정성스럽다, 깔끔하다, 고소하다, 부드럽다, 따뜻하다, 시원하다, 분위기 \\n',\n",
       " '만원애횟집': '회, 맛, 밑반찬, 좋다, 맛있다, 많다, 가격, 구성, 탕, 가성비, 멸치, 튀김, 양, 괜찮다, 짜다, 편, 음식, 적당하다, 아쉽다, 사진, 찍다, 알다, 계속, 곳, 동래, 인상, 친근하다, 친하다, 기회, 한번, 들다, 동네, 횟집, 저렴하다, 자주, 애용 \\n',\n",
       " '노가리앤비어연동3호점': '[국물, 알탕, 조미료, 맛, 꼬치, 안주, 술, 기운, 시가지, 맥주, 가성비, 좌석, 불, 대화, 운치, 친절, 모기, 마감, 메뉴판, 배려] \\n',\n",
       " '털보스협재밀': '## 제주도 맛집 키워드:\\n\\n1. 해물라면\\n2. 전복김밥\\n3. 갈치김밥\\n4. 연어소바\\n5. 성게전복김밥\\n6. 흑돼지김밥\\n7. 뷰\\n8. 바다\\n9. 맛있다\\n10. 친절하다\\n11. 푸짐하다\\n12. 신선하다\\n13. 깔끔하다\\n14. 웨이팅\\n15. 테라스\\n16. 분위기\\n17. 가격\\n18. 양\\n19. 만족\\n20. 추천 \\n',\n",
       " '김밥천국 서귀포점': '[김밥천국, 김밥, 맛있다, 친절하다, 혼밥, 가성비, 떡볶이, 굿, 빨리, 맛, 좋다, 푸짐하다, 다양하다, 만족스럽다, 저렴하다, 간단하다, 든든하다, 시원하다, 깔끔하다, 부족하다] \\n',\n",
       " '제주미소': '[샤브샤브, 샐러드바, 맛있다, 푸짐하다, 가성비, 신선하다, 깔끔하다, 친절하다, 넓다, 무한리필, 육수, 고기, 야채, 떡볶이, 꽃빵, 스파게티, 칼국수, 죽, 월남쌈, 해물] \\n',\n",
       " '남문숯불바베큐앤치킨노형점': '[숯불, 바베큐, 치킨, 후라이드, 맛있다, 촉촉하다, 똥집, 양념, 소스, 맥주, 계란찜, 친절하다, 신선하다, 넉넉하다, 푸짐하다, 맵다, 매콤하다, 깔끔하다, 아늑하다, 최고] \\n',\n",
       " '비에이치씨 신연동점': '[사장, 친절, 뿌링클, 맛있다, 먹다, 굿, 치킨, 바삭, 메뉴, 도전, 주문, 치즈볼, 좋아하다, 포장, 감튀, 핫도그, 추가, 결제, 진짜, 기름] \\n',\n",
       " '돌하르방나주곰탕': '[맛있다, 깔끔하다, 부드럽다, 담백하다, 친절하다, 저렴하다, 푸짐하다, 넉넉하다, 싱겁다, 쎄다,  고기, 국물, 갈비탕, 곰탕, 밥, 깍두기, 반찬, 분위기,  좋다,  최고] \\n',\n",
       " '일등아들': '[대패삼겹살, 숨기다, 맛집, 친절, 유머, 밑반찬, 맛, 양념게장, 찌개, 탱, 고기, 갈비, 사장, 장사, 최고, 가게, 냉동삼겹살, 정성, 냉삼, 돈쭐, 야하다, 식당, 동네, 직원, 음식, 신선, 홀, 말씀, 반찬, 굿] \\n',\n",
       " '서귀포고기국수': '[고기국수, 전복죽, 비빔국수, 맛있다, 푸짐하다, 친절하다, 깔끔하다, 넉넉하다, 든든하다, 담백하다, 깊다, 진하다, 쫄깃하다, 맛있다, 푸짐하다, 시원하다, 좋다, 최고, 만족, 추천] \\n',\n",
       " '경미해장국': '[깔끔하다, 맛있다, 친절하다, 푸짐하다, 시원하다, 든든하다, 신선하다, 해장국, 장탕, 국물, 맑은, 진하다, 깊다, 최고, 넉넉하다, 넓다, 편하다, 좋다, 괜찮다, 강추] \\n',\n",
       " '맨도롱국수집': '## 제주도 맛집 키워드:\\n\\n고기국수, 전복물회, 콩국수, 비빔국수, 멸치국수, 돔베고기, 맛있다, 깔끔하다, 친절하다, 양많다, 푸짐하다, 시원하다, 깊다, 진하다, 부드럽다, 신선하다, 넉넉하다, 정갈하다, \\n최고, 만족, 강추 \\n',\n",
       " '우도해녀식당': '[싱싱, 맛있다, 칼국수, 해산물, 국물, 시원하다, 비빔밥, 전복, 물회, 뿔소라, 해녀, 신선, 좋다, 뷰, 바다, 친절, 양, 많다, 가격, 추천] \\n',\n",
       " '제주 돈사돈 서귀포점': '[흑돼지, 맛있다, 육즙, 부드럽다, 친절하다, 굽다, 돈사돈, 서귀포, 맛집, 제주도, 연탄구이, 김치찌개, 웨이팅, 서비스, 분위기, 넓다, 쾌적하다, 뷰, 숙성, 최고] \\n',\n",
       " '대풍미락횟집함덕본점': '[뷰, 맛, 친절, 텐션, 놀, 감사, 아깝다, 솔직하다, 맛있다, 푸짐, 배부르다, 괜찮다, 강추, 가격, 신선하다, 콜키, 만족스럽다, 추천, 맛집, 굿] \\n',\n",
       " '춘천명동닭갈비 중문점': '[닭갈비, 맛있다, 볶음밥, 맛, 최고, 친절하다, 맵다, 좋다, 푸짐하다, 양, 괜찮다, 깔끔하다, 불친절, 서비스, 냄새, 기름, 콩나물, 김치, 볶다, 숯불] \\n',\n",
       " '진도새기': '[흑돼지, 맛집, 제주도, 친절, 맛있다, 최고, 굽다, 육즙, 부드럽다, 만족, 가격, 합리, 서비스, 푸짐,  고기,  좋다,  추천,  도민,  방문,  식당] \\n',\n",
       " '심박돈숙성흑돼지': '[흑돼지, 맛집, 맛있다, 친절하다, 가성비, 좋다, 푸짐하다, 양, 많다, 고기, 숙성, 부드럽다, 육즙, 맛, 깔끔하다, 분위기, 서비스, 밑반찬, 숯불, 굽다] \\n',\n",
       " '대정쌍둥이식당': '## 제주도 맛집 키워드:\\n\\n* 맛있다\\n* 싱싱하다\\n* 깔끔하다\\n* 친절하다\\n* 푸짐하다\\n* 가성비 \\n* 든든하다\\n* \\n* \\n* \\n* \\n* \\n* \\n* \\n* \\n* \\n* \\n* \\n* \\n* \\n* \\n* \\n* \\n* \\n* \\n* \\n* \\n* \\n* \\n* \\n* \\n* \\n* \\n* \\n* \\n* \\n* \\n* \\n* \\n* \\n* \\n* \\n* \\n* \\n* \\n* \\n* \\n* \\n* \\n* \\n* \\n* \\n* \\n* \\n* \\n* \\n* \\n* \\n* \\n* \\n* \\n* \\n* \\n* \\n* \\n* \\n* \\n* \\n* \\n* \\n* \\n* \\n* \\n* \\n* \\n* \\n* \\n* \\n* \\n* \\n* \\n* \\n* \\n* \\n* \\n* \\n* \\n* \\n* \\n* \\n* \\n* \\n* \\n* \\n* \\n* \\n* \\n* \\n* \\n* \\n* \\n* \\n* \\n* \\n* \\n* \\n* \\n* \\n* \\n* \\n* \\n* \\n* \\n* \\n* \\n* \\n* \\n* \\n* \\n* \\n* \\n* \\n* \\n* \\n* \\n* \\n* \\n* \\n* \\n* \\n* \\n* \\n* \\n* \\n* \\n* \\n* \\n* \\n* \\n* \\n* \\n* \\n* \\n* \\n* \\n* \\n* \\n* \\n* \\n* \\n* \\n* \\n* \\n* \\n* \\n* \\n* \\n* \\n* \\n* \\n* \\n* \\n* \\n* \\n* \\n* \\n* \\n* \\n* \\n* \\n* \\n* \\n* \\n* \\n* \\n* \\n* \\n* \\n* \\n* \\n* \\n* \\n* \\n* \\n* \\n* \\n* \\n* \\n* \\n* \\n* \\n* \\n* \\n* \\n* \\n* \\n* \\n* \\n* \\n* \\n* \\n* \\n* \\n* \\n* \\n* \\n* \\n* \\n* \\n* \\n* \\n* \\n* \\n* \\n* \\n* \\n* \\n* \\n* \\n* \\n* \\n* \\n* \\n* \\n* \\n* \\n* \\n* \\n* \\n* \\n* \\n* \\n* \\n* \\n* \\n* \\n* \\n* \\n* \\n* \\n* \\n* \\n* \\n* \\n* \\n* \\n* \\n* \\n* \\n* \\n* \\n* \\n* \\n* \\n* \\n* \\n* \\n* \\n* \\n* \\n* \\n* \\n* \\n* \\n* \\n* \\n* \\n* \\n* \\n* \\n* \\n* \\n* \\n* \\n* \\n* \\n* \\n* \\n* \\n* \\n* \\n* \\n* \\n* \\n* \\n* \\n* \\n* \\n* \\n* \\n* \\n* \\n* \\n* \\n* \\n* \\n* \\n* \\n* \\n* \\n* \\n* \\n* \\n* \\n* \\n* \\n* \\n* \\n* \\n* \\n* \\n* \\n* \\n* \\n* \\n* \\n* \\n* \\n* \\n* \\n* \\n* \\n* \\n* \\n* \\n* \\n* \\n* \\n* \\n* \\n* \\n* \\n* \\n* \\n* \\n* \\n* \\n* \\n* \\n* \\n* \\n* \\n* \\n* \\n* \\n* \\n* \\n* \\n* \\n* \\n* \\n* \\n* \\n* \\n* \\n* \\n* \\n* \\n* \\n* \\n* \\n* \\n* \\n* \\n* \\n* \\n* \\n* \\n* \\n* \\n* \\n* \\n* \\n* \\n* \\n* \\n* \\n* \\n* \\n* \\n* \\n* \\n* \\n* \\n* \\n* \\n* \\n* \\n* \\n* \\n* \\n* \\n* \\n* \\n* \\n* \\n* \\n* \\n* \\n* \\n* \\n* \\n* \\n* \\n* \\n* \\n* \\n* \\n* \\n* \\n* \\n* \\n* \\n* \\n* \\n* \\n* \\n* \\n* \\n* \\n* \\n* \\n* \\n* \\n* \\n* \\n* \\n* \\n* \\n* \\n* \\n* \\n* \\n* \\n* \\n* \\n* \\n* \\n* \\n* \\n* \\n* \\n* \\n* \\n* \\n* \\n* \\n* \\n* \\n* \\n* \\n* \\n* \\n* \\n* \\n* \\n* \\n* \\n* \\n* \\n* \\n* \\n* \\n* \\n* \\n* \\n* \\n* \\n* \\n* \\n* \\n* \\n* \\n* \\n* \\n* \\n* \\n* \\n* \\n* \\n* \\n* \\n* \\n* \\n* \\n* \\n* \\n* \\n* \\n* \\n* \\n* \\n* \\n* \\n* \\n* \\n* \\n* \\n* \\n* \\n* \\n* \\n* \\n* \\n* \\n* \\n* \\n* \\n* \\n* \\n* \\n* \\n* \\n* \\n* \\n* \\n* \\n* \\n* \\n* \\n* \\n* \\n* \\n* \\n* \\n* \\n* \\n* \\n* \\n* \\n* \\n* \\n* \\n* \\n* \\n* \\n* \\n* \\n* \\n* \\n* \\n* \\n* \\n* \\n* \\n* \\n* \\n* \\n* \\n* \\n* \\n* \\n* \\n* \\n* \\n* \\n* \\n* \\n* \\n* \\n* \\n* \\n* \\n* \\n* \\n* \\n* \\n* \\n* \\n* \\n* \\n* \\n* \\n* \\n* \\n* \\n* \\n* \\n* \\n* \\n* \\n* \\n* \\n* \\n* \\n* \\n* \\n* \\n* \\n* \\n* \\n* \\n* \\n* \\n* \\n* \\n* \\n* \\n* \\n* \\n* \\n* \\n* \\n* \\n* \\n* \\n* \\n* \\n* \\n* \\n* \\n* \\n* \\n* \\n* \\n* \\n* \\n* \\n* \\n* \\n* \\n* \\n* \\n* \\n* \\n* \\n* \\n* \\n* \\n* \\n* \\n* \\n* \\n* \\n* \\n* \\n* \\n* \\n* \\n* \\n* \\n* \\n* \\n* \\n* \\n* \\n* \\n* \\n* \\n* \\n* \\n* \\n* \\n* \\n* \\n* \\n* \\n* \\n* \\n* \\n* \\n* \\n* \\n* \\n* \\n* \\n* \\n* \\n* \\n* \\n* \\n* \\n* \\n* \\n* \\n* \\n* \\n* \\n* \\n* \\n* \\n* \\n* \\n* \\n* \\n* \\n* \\n* \\n* \\n* \\n* \\n* \\n* \\n* \\n* \\n* \\n* \\n* \\n* \\n* \\n* \\n* \\n* \\n* \\n* \\n* \\n* \\n* \\n* \\n* \\n* \\n* \\n* \\n* \\n* \\n* \\n* \\n* \\n* \\n* \\n* \\n* \\n* \\n* \\n* \\n* \\n* \\n* \\n* \\n* \\n* \\n* \\n* \\n* \\n* \\n* \\n* \\n* \\n* \\n* \\n* \\n* \\n* \\n* \\n* \\n* \\n* \\n* \\n* \\n* \\n* \\n* \\n* \\n* \\n* \\n* \\n* \\n* \\n* \\n* \\n* \\n* \\n* \\n* \\n* \\n* \\n* \\n* \\n* \\n* \\n* \\n* \\n* \\n* \\n* \\n* \\n* \\n* \\n* \\n* \\n* \\n* \\n* \\n* \\n* \\n* \\n* \\n* \\n* \\n* \\n* \\n* \\n* \\n* \\n* \\n* \\n* \\n* \\n* \\n* \\n* \\n* \\n* \\n* \\n* \\n* \\n* \\n* \\n* \\n* \\n* \\n* \\n* \\n* \\n* \\n* \\n* \\n* \\n* \\n* \\n* \\n* \\n* \\n* \\n* \\n* \\n* \\n* \\n* \\n* \\n* \\n* \\n* \\n* \\n* \\n* \\n* \\n* \\n* \\n* \\n* \\n* \\n* \\n* \\n* \\n* \\n* \\n* \\n* \\n* \\n* \\n* \\n* \\n* \\n* \\n* \\n* \\n* \\n* \\n* \\n* \\n* \\n* \\n* \\n* \\n* \\n* \\n* \\n* \\n* \\n* \\n* \\n* \\n* \\n* \\n* \\n* \\n* \\n* \\n* \\n* \\n* \\n* \\n* \\n* \\n* \\n* \\n* \\n* \\n* \\n* \\n* \\n* \\n* \\n* \\n* \\n* \\n* \\n* \\n* \\n* \\n* \\n* \\n* \\n* \\n* \\n* \\n* \\n* \\n* \\n* \\n* \\n* \\n* \\n* \\n* \\n* \\n* \\n* \\n* \\n* \\n* \\n* \\n* \\n* \\n* \\n* \\n* \\n* \\n* \\n* \\n* \\n* \\n* \\n* \\n* \\n* \\n* \\n* \\n* \\n* \\n* \\n* \\n* \\n* \\n* \\n* \\n* \\n* \\n* \\n* \\n* \\n* \\n* \\n* \\n* \\n* \\n* \\n* \\n* \\n* \\n* \\n* \\n* \\n* \\n* \\n* \\n* \\n* \\n* \\n* \\n* \\n* \\n* \\n* \\n* \\n* \\n* \\n* \\n* \\n* \\n* \\n* \\n* \\n* \\n* \\n* \\n* \\n* \\n* \\n* \\n* \\n* \\n* \\n* \\n* \\n* \\n* \\n* \\n* \\n* \\n* \\n* \\n* \\n* \\n* \\n* \\n* \\n* \\n* \\n* \\n* \\n* \\n* \\n* \\n* \\n* \\n* \\n* \\n* \\n* \\n* \\n* \\n* \\n* \\n* \\n* \\n* \\n* \\n* \\n* \\n* \\n* \\n* \\n* \\n* \\n* \\n* \\n* \\n* \\n* \\n* \\n* \\n* \\n* \\n* \\n* \\n* \\n* \\n* \\n* \\n* \\n* \\n* \\n* \\n* \\n* \\n* \\n* \\n* \\n* \\n* \\n* \\n* \\n* \\n* \\n* \\n* \\n* \\n* \\n* \\n* \\n* \\n* \\n* \\n* \\n* \\n* \\n* \\n* \\n* \\n* \\n* \\n* \\n* \\n* \\n* \\n* \\n* \\n* \\n* \\n* \\n* \\n* \\n* \\n* \\n* \\n* \\n* \\n* \\n* \\n* \\n* \\n* \\n* \\n* \\n* \\n* \\n* \\n* \\n* \\n* \\n* \\n* \\n* \\n* \\n* \\n* \\n* \\n* \\n* \\n* \\n* \\n* \\n* \\n* \\n* \\n* \\n* \\n* \\n* \\n* \\n* \\n* \\n* \\n* \\n* \\n* \\n* \\n* \\n* \\n* \\n* \\n* \\n* \\n* \\n* \\n* \\n* \\n* \\n* \\n* \\n* \\n* \\n* \\n* \\n* \\n* \\n* \\n* \\n* \\n* \\n* \\n* \\n* \\n* \\n* \\n* \\n* \\n* \\n* \\n* \\n* \\n* \\n* \\n* \\n* \\n* \\n* \\n* \\n* \\n* \\n* \\n* \\n* \\n* \\n* \\n* \\n* \\n* \\n* \\n* \\n* \\n* \\n* \\n* \\n* \\n* \\n* \\n* \\n* \\n* \\n* \\n* \\n* \\n* \\n* \\n* \\n* \\n* \\n* \\n* \\n* \\n* \\n* \\n* \\n* \\n* \\n* \\n* \\n* \\n* \\n* \\n* \\n* \\n* \\n* \\n* \\n* \\n* \\n* \\n* \\n* \\n* \\n* \\n* \\n* \\n* \\n* \\n* \\n* \\n* \\n* \\n* \\n* \\n* \\n* \\n* \\n* \\n* \\n* \\n* \\n* \\n* \\n* \\n* \\n* \\n* \\n* \\n* \\n* \\n* \\n* \\n* \\n* \\n* \\n* \\n* \\n* \\n* \\n* \\n* \\n* \\n* \\n* \\n* \\n* \\n* \\n* \\n* \\n* \\n* \\n* \\n* \\n* \\n* \\n* \\n* \\n* \\n* \\n* \\n* \\n* \\n* \\n* \\n* \\n* \\n* \\n* \\n* \\n* \\n* \\n* \\n* \\n* \\n* \\n* \\n* \\n* \\n* \\n* \\n* \\n* \\n* \\n* \\n* \\n* \\n* \\n* \\n* \\n* \\n* \\n* \\n* \\n* \\n* \\n* \\n* \\n* \\n* \\n* \\n* \\n* \\n* \\n* \\n* \\n* \\n* \\n* \\n* \\n* \\n* \\n* \\n* \\n* \\n* \\n* \\n* \\n* \\n* \\n* \\n* \\n* \\n* \\n* \\n* \\n* \\n* \\n* \\n* \\n* \\n* \\n* \\n* \\n* \\n* \\n* \\n* \\n* \\n* \\n* \\n* \\n* \\n* \\n* \\n* \\n* \\n* \\n* \\n* \\n* \\n* \\n* \\n* \\n* \\n* \\n* \\n* \\n* \\n* \\n* \\n* \\n* \\n* \\n* \\n* \\n* \\n* \\n* \\n* \\n* \\n* \\n* \\n* \\n* \\n* \\n* \\n* \\n* \\n* \\n* \\n* \\n* \\n* \\n* \\n* \\n* \\n* \\n* \\n* \\n* \\n* \\n* \\n* \\n* \\n* \\n* \\n* \\n* \\n* \\n* \\n* \\n* \\n* \\n* \\n* \\n* \\n* \\n* \\n* \\n* \\n* \\n* \\n* \\n* \\n* \\n* \\n* \\n* \\n* \\n* \\n* \\n* \\n* \\n* \\n* \\n* \\n* \\n* \\n* \\n* \\n* \\n* \\n* \\n* \\n* \\n* \\n* \\n* \\n* \\n* \\n* \\n* \\n* \\n* \\n* \\n* \\n* \\n* \\n* \\n* \\n* \\n* \\n* \\n* \\n* \\n* \\n* \\n* \\n* \\n* \\n* \\n* \\n* \\n* \\n* \\n* \\n* \\n* \\n* \\n* \\n* \\n* \\n* \\n* \\n* \\n* \\n* \\n* \\n* \\n* \\n* \\n* \\n* \\n* \\n* \\n* \\n* \\n* \\n* \\n* \\n* \\n* \\n* \\n* \\n* \\n* \\n* \\n* \\n* \\n* \\n* \\n* \\n* \\n* \\n* \\n* \\n* \\n* \\n* \\n* \\n* \\n* \\n* \\n* \\n* \\n* \\n* \\n* \\n* \\n* \\n* \\n* \\n* \\n* \\n* \\n* \\n* \\n* \\n* \\n* \\n* \\n* \\n* \\n* \\n* \\n* \\n* \\n* \\n* \\n* \\n* \\n* \\n* \\n* \\n* \\n* \\n* \\n* \\n* \\n* \\n* \\n* \\n* \\n* \\n* \\n* \\n* \\n* \\n* \\n* \\n* \\n* \\n* \\n* \\n* \\n* \\n* \\n* \\n* \\n* \\n* \\n* \\n* \\n* \\n* \\n* \\n* \\n* \\n* \\n* \\n* \\n* \\n* \\n* \\n* \\n* \\n* \\n* \\n* \\n* \\n* \\n* \\n* \\n* \\n* \\n* \\n* \\n* \\n* \\n* \\n* \\n* \\n* \\n* \\n* \\n* \\n* \\n* \\n* \\n* \\n* \\n* \\n* \\n* \\n* \\n* \\n* \\n* \\n* \\n* \\n* \\n* \\n* \\n* \\n* \\n* \\n* \\n* \\n* \\n* \\n* \\n* \\n* \\n* \\n* \\n* \\n* \\n* \\n* \\n* \\n* \\n* \\n* \\n* \\n* \\n* \\n* \\n* \\n* \\n* \\n* \\n* \\n* \\n* \\n* \\n* \\n* \\n* \\n* \\n* \\n* \\n* \\n* \\n* \\n* \\n* \\n* \\n* \\n* \\n* \\n* \\n* \\n* \\n* \\n* \\n* \\n* \\n* \\n* \\n* \\n* \\n* \\n* \\n* \\n* \\n* \\n* \\n* \\n* \\n* \\n* \\n* \\n* \\n* \\n* \\n* \\n* \\n* \\n* \\n* \\n* \\n* \\n* \\n* \\n* \\n* \\n* \\n* \\n* \\n* \\n* \\n* \\n* \\n* \\n* \\n* \\n* \\n* \\n* \\n* \\n* \\n* \\n* \\n* \\n* \\n* \\n* \\n* \\n* \\n* \\n* \\n* \\n* \\n* \\n* \\n* \\n* \\n* \\n* \\n* \\n* \\n* \\n* \\n* \\n* \\n* \\n* \\n* \\n* \\n* \\n* \\n* \\n* \\n* \\n* \\n* \\n* \\n* \\n* \\n* \\n* \\n* \\n* \\n* \\n* \\n* \\n* \\n* \\n* \\n* \\n* \\n* \\n* \\n* \\n* \\n* \\n* \\n* \\n* \\n* \\n* \\n* \\n* \\n* \\n* \\n* \\n* \\n* \\n* \\n* \\n* \\n* \\n* \\n* \\n* \\n* \\n* \\n* \\n* \\n* \\n* \\n* \\n* \\n* \\n* \\n* \\n* \\n* \\n* \\n* \\n* \\n* \\n* \\n* \\n* \\n* \\n* \\n* \\n* \\n* \\n* \\n* \\n* \\n* \\n* \\n* \\n* \\n* \\n* \\n* \\n* \\n* \\n* \\n* \\n* \\n* \\n* \\n* \\n* \\n* \\n* \\n* \\n* \\n* \\n* \\n* \\n* \\n* \\n* \\n* \\n* \\n* \\n* \\n* \\n* \\n* \\n* \\n* \\n* \\n* \\n* \\n* \\n* \\n* \\n* \\n* \\n* \\n* \\n* \\n* \\n* \\n* \\n* \\n* \\n* \\n* \\n* \\n* \\n* \\n* \\n* \\n* \\n* \\n* \\n* \\n* \\n* \\n* \\n* \\n* \\n* \\n* \\n* \\n* \\n* \\n* \\n* \\n* \\n* \\n* \\n* \\n* \\n* \\n* \\n* \\n* \\n* \\n* \\n* \\n* \\n* \\n* \\n* \\n* \\n* \\n* \\n* \\n* \\n* \\n* \\n* \\n* \\n* \\n* \\n* \\n* \\n* \\n* \\n* \\n* \\n* \\n* \\n* \\n* \\n* \\n* \\n* \\n* \\n* \\n* \\n* \\n* \\n* \\n* \\n* \\n* \\n* \\n* \\n* \\n* \\n* \\n* \\n* \\n* \\n* \\n* \\n* \\n* \\n* \\n* \\n* \\n* \\n* \\n* \\n* \\n* \\n* \\n* \\n* \\n* \\n* \\n* \\n* \\n* \\n* \\n* \\n* \\n* \\n* \\n* \\n* \\n* \\n* \\n* \\n* \\n* \\n* \\n* \\n* \\n* \\n* \\n* \\n* \\n* \\n* \\n* \\n* \\n* \\n* \\n* \\n* \\n* \\n* \\n* \\n* \\n* \\n* \\n* \\n* \\n* \\n* \\n* \\n* \\n* \\n* \\n* \\n* \\n* \\n* \\n* \\n* \\n* \\n* \\n* \\n* \\n* \\n* \\n* \\n* \\n* \\n* \\n* \\n* \\n* \\n* \\n* \\n* \\n* \\n* \\n* \\n* \\n* \\n* \\n* \\n* \\n* \\n* \\n* \\n* \\n* \\n* \\n* \\n* \\n* \\n* \\n* \\n* \\n* \\n* \\n* \\n* \\n* \\n* \\n* \\n* \\n* \\n* \\n* \\n* \\n* \\n* \\n* \\n* \\n* \\n* \\n* \\n* \\n* \\n* \\n* \\n* \\n* \\n* \\n* \\n* \\n* \\n* \\n* \\n* \\n* \\n* \\n* \\n* \\n* \\n* \\n* \\n* \\n* \\n* \\n* \\n* \\n* \\n* \\n* \\n* \\n* \\n* \\n* \\n* \\n* \\n* \\n* \\n* \\n* \\n* \\n* \\n* \\n* \\n* \\n* \\n* \\n* \\n* \\n* \\n* \\n* \\n* \\n* \\n* \\n* \\n* \\n* \\n* \\n* \\n* \\n* \\n* \\n* \\n* \\n* \\n* \\n* \\n* \\n* \\n* \\n* \\n* \\n* \\n* \\n* \\n* \\n* \\n* \\n* \\n* \\n* \\n* \\n* \\n* \\n* \\n* \\n* \\n* \\n* \\n* \\n* \\n* \\n* \\n* \\n* \\n* \\n* \\n* \\n* \\n* \\n* \\n* \\n* \\n* \\n* \\n* \\n* \\n* \\n* \\n* \\n* \\n* \\n* \\n* \\n* \\n* \\n* \\n* \\n* \\n* \\n* \\n* \\n* \\n* \\n* \\n* \\n* \\n* \\n* \\n* \\n* \\n* \\n* \\n* \\n* \\n* \\n* \\n* \\n* \\n* \\n* \\n* \\n* \\n* \\n* \\n* \\n* \\n* \\n* \\n* \\n* \\n* \\n* \\n* \\n* \\n* \\n* \\n* \\n* \\n* \\n* \\n* \\n* \\n* \\n* \\n* \\n* \\n* \\n* \\n* \\n* \\n* \\n* \\n* \\n* \\n* \\n* \\n* \\n* \\n* \\n* \\n* \\n* \\n* \\n* \\n* \\n* \\n* \\n* \\n* \\n* \\n* \\n* \\n* \\n* \\n* \\n* \\n* \\n* \\n* \\n* \\n* \\n* \\n* \\n* \\n* \\n* \\n* \\n* \\n* \\n* \\n* \\n* \\n* \\n* \\n* \\n* \\n* \\n* \\n* \\n* \\n* \\n* \\n* \\n* \\n* \\n* \\n* \\n* \\n* \\n* \\n* \\n* \\n* \\n* \\n* \\n* \\n* \\n* \\n* \\n* \\n* \\n* \\n* \\n* \\n* \\n* \\n* \\n* \\n* \\n* \\n* \\n* \\n* \\n* \\n* \\n* \\n* \\n* \\n* \\n* \\n* \\n* \\n* \\n* \\n* \\n* \\n* \\n* \\n* \\n* \\n* \\n* \\n* \\n* \\n* \\n* \\n* \\n* \\n* \\n* \\n* \\n* \\n* \\n* \\n* \\n* \\n* \\n* \\n* \\n* \\n* \\n* \\n* \\n* \\n* \\n* \\n* \\n* \\n* \\n* \\n* \\n* \\n* \\n* \\n* \\n* \\n* \\n* \\n* \\n* \\n* \\n* \\n* \\n* \\n* \\n* \\n* \\n* \\n* \\n* \\n* \\n* \\n* \\n* \\n* \\n* \\n* \\n* \\n* \\n* \\n* \\n* \\n* \\n* \\n* \\n* \\n* \\n* \\n* \\n* \\n* \\n* \\n* \\n* \\n* \\n* \\n* \\n* \\n* \\n* \\n* \\n* \\n* \\n* \\n* \\n* \\n* \\n* \\n* \\n* \\n* \\n* \\n* \\n* \\n* \\n* \\n* \\n* \\n* \\n* \\n* \\n* \\n* \\n* \\n* \\n* \\n* \\n* \\n* \\n* \\n* \\n* \\n* \\n* \\n* \\n* \\n* \\n* \\n* \\n* \\n* \\n* \\n* \\n* \\n* \\n* \\n* \\n* \\n* \\n* \\n* \\n* \\n* \\n* \\n* \\n* \\n* \\n* \\n* \\n* \\n* \\n* \\n* \\n* \\n* \\n* \\n* \\n* \\n* \\n* \\n* \\n* \\n* \\n* \\n* \\n* \\n* \\n* \\n* \\n* \\n* \\n* \\n* \\n* \\n* \\n* \\n* \\n* \\n* \\n* \\n* \\n* \\n* \\n* \\n* \\n* \\n* \\n* \\n* \\n* \\n* \\n* \\n* \\n* \\n* \\n* \\n* \\n* \\n* \\n* \\n* \\n* \\n* \\n* \\n* \\n* \\n* \\n* \\n* \\n* \\n* \\n* \\n* \\n* \\n* \\n* \\n* \\n* \\n* \\n* \\n* \\n* \\n* \\n* \\n* \\n* \\n* \\n* \\n* \\n* \\n* \\n* \\n* \\n* \\n* \\n* \\n* \\n* \\n* \\n* \\n* \\n* \\n* \\n* \\n* \\n* \\n* \\n* \\n* \\n* \\n* \\n* \\n* \\n* \\n* \\n* \\n* \\n* \\n* \\n* \\n* \\n* \\n* \\n* \\n* \\n* \\n* \\n* \\n* \\n* \\n* \\n* \\n* \\n* \\n* \\n* \\n* \\n* \\n* \\n* \\n* \\n* \\n* \\n* \\n* \\n* \\n* \\n* \\n* \\n* \\n* \\n* \\n* \\n* \\n* \\n* \\n* \\n* \\n* \\n* \\n* \\n* \\n* \\n* \\n* \\n* \\n* \\n* \\n* \\n* \\n* \\n* \\n* \\n* \\n* \\n* \\n* \\n* \\n* \\n* \\n* \\n* \\n* \\n* \\n* \\n* \\n* \\n* \\n* \\n* \\n* \\n* \\n* \\n* \\n* \\n* \\n* \\n* \\n* \\n* \\n* \\n* \\n* \\n* \\n* \\n* \\n* \\n* \\n* \\n* \\n* \\n* \\n* \\n',\n",
       " '남문숯불바베큐앤치킨본점': '[숯불, 바베큐, 치킨, 후라이드, 맛있다, 맥주, 생맥주, 맛집, 최고, 친절하다, 푸짐하다, 깔끔하다, 분위기, 좋다, 즐겁다, 행복하다, 만족하다, 서비스, 계란찜, 똥집] \\n',\n",
       " '우돈향': '[흑돼지, 맛있다, 맛집, 친절하다, 뷰, 좋다, 엄청, 짱, 최고, 넘다, 쫄깃, 부드럽다, 촉촉하다, 푸짐하다, 넉넉하다, 만족, 행복하다, 신선하다, 훌륭하다, 기분] \\n',\n",
       " '역전할머니맥주 1982제주신산점': '## 제주도 맛집 리뷰 키워드 20개:\\n\\n**맛:**  맛있다,  존맛,  최악,  무난,  이상하다,  시원하다,  깔끔하다,  굿,  다양하다,  마이 찌다,  적당하다,  느므 맛있다,  라볶이,  마약 돈까스,  바지락 순두부,  오징어 입,  하이 볼,  생맥주,  맥주,  안주 \\n',\n",
       " '요강깨는장어': '[맛있다, 최고, 엄청, 잘나오다, 추천, 굿, 좋다, 넘다, 최고, 깊다, 깨끗하다, 감사하다, 장어, 맛, 사이즈, 식감, 가격, 탕, 써비스, 반찬] \\n',\n",
       " '한잔하게': '[맛있다,  좋다,  시원하다,  친절하다,  추천,  분위기,  안주,  맥주,  생맥주,  맛,  가격,  서비스,  양,  만족,  김치전,  차돌짬뽕,  레몬소주,  순대볶음,  닭발볶음,  한라산] \\n',\n",
       " '루브린': '[뷰, 맛있다, 좋다, 예쁘다, 넓다, 멋지다, 힐링, 정원, 산책, 친절하다, 커피, 빵, 디저트, 사진, 찍다, 엄청, 너무, 최고, 넓다,  추천] \\n',\n",
       " '사계의시간': '[장어덮밥, 맛있다, 가성비, 푸짐, 혜자, 신선, 양, 많다, 특, 웨이팅, 맛집, 친절, 깔끔, 든든,  비리다, 큼직,  조화, 훌륭, 만족,  추천] \\n',\n",
       " '삼일식당': '[장탕, 해장국, 맛있다, 깔끔하다, 시원하다, 진하다, 얼큰하다, 듬뿍, 부드럽다, 술, 숙취, 칼칼, 맵다, 뜨겁다, 푸짐하다, 친절하다, 넉넉하다, 맛집, 최고, 추천] \\n',\n",
       " '이어돈함덕그첫번째이야기': '[흑돼지, 맛있다, 목살, 친절하다, 부드럽다, 굽다, 맛집, 함덕, 돈, 셀프바, 밑반찬, 김치찌개, 웨이팅, 바다, 뷰, 연탄, 맥주, 소주, 술, 밥] \\n',\n",
       " '신제주보쌈': '[맛있다, 굿, 솔직하다, 보쌈, 김치찌개, 양, 채소, 리필, 센스, 친절하다, 가성비, 제주도, 굴, 맛, 개인, 푸짐하다, 든든하다, 신선하다, 매장, 존맛탱] \\n',\n",
       " '용두암해녀촌': '## 제주도 맛집 키워드:\\n\\n* 싱싱\\n* 맛있다\\n* 친절\\n* 푸짐\\n* 넉넉\\n* 신선\\n* 깔끔\\n* 든든\\n* 시원\\n* 부드럽\\n* 고소\\n* 착하다\\n* 만족\\n* 좋다\\n* 괜찮다\\n* 푸짐\\n* 넉넉\\n* 넓다\\n* 편하다\\n* 다양 \\n',\n",
       " '일품샤브샤브': '[콩물, 샤브샤브, 맛있다, 깔끔하다, 신선하다, 푸짐하다, 친절하다, 가격, 좋다, 만족스럽다, 굿, 대박, 최고, 건강하다, 톳, 육수, 짜다, 면, 죽, 콩물샤브샤브, 돼지고기, 소고기, 해물, 맛집, 추천, 넓다, 깨끗하다, 특별하다, 넘치다, 가족, 모임, 회식] \\n',\n",
       " '고미횟집': '[싱싱, 맛있다, 친절, 푸짐, 깔끔, 신선, 풍성, 엄청, 최고, 굿굿, 훌륭, 기막히다, 대박, 짱짱, 만족, 좋다, 괜찮다, 강추, 별로, 실망] \\n',\n",
       " '삼화포크': '## 제주도 맛집 키워드 20개:\\n\\n고기, 맛있다, 친절하다, 돼지껍데기, 육회, 맛집, 삼화, 푸짐하다, 신선하다, 가성비, 깔끔하다, 밑반찬, 서비스, 찌개, 술, 밥, 국수, 냉면, 묵밥, 훌륭하다 \\n',\n",
       " '눅애월': '[맛있다, 최고, 존맛, 탱, 강추, 맛집, 힐링, 녹차, 라떼, 커피, 디저트, 음료, 메뉴, 감귤, 밀크티, 스튜디오,  분위기, 친절,  좋다,  예쁘다] \\n',\n",
       " '더비치크랩 제주공항점': '[랍스터, 해산물, 뷰, 맛있다, 맛, 든든하다,  최고,  추천,  친절,  분위기,  좋다,  깔끔하다,  신선하다,  만족,  가성비,  양,  바다,  세트,  가족] \\n',\n",
       " '금능해장국': '[해장국, 맛있다, 친절하다, 푸짐하다, 든든하다, 신선하다, 깔끔하다, 시원하다, 맛집, 추천, 만족, 콩국수, 돼지국밥, 막창순대, 머릿고기, 뷰, 바다, 비양도, 숙취, 혼밥] \\n',\n",
       " '불타는숯불갈비': '[생갈비, 맛있다, 맛, 최고, 친절, 굿, 돼지고기, 밑반찬, 양념갈비, 가성비, 숯불, 맛집, 푸짐, 괜찮다, 좋다, 서비스, 분위기, 깔끔, 만족, 넉넉] \\n',\n",
       " '에이바우트커피 정부종합청사점': '## 제주도 맛집 키워드 20개:\\n\\n* 맛있다\\n* 좋다\\n* 최고다\\n* 빵빵\\n* 가성비\\n* 쾌적하다\\n* 친절하다\\n* 편안하다\\n* 조용하다\\n* 시원하다\\n* 넓다\\n* 깔끔하다\\n* 분위기\\n* 맛 \\n* 만족\\n* 서비스\\n* 양 \\n* 커피\\n* \\n* 콘센트 \\n',\n",
       " '명호마농갈비중문점': '[마농갈비, 맛있다, 엄청, 최고, 훌륭하다, 부드럽다, 신선하다, 녹는다, 깔끔하다, 푸짐하다, 친절하다, 서비스, 웨이팅, 맛집, 인기, 추천, 만족, 즐겁다, 행복하다, 재방문] \\n',\n",
       " '아리랑양곱창': '[곱창, 맛있다, 신선하다, 친절하다, 염통, 최고, 푸짐하다, 가격, 부담스럽다, 서비스, 아쉽다, 맛집, 추천, 재방문, 깔끔하다, 시원하다, 넉넉하다, 싱싱하다, 꽉차다, 만족] \\n',\n",
       " '시영통닭용담점': '[맛있다, 굿, 굿굿굿, 냄새, 좋다, 미치다, 강하다, 느끼하다, 최애, 바삭, 부드럽다, 적당하다, 간, 깔끔하다, 양, 많다, 배부르다, 가성비, 친절하다, 훌륭하다] \\n',\n",
       " '전철우해장국': '## 제주도 맛집 키워드 20개:\\n\\n1. 맛있다 \\n2. 깔끔하다 \\n3. 시원하다 \\n4. 푸짐하다 \\n5. 쫄깃하다 \\n6. 든든하다 \\n7. 깊다 \\n8. 진하다 \\n9. 맵다 \\n10. 친절하다 \\n11. 넓다 \\n12. 편하다 \\n13. 산더미 \\n14. 큼 \\n15. 싱겁다 \\n16. 짜다 \\n17. 냉면 \\n18. 해장국 \\n19. 만두 \\n20. 육수 \\n',\n",
       " '카페인어': '[뷰, 바다, 맛있다, 예쁘다, 인어, 친절하다, 좋다, 분위기, 촬영, 힐링, 드라이브, 멋지다, 카페, 넘다, 최고, 추천, 아름답다, 맛집,  인생샷,  커피] \\n',\n",
       " '배셰프': '## 제주도 맛집 리뷰 키워드 20개:\\n\\n차돌짬뽕, 짬뽕, 탕수육, 맛있다, 짜장면, 해물짬뽕, 맛, 맵다, 볶음밥, 간짜장, 곱빼기, 불향, 국물, 면, 양, 서비스, 친절하다, 분위기, 룸, 넓다 \\n',\n",
       " '남경미락': '[다금바리, 돌돔, 맛, 뷰, 맛집, 신선, 친절, 훌륭, 만족, 푸짐, 배부르다, 비싸다, 특수부위, 쫄깃, 싱싱, 깔끔, 멋지다, 웅장, 낭만, 핵맛] \\n',\n",
       " '산우정': '## 제주도 맛집 키워드:\\n\\n**맛:** 육회, 사시미, 비빔밥, 곰탕, 신선, 맛있다, 맛집, 꿀맛, 핵맛, 술안주, 육수, 고소, 달달, 매콤, 칼칼, 간, 짜다, 싱겁다,  \\n\\n**만족도:** 최고, 인생, 극락, 별미, 굿굿, 레전드, 강추, 추천, 맛도리, \\n\\n**서비스:** 친절, 배웅, 직접, 설명, 쌈 싸주다, 먹여주다, \\n\\n**분위기:** 시끌벅적, 활기차다, \\n\\n**음식량:** 많다, 넉넉하다, 추가 주문, 소자, 중 짜다, 대 짜다, \\n',\n",
       " '은희네해장국서귀포점': '## 은희 해장국 키워드:\\n\\n해장국, 맛있다, 깔끔하다, 푸짐하다, 든든하다, 시원하다, 칼칼하다, 맵다, 얼큰하다, \\n선지, 콩나물, 소고기, 계란, 깍두기, 김치, 국물, \\n친절하다, 깨끗하다, 웨이팅, 주차, \\n추천, 만족, \\n명성, 유명, \\n가성비, \\n본점, 체인, \\n제주도, 서귀포, \\n단일 메뉴, \\n해장, 아침, \\n재방문 \\n',\n",
       " '본도시락제주노형점': '[맛있다, 짱, 굿, 깔끔하다, 친절하다, 좋다, 넘다, 푸짐하다,  최고, 맛집, 쫀맛,  고급스럽다,  가성비,  건강하다,  매장,  주차장,  배달,  포장,  양,  가격] \\n',\n",
       " '마돈가제트': '[흑돼지, 맛집, 뷰, 친절, 서비스, 맛있다, 최고, 양, 가성비, 해물라면, 푸짐, 배부르다, 넉넉, 만족, 훌륭, 칭찬, 감동, 행복, 추천, 재방문] \\n',\n",
       " '오직흑돼지': '[흑돼지, 맛있다, 친절하다, 육즙, 부드럽다, 굽다, 셀프바, 곁들이다, 반찬, 푸짐하다, 깔끔하다, 분위기, 맛집, 돈마호크, 우대갈비, 겹살, 열무국수, 김치찌개, 밥, 서비스] \\n',\n",
       " '곽지가': '[흑돼지, 맛있다, 부드럽다, 쫀득, 친절하다, 밑반찬, 맛, 제주, 겹살, 생갈비, 쌈장, 숙소, 고깃집, 최고, 슴슴, 찰떡, 냉면, 재방문, 기분, 추억] \\n',\n",
       " '60계치킨제주서귀포중문점': '[바삭, 맛있다, 친절하다, 굿, 최애, 흡입, 깨끗하다, 맛, 좋다, 넘, 맛나다, 짱, 엄청, 굿굿, 뜨겁다,  달콤하다, 매콤하다, 고소하다, 양념, 촉촉하다] \\n',\n",
       " '제대로떡볶이제원점': '떡볶이, 튀김, 김밥, 맛있다, 맛, 쏘다, 맛없다, 비싸다, 친절하다, 불친절하다, 푸짐하다, 양, 많다, 적다, 맵다, 밍밍하다, 술, 분위기, 서비스, 가격 \\n',\n",
       " '바르다김선생 대정영어교육도시점': '김밥, 맛있다, 굿, 맛,  매장,  포장,  주문,  친절,  위생,  재료,  양,  가격,  만족,  분위기,  서비스,  깔끔,  신선,  새우튀김,  해물,  라면 \\n',\n",
       " '치맥집칼호텔점': '망치, 맥주, 맛있다, 자주, 동네, 치맥, 좋다, 친절하다, 칼, 호텔, 제주시, 가볍다, 말다, 별로, 가깝다, 괜찮다, 사진, 생맥주, 신선하다, 치키다, 안주, 많다, 편입, 니, 굿, 최애, 바삭, 염, 지도, 적당하다, 너무, 닭발, 종종, 매력, 떡볶이, 달달, 꽤, 자극, 길쭉하다, 모양, 먹기, 편하다 \\n',\n",
       " '돈블랙': '돈블랙 : 흑돼지, 맛집, 숙성, 맛있다, 굽다, 쫄깃, 부드럽다, 친절하다, 서비스, 볶음밥, 비빔면, 밑반찬, 푸짐, 넉넉, 만족, 깔끔, 분위기, 웨이팅, 칭찬, 강추 \\n',\n",
       " '병천한가네순대국밥': '[국밥, 뜨끈, 진짜, 구수, 고소, 완벽, 맛있다, 깔끔, 든든, 맛, 친절, 굿, 짱, 최고, 푸짐, 넉넉, 시원, 행복, 만족, 훌륭] \\n',\n",
       " '순곱이네일도점': '## 제주도 맛집 키워드: \\n\\n곱창전골, 맛있다, 중독, 맛, 육수, 칼칼하다, 맵, 찌다, 땡기다, 곱, 능데, 맛집,  배부르다, 볶음밥, 술술, 한잔, 비싸다, 추천, 생각 없이, 원래 좋아하다 \\n',\n",
       " '컴포즈커피제주노형점': '커피, 맛집, 친절, 맛있다, 좋다, 빨리, 편리, 최고, 굿, 앱, 패스, 주문, 쉐이크, 컴포즈, 맛남, 팥, 절미, 가성비, 아침, 부드럽다 \\n',\n",
       " '에이바우트커피뷰강정점': '[넓다, 맛있다, 좋다, 가성비, 편하다, 시원하다, 뷰, 분위기, 커피, 디저트, 깨끗하다, 넓다,  아늑하다,  통창,  주차,  친절,  최고,  만족,  힐링,  카공] \\n',\n",
       " '카페텐더럽': \"## 제주도 카페 '텐더럽' 키워드 20개:\\n\\n**맛:** 맛있다, 깜놀, 최고, 넘다, 부드럽다, 굳다, 폭신하다, 달다, 특색, 꾸다, 촉촉하다, 듬뿍, 씹히다, 솔티, 쌉쌀하다, 조화, 풍미,  진짜, 제대로, 순삭\\n\\n**만족도:** 좋다, 너무 좋다, 완벽, 짱짱, 강추, 굳, 힐링, 만족, 추천,  최고,  최고층, 끝내주다,  예술,  완벽, 굿굿, \\n\\n**서비스:** 친절하다, 직접,  안내,  편안하다,  \\n\\n**분위기:** 예쁘다, 아기자기, 넓다, 쾌적하다, 멋지다,  귀엽다,  인생샷,  아름답다,  포토스팟,  \\n\\n**음식량:**  듬뿍, 잔뜩,  \\n\",\n",
       " '온평꽃돈숯불구이': '[맛있다, 최고, 맛, 엄청, 진짜, 굿, 훌륭, 기막히다, 넘다, 신선, 쫄깃, 탱탱, 녹다, 담백, 일품, 풍경, 뷰, 환하다, 아름답다, 강추] \\n',\n",
       " '제주애월해물한상': '## 제주도 맛집 키워드 20개:\\n\\n갈치조림, 해물찜, 물회, 맛있다, 친절하다, 푸짐하다, 배부르다, 싱싱하다, 가성비, 밑반찬, 솥밥, 서비스, 푸짐, 만족, 최고, 맛집, 깔끔, 넉넉, 풍성, 신선 \\n',\n",
       " '이정의댁': '[고양이, 힐링, 분위기, 아늑, 조용, 맛있다, 친절, 귀엽다, 예쁘다, 맛, 디저트, 커피, 좋다, 만족, 넉넉, 푸짐, 차분, 편안, 멋지다, 춘풍] \\n',\n",
       " '쇼밥': '## 제주도 맛집 키워드 20개:\\n\\n* 신선하다\\n* 맛있다\\n* 최고\\n* 친절하다\\n* 푸짐하다\\n* 맛\\n* 육질\\n* 부드럽다\\n* 깨끗하다\\n* 정성\\n* 배려\\n* 행복하다\\n* 멋지다\\n* 뷰\\n* 촉촉하다\\n* 폭신하다\\n* 가성비\\n* 힐링\\n* 만족\\n* 재방문 \\n',\n",
       " '늘소담': '[고기국수, 솥밥, 비빔국수, 칼국수, 맛있다, 친절하다, 깔끔하다, 푸짐하다, 넉넉하다, 신선하다, 든든하다, 최고, 만족, 행복하다, 즐겁다, 개운하다, 담백하다, 시원하다, 콤달콤, 쫄깃쫄깃] \\n',\n",
       " '제주횟집애월밤바다': '## 제주도 맛집 키워드:\\n\\n**맛:** 신선, 맛있다, 고소하다, 담백하다, 탱글, 최고, 깔끔하다, 구수하다, 특별하다, 싱싱하다, \\n\\n**만족도:** 만족, 강추, 성공, 대박, 최고, 완벽, 훌륭, \\n\\n**서비스:** 친절하다, \\n\\n**분위기:** 분위기 좋다, 예쁘다, 고급스럽다, 멋있다, 넓다, 쾌적하다, \\n\\n**음식량:** 배부르다, 푸짐하다, 많다, 넉넉하다 \\n',\n",
       " '이삭토스트제주중앙여고점': '[토스트, 맛있다, 푸짐하다, 든든하다, 양배추, 신선하다, 맛, 만족, 친절하다, 깔끔하다, 빠르다, 꿀맛, 짱짱, 최고, 햄스페셜, 불갈비, 맛있댱, 굿, 넘다, 굳] \\n',\n",
       " '배고프면': '## 제주도 맛집 키워드 20개:\\n\\n**맛:** 해물라면, 국물, 시원, 깔끔, 맛있다, 푸짐, 싱싱, 쫄깃, 깊다, 매콤, 얼큰, 불향, 육즙, 촉촉, 겉바속촉, 떡갈비, 함박스테이크, 볼카츠, 청귤에이드, 돈까스 \\n\\n**만족도:** 최고, 훌륭, 강추, 인생맛집, 숨은맛집, 맛집, 추천, 만족, 넘치는, 행복, 기분좋다, 즐겁다\\n\\n**서비스:** 친절, 센스, 섬세, 배려, 서비스, 직접, 챙겨주다, 설명, 전수, 안내, \\n             \\n**분위기:** 깨끗, 잔잔, 편안, \\n\\n**음식량:** 푸짐, 양많다, 넉넉,  \\n',\n",
       " '구럼비나무': '## 제주도 맛집 키워드:\\n\\n**맛:** 맛있다, 최고, 깔끔, 듬뿍, 푸짐, 쫀득, 싱싱, 매콤, 짭짤, 고소, \\n**만족도:** 만족스럽다, 추천, 강추, 별미, 최애,  \\n**서비스:** 친절, 서비스, 빠르다, \\n**분위기:**  분위기, 시끌벅적, 깔끔, \\n**음식량:**  양 많다, 배부르다, 넉넉,  \\n**기타:**  재방문, 웨이팅, 예약, \\n',\n",
       " '강촌숯불닭갈비도남점': '[맛있다, 부드럽다, 친절하다, 최고, 곱다, 숯불, 숯향, 고급스럽다, 끝내준다, 담백하다, 좋다, 특수부위, 맛집, 닭목살, 신선하다, 야들야들하다, 쫄깃하다, 푸짐하다, 양념, 허브] \\n',\n",
       " '빽다방제주연동사거리점': '빽다방, 제주도, 커피, 맛있다, 친절하다, 가성비, 굿, 좋다, 빨리, 나오다, 짱구, 콜라보, 신제품, 달달, 스티커, 맹구, 음료, 저렴하다, 디저트, 흡족하다 \\n',\n",
       " '불로초흑돼지': '[맛있다, 친절하다, 깔끔하다, 흑돼지, 두루치기, 고기, 양, 많다, 맛집, 가성비, 푸짐하다, 만족, 행복, 굿, 최고, 대박, 든든하다, 푸짐, 넉넉하다, 즐겁다] \\n',\n",
       " '푸드드림': '[맛있다, 짱, 괜찮다, 친절하다, 뷰, 멋지다, 비싸다, 저렴하다, 좋다, 넓다, 푸짐하다, 쫄깃쫄깃, 깔끔하다, 편안하다, 신선하다, 굿, 핫도그, 맛집,  추천,  강추] \\n',\n",
       " '고성장터국밥': '## 제주도 맛집 키워드 20개:\\n\\n**맛:** 맛있다, 짱, 푸짐, 깔끔, 진하다, 시원하다, 칼칼하다, 얼큰하다, 슴슴, 녹진, 담백, 개운, 존맛, 부드럽다, 비리다, \\n\\n**만족도:** 만족, 최고, 좋다, 훌륭, 괜찮다, 추천, 강추, \\n\\n**서비스:** 친절, \\n\\n**분위기:** 정겹다, 훈훈, \\n\\n**음식량:** 푸짐, 많다, 듬뿍, \\n',\n",
       " '서민갈비': '[맛있다, 굿, 최고, 쵝오, 존맛탱, 맛집, 숯불, 갈비, 흑돼지, 생갈비, 양념갈비, 육즙, 쫀득, 냉면, 묵사발, 밑반찬, 찌개, 신선, 친절, 불친절] \\n',\n",
       " '살롱드라방': '[아늑, 편안, 맛있, 좋다, 예쁘다, 행복, 친절, 뷰, 분위기, 힐링, 최고, 맛집, 멋지다, 깔끔, 모던, 맛나다, 짱짱, 만족, 굿, 최고] \\n',\n",
       " '개미와베짱이': '맛집1 : [칼칼하다, 맛있다, 굿, 맵다, 깊이, 맛, 가성비, 양 많다, 넉넉하다, 푸짐하다, 맛있다, 친절하다, 깔끔하다, 좋다, 저렴하다, 괜찮다, 만족스럽다, 행복하다, 즐겁다, 추천] \\n',\n",
       " '뚜레쥬르 제주한경점': '## 제주도 맛집 키워드 20개:\\n\\n맛있다, 최고, 굿굿, 깔끔, 친절, 신선, 다양, 넓다, 쾌적, 깨끗, 좋다, 풍부, 맛, 만족, 서비스, 분위기, 양, 가격, 빵, 빙수 \\n',\n",
       " '육품참숯소갈비살서귀포점': '[가성비, 저렴, 맛있다, 푸짐, 괜찮다, 맛집, 숨기고 싶다, 추천, 강력 추천, 친절, 깔끔, 청결, 만족, 부드럽다, 고소하다, 매력, 술값, 저렴, 비싸지 않다, 신선하다] \\n',\n",
       " '파스쿠찌제주영어교육도시점': '[커피, 맛있다, 좋다, 굿, 넓다, 깔끔하다, 친절하다, 조용하다, 편안하다, 깨끗하다, 빙수, 젤라또, 맛, 편리하다, 넓다, 빵, 케익, 춥다, 덥다, 아쉽다] \\n',\n",
       " '노조미': '[우동, 돈까스, 텐붓가케우동, 냉모밀, 면발, 쫄깃, 탱글, 맛있다, 촉촉, 바삭, 육즙, 푸짐, 시원, 깊다, 맛집, 친절, 웨이팅, 가성비, 깔끔, 훌륭하다] \\n',\n",
       " '올레삼다정': '[존맛, 맛있다, 푸짐하다, 싱싱하다, 친절하다, 넉넉하다, 깔끔하다, 푸짐하다, 맛있다, 부드럽다, 고소하다, 짜다, 매콤하다, 달콤하다, 촉촉하다, 탱탱하다, 큼직하다, 든든하다, 만족스럽다, 혜자] \\n',\n",
       " '안거리밖거리': '## 제주도 맛집 키워드:\\n\\n* 가성비\\n* 맛있다\\n* 옥돔\\n* 돔베고기\\n* 반찬\\n* 푸짐하다\\n* 깔끔하다\\n* 친절하다\\n* 계란찜\\n* 밑반찬\\n* 구성\\n* 든든하다\\n* 맛집\\n* 좋다\\n* 짜다\\n* 양\\n* 맛\\n* 서비스\\n* 분위기\\n* 숙소 근처 \\n',\n",
       " '교촌치킨 한림협재점': '교촌치킨, 맛있다, 친절하다, 좋다, 맛, 튀김, 옥수수, 닭, 윙, 봉, 딱딱하다, 바삭, 껍질, 양념, 기름, 신선하다, 배달, 매장, 굿, 맛집 \\n',\n",
       " '조마루뼈다귀아라지구점': '마루뼈, 감자탕, 맛있다, 볶음밥, 친절하다, 든든하다, 양, 많다, 뼈, 국물, 뜨끈하다, 푸짐하다, 맛, 좋다, 놀이방, 넉넉하다, 서비스, 굿, 쉬다, 술 \\n',\n",
       " '우본가해장국': '[맛있다, 맵다, 불맛, 깔끔하다, 시원하다, 진하다, 푸짐하다, 부드럽다, 쫄깃하다, 큼지막하다, 개운하다, 얼큰하다,  최고, 짱짱, 넘다, 괜찮다, 좋다, 맛, 만족, 친절] \\n',\n",
       " '감초식당': '[국밥, 순대, 맛있다, 푸짐하다, 든든하다, 찹쌀, 맛집, 깔끔하다, 친절하다, 시원하다, 칼칼하다, 맵다, 얼큰하다, 진하다, 고소하다, 넉넉하다, 푸짐하다, 저렴하다, 식객, 유명하다] \\n',\n",
       " '투다리신제주점': '[맛있다, 굿, 꼬치, 김치우동, 투다리, 술, 안주, 친절하다, 좋다, 닭세트, 껍데기, 맵다, 양, 짜다, 분위기, 서비스, 옛추억, 맛집,  국물,  가격] \\n',\n",
       " '순심이네한우흑돼지': '## 제주도 맛집 키워드 20개:\\n\\n흑돼지, 돼지갈비, 맛있다, 친절하다, 냉면, 한라봉, 숯불, 맛집, 서비스, 분위기, 양, 가격, 맛집, 육질, 쫄깃, 푸짐, 깔끔, 신선, 야외, 룸 \\n',\n",
       " '파리바게뜨서귀포1호광장': '파리바게뜨: 빵, 맛있다, 샐러드, 좋다, 케이크, 친절하다, 샌드위치, 커피, 비싸다, 신선하다, 맛, 굿, 다양하다, 푸짐하다, 만족, 빵집, 넘다, 맛없다, 실망, 빙수 \\n',\n",
       " '바다제비': '[바삭, 맛있다, 칼국수, 수제비, 한치, 파전, 새우, 국물, 얼큰, 맵다, 시원, 쫄깃, 푸짐, 해물, 막걸리, 친절, 맛집, 최고, 추천, 든든] \\n',\n",
       " '풍채': '[파전, 계란말이, 김치전, 막걸리, 맛집, 맛있다, 술집, 추천, 친절, 좋다, 만족, 부침개,  메뉴, 주변, 가능, 심, 너무, 굿,  시청, 반] \\n',\n",
       " '정희네해물탕': '[신선, 싱싱, 맛있다, 해산물, 해물탕, 깔끔, 국물, 시원, 푸짐, 가득, 친절, 손질, 넘치다, 최고, 듬뿍, 칼국수, 끓이다, 진국, 만족, 엄청] \\n',\n",
       " '족풍': '[족발, 맛있다, 촉촉하다, 부드럽다, 쫄깃하다, 양념, 냉채, 갈비, 푸짐하다, 맛집, 친절하다, 배부르다, 최고, 막국수, 밑반찬, 구성, 알차다, 냄새, 맵다, 존맛] \\n',\n",
       " '에이바우트제대후문점': '넓다, 쾌적하다, 편하다, 맛있다, 좋다, 친절하다, 넓은, 다양하다, 넉넉하다, 깔끔하다, 시원하다, 조용하다, 편안하다, 만족스럽다, 훌륭하다, 아늑하다, 분위기, 가성비, 푸짐하다, 멋지다 \\n',\n",
       " '복음이네 김밥만두': '[김밥, 만두, 떡볶이, 맛있다, 맛, 멸치, 고기, 김치, 푸짐하다, 친절하다, 깔끔하다, 재료, 정석, 옛날, 솔솔, 냄새, 맵다, 짜다, 간, 든든하다] \\n',\n",
       " '진1926서귀포월드컵점': '[양고기, 맛있다, 맛집, 친절하다, 깔끔하다, 좋다, 숙주볶음, 곤드레밥, 명란구이, 우동, 서비스, 푸짐하다, 만족스럽다, 최고, \\n  분위기, \\n  고급스럽다,  \\n  가족, \\n  데이트, \\n  추천,  \\n  번창] \\n',\n",
       " '연안식당': '[꼬막 비빔밥, 맛있다, 존맛, 탱, 굿, 깔끔하다, 푸짐하다, 신선하다, 친절하다, 겁나다, 쫀득, 맛집, 얼큰하다, 많다, 듬뿍, 가득하다, 배부르다, 땡긴다, 최고, 좋다] \\n',\n",
       " '제주김만복성산점': '[전복김밥, 오징어무침, 성게미역국, 해물라면, 맛있다, 푸짐하다, 든든하다, 강추, 최고, 조합, 맛집, 가성비, 친절하다, 싱싱하다, 꼬들꼬들, 부드럽다, 깔끔하다, 시원하다, 만족, 푸짐] \\n',\n",
       " '제주도그릴서귀포점': '## 제주도 맛집 키워드 20개:\\n\\n흑돼지, 고기, 맛있다, 친절하다, 굽다, 볶음밥, 계란찜, 장아찌, 맛집, 추천, 숙소, 근처, 짱아찌, 돼지, 껍데기, 숯, 최고,  부드럽다,  신선하다,  분위기 \\n',\n",
       " '피커스': '하리보 해피 월드, 빵, 맛있다, 커피, 맛, 좋다, 분위기, 친절하다, 넓다, 쾌적하다, 뷰, 멋지다, 가격, 저렴하다, 빵 종류, 많다, 베이커리, 콜라보, 카페, 즐겁다 \\n',\n",
       " '식당 민남매': '[맛있다, 최고, 푸짐, 깔끔, 친절, 가성비, 착하다, 괜찮다, 좋다, 맛집, 냉삼, 정식, 갈비찜, 제육, 계란찜, 밑반찬, 푸짐, 양, 넉넉, 신선] \\n',\n",
       " '비수기애호가': '[뷰, 바다, 맛있다, 좋다, 분위기, 케이크, 커피, 친절하다, 힐링, 최고, 맛집, 넘다, 예쁘다, 짱, 탁트인, 시원하다, 아름답다, 멋지다, 훌륭하다, 만족] \\n',\n",
       " '남원바당': '## 제주도 맛집 키워드:\\n\\n돔베고기, 메다조림, 항정국, 맛있다, 최고, 가성비, 친절, 푸짐, 깔끔, 든든, 시원, 얼큰, 칼칼, 술안주, 제주향토음식, 밑반찬, 볶음밥, 밥도둑, 푸짐, 만족, 맛집, 도민맛집, 현지맛집, 추천, \\n',\n",
       " '아침바다': '[고등어회, 신선, 맛있다, 비리다, 깔끔, 친절, 양, 많다, 푸짐, 가격, 좋다, 괜찮다, 튀김, 고구마, 단호박, 지리탕, 밥, 샤리, 술술, 넘다, 최고] \\n',\n",
       " '광양왕소금깡통구이': '## 제주도 맛집 키워드 20개:\\n\\n* 맛있다\\n* 친절하다\\n* 굿\\n* 착하다\\n* 푸짐하다\\n* 맛\\n* 만족\\n* 서비스\\n* 분위기\\n* 양\\n* 돼지고기\\n* 돌솥비빔밥\\n* 콩잎\\n* 된장찌개\\n* 찌개\\n* 볶음\\n* 김치찌개\\n* 제육볶음\\n* 낙지볶음\\n* 계란말이 \\n',\n",
       " '시청골목집': '[가성비, 맛있다, 좋다, 최고, 푸짐, 넉넉, 술집, 안주, 계란찜, 닭똥집, 돼지고추장찌개, 우삼겹, 숙주볶음, 꼼장어, 고등어구이, 친절, 분위기, 시끄럽다, 넓다, 붐비다] \\n',\n",
       " '흑본오겹': '[흑돼지, 아구살, 겹살, 생갈비, 맛있다, 친절하다, 굽다, 밑반찬, 푸짐하다, 넉넉하다, 숯, 맛집, 추천, 만족, 서비스, 분위기, 깔끔하다, 즐겁다, 행복하다, 편하다] \\n',\n",
       " '큰집어멍': '[해물탕, 맛있다, 싱싱하다, 신선하다, 푸짐하다, 양 많다, 깔끔하다, 친절하다, 솥밥, 전복, 갈치 조림, 국물, 맛집, 든든하다, 칼국수, 밑반찬, 돌솥밥, 옥돔 구이,  재료, 만족] \\n',\n",
       " '앞돈지': '## 제주도 맛집 키워드:\\n\\n1. 갈치조림\\n2. 쥐치조림\\n3. 물회\\n4. 맛있다\\n5. 신선하다\\n6. 푸짐하다\\n7. 친절하다\\n8. 깔끔하다\\n9. 비싸다\\n10. 훌륭하다\\n11. 추천\\n12. 재방문\\n13. 싱겁다\\n14. 짜다\\n15. 궁합\\n16. 든든하다\\n17. 시원하다\\n18. 푸짐\\n19. 만족\\n20. 불친절 \\n',\n",
       " '제주힐링돼지': '## 힐링돼지: [오션뷰, 흑돼지, 목살, 뷰, 친절, 맛있다, 힐링, 분위기, 맛집,  최고,  추천,  재방문,  예약,  서비스,  만족,  풍경,  고기,  야외,  인생] \\n',\n",
       " '소담한봉봉': '## 제주도 맛집 리뷰 키워드 20개:\\n\\n1. 맛있다\\n2. 꼬치\\n3. 등심\\n4. 한우\\n5. 육회\\n6. 숯불\\n7. 화로\\n8. 맛집\\n9. 친절\\n10. 분위기\\n11. 만족\\n12. 볶음밥\\n13. 든든\\n14. \\n15. \\n16. \\n17. \\n18. \\n19. \\n20. \\n',\n",
       " '쭈꾸미달인': '쭈꾸미, 맛있다, 맵다, 친절하다, 서비스, 볶음밥, 우동 사리, 맛집, 최고, 통통하다, 푸짐하다, 양 많다, 배터지다, 아늑하다, 분위기, 굿, 좋다, 술술 넘어가다, 신선하다, 깔끔하다 \\n',\n",
       " '중앙통닭': '[마늘, 맛있다, 양, 많다, 바삭, 부드럽다, 튀김, 옷, 촉촉, 갓 튀긴, 따뜻하다, 맥주,  포장, 웨이팅, 시장,  본점,  추천,  친절하다,  가성비,  후라이드] \\n',\n",
       " '대풍해장국': '[해장국, 장탕, 맛있다, 푸짐하다, 셀프, 계란후라이, 친절하다, 굿, 맛집, 최고, 든든하다, 양 많다, 깔끔하다, 꿀맛, 엄지척, 푸짐, 넉넉하다, 시원하다, 뜨끈하다,  부드럽다] \\n',\n",
       " '탐라간장게장': '## 탐라 간장게장 : [간장게장, 맛있다, 싱싱하다, 꽉차다, 통통하다, 짜지 않다, 비리지 않다, 실하다, 푸짐하다, 친절하다, 깔끔하다, 택배, 포장,  재방문, 인생 게장, 최고, 맛집, 대박, 추천, 만족] \\n',\n",
       " '떡하니': '[문어, 떡볶이, 맛있다, 볶음밥, 친절하다, 쫄깃, 맵다, 맛,  최고,  배부르다,  좋다,  특별하다,  가격,  추천,  분위기,  넉넉하다,  푸짐하다,  만족,  감성,  주차] \\n',\n",
       " '맛나감자탕제주1호점': '[고기, 부드럽다, 맛있다, 뼈찜, 푸짐, 겉절이, 최고, 친절, 깔끔, 넉넉, 듬뿍, 맛집, 진하다, 얼큰, 시원, 신선, 볶음밥, 뜨끈, 해장국, 만족] \\n',\n",
       " '황금가마솥밥': '[맛있다, 최고, 맛집,  갈치, 솥밥, 밑반찬,  간장게장, 친절, 푸짐, 넉넉,  통통,  싱싱,  부드럽다,  깔끔,  정갈,  구수,  매콤,  달콤,  비리다,  만족] \\n',\n",
       " '천돈가 중문본점': '[흑돼지, 꽃목살, 맛있다, 굽다, 소스, 바질, 명란, 김치찌개, 계란찜, 친절하다, 푸짐하다, 넉넉하다, 찰떡궁합, 육즙, 부드럽다, 쫄깃, 쫀득, 싱싱하다, 신선하다, 깔끔하다] \\n',\n",
       " '김반장': '[쪽갈비, 맛있다, 최고, 맛, 뼈국, 친절하다, 밑반찬, 푸짐하다, 깨끗하다, 굿, 맛집, 존맛탱, 껍데기, 계란찜, 서비스, 짜다, 불친절, 맵다, 비싸다, 실망] \\n',\n",
       " '흑돼지거리 탑돈': '[흑돼지, 맛있다, 굽다, 탑돈, 쫀득, 식감, 맛집, 저렴하다, 서비스, 친절하다, 배부르다, 만족, 푸짐, 계란찜, 냉면, 볶음밥, 깔끔, 싱싱, 넉넉, 가성비] \\n',\n",
       " '더스푼': '[맛있다, 훌륭하다, 신선하다, 맛, 핵존맛, 옴청 맛있다, 최고, 맛집, 짜다, \\n  강추, 괜찮다, 좋다, 깔끔하다, 편안하다,  만족, 행복하다, \\n  분위기, 친절하다, 서비스,  가성비] \\n',\n",
       " '송탄부대찌개집': '[맛있다, 깔끔하다, 친절하다, 푸짐하다, 넉넉하다, 든든하다, 시원하다, 얼큰하다, 개운하다,  좋다, 굿, 최고, 훌륭하다, 맛집, 추천, 만족, 칭찬,  별미,  기대 이상,  실망] \\n',\n",
       " '그리그리카페': '카페 : 분위기, 예쁘다, 넓다, 친절하다, 맛있다, 좋다, 깔끔하다, 조용하다, 깨끗하다, 넓다, 편안하다, 아늑하다, 넉넉하다, 멋지다,  시원하다,  따뜻하다,  화려하다,  세련되다,  고급스럽다,  독특하다 \\n음식 : 맛있다,  커피, 디저트, 빵, 스무디, 젤라또,  소금빵, 휘낭시에,  라떼,  카푸치노,  조합,  맛집,  존맛,  맛있다,  달콤하다,  고소하다,  상큼하다,  부드럽다,  진하다 \\n서비스 : 친절하다,  좋다,  만족스럽다,  빠르다,  친절,  응대,  기분좋다,  만족,  기억,  감사,  따뜻하다,  편안하다,  친절,  세심하다,  배려심 \\n만족도 : 좋다, 굿, 굿굿굿, 최고,  최상,  만족,  행복,  기분 좋다,  추천,  재방문,  또 가고 싶다,  일품,  별 다섯 개,  완벽,  좋아요,  강력 추천,  훌륭,  대박,  좋은 경험,  만족스럽다 \\n기타 :  카페라떼,  조명,  사진,  포토존,  테라스,  야외,  좌석,  쿠션,  공간,  인테리어,  분위기,  날씨,  비,  햇살,  제주도,  제주,  시청,  주변,  근처,  가깝다,  멀다 \\n',\n",
       " '루스트플레이스 함덕해수욕장점': '## 루스트 레이스 키워드:\\n\\n뷰, 가성비, 맛, 돈까스, 파스타, 피자, 생맥주, 친절, 깔끔, 분위기, 해변, 바다, 훌륭, 좋다, 즐겁다, 만족, 푸짐, 넉넉, 괜찮다, 최고 \\n',\n",
       " '성산달래식당': '[맛있다, 최고, 싱싱하다, 부드럽다, 푸짐하다, 신선하다, 깔끔하다, 담백하다, 촉촉하다, 쫄깃하다, 녹진하다, 깊다, 매콤하다, 감칠맛, 고소하다, 쫀득하다, 맛깔나다, 훌륭하다, 넘다, 미치다] \\n',\n",
       " '남춘': '남추다, 김밥, 콩국수, 맛있다, 고소하다, 짭짤하다, 웨이팅, 깔끔하다, 든든하다, 진하다, 멸치국수, 수제비, 비빔국수, 고기국수, 푸짐하다,  줄,  친절하다,  최고,  실망,  가성비 \\n',\n",
       " '흑도니': '[흑돼지, 맛있다, 친절하다, 껍질, 쫄깃, 부드럽다, 촉촉, 고사리, 새송이, 굽다, 돈마호크, 최상급, 밥, 볶음밥, 김치찌개, 셀프바, 반찬, 리필, 목살, 뼈] \\n',\n",
       " '큰가름본점': '해물 감자탕, 감자탕, 맛있다, 푸짐하다, 친절하다, 깔끔하다, 싱싱하다, 부드럽다, 핵존맛, 존맛탱, 볶음밥, 국물, 맛집, 최고, 강추, 만족, 굿, 시원하다, 진하다,  배부르다 \\n',\n",
       " '뚜레쥬르 제주아라아이파크점': '뚜레쥬르: 빵, 맛있다, 친절하다, 굿, 좋다, 샌드위치, 커피, 식빵, 소보로, 모카, 맛, 가격, 할인, 다양하다, 많다, 기프티콘, 깔끔하다, 포인트, 결제, 구매 \\n',\n",
       " '마라힐링': '[맛있다, 넘다, 꾸다, 친절하다, 좋다, 시원하다, 맵다, 매콤, 깔끔하다, 가성비, 괜찮다, 맛있다, 뜨겁다, 맵, 진하다, 짜다, 많다, 셀프, 힐링, 저렴하다] \\n',\n",
       " '곽지해녀의집': '[신선, 맛있다, 최고, 좋다, 뷰, 친절, 깔끔, 싱싱, 푸짐, 양 많다,  강추, 만족,  해산물,  고소,  쫄깃,  탱탱,  비리다,  달콤,  분위기,  바다] \\n',\n",
       " '파페로(papero)': '파 페로 : 화덕, 피자, 맛있다, 쫄깃, 맛, 분위기, 좋다, 친절, 와인, 맥주, 서비스, 훌륭, 만족, 추천, 최고, \\n          강력, 즐겁, 행복, 감동, 기념일 \\n'}"
      ]
     },
     "execution_count": 47,
     "metadata": {},
     "output_type": "execute_result"
    }
   ],
   "source": [
    "mct_keyword"
   ]
  }
 ],
 "metadata": {
  "kernelspec": {
   "display_name": "bigcon",
   "language": "python",
   "name": "python3"
  },
  "language_info": {
   "codemirror_mode": {
    "name": "ipython",
    "version": 3
   },
   "file_extension": ".py",
   "mimetype": "text/x-python",
   "name": "python",
   "nbconvert_exporter": "python",
   "pygments_lexer": "ipython3",
   "version": "3.11.10"
  }
 },
 "nbformat": 4,
 "nbformat_minor": 2
}
